{
  "nbformat": 4,
  "nbformat_minor": 0,
  "metadata": {
    "colab": {
      "provenance": [],
      "include_colab_link": true
    },
    "kernelspec": {
      "name": "python3",
      "display_name": "Python 3"
    },
    "language_info": {
      "name": "python"
    }
  },
  "cells": [
    {
      "cell_type": "markdown",
      "metadata": {
        "id": "view-in-github",
        "colab_type": "text"
      },
      "source": [
        "<a href=\"https://colab.research.google.com/github/erlonL/testes-inferencia/blob/main/Zscore.ipynb\" target=\"_parent\"><img src=\"https://colab.research.google.com/assets/colab-badge.svg\" alt=\"Open In Colab\"/></a>"
      ]
    },
    {
      "cell_type": "markdown",
      "source": [
        "X: média amostral\n",
        "\n",
        "n: número de valores da amostra\n",
        "\n",
        "alpha: nivel de significância\n",
        "\n",
        "sigma: desvio padrão\n",
        "\n",
        "mu: média populacional\n",
        "\n",
        "H0: a amostra provém de uma população com determinada média (mu = mu0)\n",
        "\n",
        "H1: contesta a hipótese nula (mu != mu0)"
      ],
      "metadata": {
        "id": "ACWqxrHFm038"
      }
    },
    {
      "cell_type": "code",
      "execution_count": 1,
      "metadata": {
        "id": "suRnkh4Ul509"
      },
      "outputs": [],
      "source": [
        "import pandas as pd\n",
        "import numpy as np\n",
        "from scipy import stats\n",
        "import matplotlib.pyplot as plt\n",
        "import seaborn as sns\n",
        "import random"
      ]
    },
    {
      "cell_type": "markdown",
      "source": [
        "## Teste Z de Hipótese p/ Média Populacional Unilateral"
      ],
      "metadata": {
        "id": "IzjY7_ZWv9wb"
      }
    },
    {
      "cell_type": "code",
      "source": [
        "X = 10\n",
        "n = 100\n",
        "alpha = 0.05\n",
        "mu0 = 5\n",
        "sigma = 2\n",
        "amostra = np.random.normal(loc=mu0, scale=sigma, size=n)"
      ],
      "metadata": {
        "id": "REl97WBVqGDa"
      },
      "execution_count": 33,
      "outputs": []
    },
    {
      "cell_type": "code",
      "source": [
        "np.mean(amostra)"
      ],
      "metadata": {
        "id": "kHiHViYMk4l8",
        "outputId": "84f8e571-52e4-4dea-9b25-0c4893c819ad",
        "colab": {
          "base_uri": "https://localhost:8080/"
        }
      },
      "execution_count": 34,
      "outputs": [
        {
          "output_type": "execute_result",
          "data": {
            "text/plain": [
              "4.9465527293998255"
            ]
          },
          "metadata": {},
          "execution_count": 34
        }
      ]
    },
    {
      "cell_type": "code",
      "source": [
        "Z = (X - mu0) / (sigma/(n)**(1/2))\n",
        "print(Z)"
      ],
      "metadata": {
        "colab": {
          "base_uri": "https://localhost:8080/"
        },
        "id": "-PgM7KQzpx0A",
        "outputId": "86418838-fea0-4d32-e224-cf3163843eda"
      },
      "execution_count": 35,
      "outputs": [
        {
          "output_type": "stream",
          "name": "stdout",
          "text": [
            "25.0\n"
          ]
        }
      ]
    },
    {
      "cell_type": "code",
      "source": [
        "ppf = stats.norm.ppf(alpha)\n",
        "ppf"
      ],
      "metadata": {
        "colab": {
          "base_uri": "https://localhost:8080/"
        },
        "id": "xYrpyP0LmmJp",
        "outputId": "3999b1f9-bb47-4d7b-f140-e92eacb2f7bb"
      },
      "execution_count": 36,
      "outputs": [
        {
          "output_type": "execute_result",
          "data": {
            "text/plain": [
              "-1.6448536269514729"
            ]
          },
          "metadata": {},
          "execution_count": 36
        }
      ]
    },
    {
      "cell_type": "code",
      "source": [
        "if Z < ppf:\n",
        "    print(\"Com 95% de confiança, temos provas para rejeitar H0.\")\n",
        "else:\n",
        "    print(\"Com 95% de confiança, não temos provas para rejeitar H0\")"
      ],
      "metadata": {
        "colab": {
          "base_uri": "https://localhost:8080/"
        },
        "id": "NMsgyWR6qgCG",
        "outputId": "38cc48d8-a672-44d0-ab96-c012d5f9a2bc"
      },
      "execution_count": 37,
      "outputs": [
        {
          "output_type": "stream",
          "name": "stdout",
          "text": [
            "Com 95% de confiança, não temos provas para rejeitar H0\n"
          ]
        }
      ]
    },
    {
      "cell_type": "code",
      "source": [
        "plt.hist(amostra)"
      ],
      "metadata": {
        "id": "EUtPmQYjlUMV",
        "outputId": "4dc79543-95cb-4631-d2d5-0ce963fa168b",
        "colab": {
          "base_uri": "https://localhost:8080/",
          "height": 517
        }
      },
      "execution_count": 38,
      "outputs": [
        {
          "output_type": "execute_result",
          "data": {
            "text/plain": [
              "(array([ 1.,  3.,  5., 18., 22., 29., 15.,  3.,  2.,  2.]),\n",
              " array([-1.20452546,  0.0393204 ,  1.28316626,  2.52701213,  3.77085799,\n",
              "         5.01470385,  6.25854971,  7.50239558,  8.74624144,  9.9900873 ,\n",
              "        11.23393317]),\n",
              " <BarContainer object of 10 artists>)"
            ]
          },
          "metadata": {},
          "execution_count": 38
        },
        {
          "output_type": "display_data",
          "data": {
            "text/plain": [
              "<Figure size 640x480 with 1 Axes>"
            ],
            "image/png": "[encoded data removed]"
          },
          "metadata": {}
        }
      ]
    },
    {
      "cell_type": "markdown",
      "source": [
        "## Teste Z de Hipótese p/ Média Populacional Bilateral"
      ],
      "metadata": {
        "id": "BxQcAflXwI2T"
      }
    },
    {
      "cell_type": "code",
      "source": [
        "ppf = stats.norm.ppf(alpha/2)\n",
        "ppf"
      ],
      "metadata": {
        "id": "Vo0LvsGtvtrJ",
        "outputId": "07c9f006-48c1-4aea-a3b0-14dd7dd02f29",
        "colab": {
          "base_uri": "https://localhost:8080/"
        }
      },
      "execution_count": 40,
      "outputs": [
        {
          "output_type": "execute_result",
          "data": {
            "text/plain": [
              "-1.9599639845400545"
            ]
          },
          "metadata": {},
          "execution_count": 40
        }
      ]
    },
    {
      "cell_type": "code",
      "source": [
        "if Z < ppf or Z > -ppf:\n",
        "    print(\"Com 95% de confiança, temos provas para rejeitar H0.\")\n",
        "else:\n",
        "    print(\"Com 95% de confiança, não temos provas para rejeitar H0\")"
      ],
      "metadata": {
        "id": "NjYN5tYcwqO6",
        "outputId": "2dac20e5-7240-4be2-a238-77a536ae7987",
        "colab": {
          "base_uri": "https://localhost:8080/"
        }
      },
      "execution_count": 41,
      "outputs": [
        {
          "output_type": "stream",
          "name": "stdout",
          "text": [
            "Com 95% de confiança, temos provas para rejeitar H0.\n"
          ]
        }
      ]
    },
    {
      "cell_type": "markdown",
      "source": [
        "## Teste t-student de Hipótese p/ Média (sigma desconhecido)"
      ],
      "metadata": {
        "id": "smWvKTJh1YI1"
      }
    },
    {
      "cell_type": "code",
      "source": [
        "# exemplo\n",
        "\n",
        "mu0 = 18\n",
        "n = 25\n",
        "X = 16.808\n",
        "S = 2.733\n",
        "alpha = '0.010'"
      ],
      "metadata": {
        "id": "r54bPWtxhpX_"
      },
      "execution_count": 42,
      "outputs": []
    },
    {
      "cell_type": "code",
      "source": [
        "Tcalc = (X - mu0) / (S / (n)**(1/2) )\n",
        "print(Tcalc)"
      ],
      "metadata": {
        "colab": {
          "base_uri": "https://localhost:8080/"
        },
        "id": "tll6tTL7hJFs",
        "outputId": "51bae8a9-ac5a-446a-db02-fb5a97954db1"
      },
      "execution_count": 43,
      "outputs": [
        {
          "output_type": "stream",
          "name": "stdout",
          "text": [
            "-2.1807537504573733\n"
          ]
        }
      ]
    },
    {
      "cell_type": "code",
      "source": [
        "import pandas as pd\n",
        "from scipy.stats import t as t_student\n",
        "\n",
        "tabela_t_student = pd.DataFrame(\n",
        "    [],\n",
        "    index=[i for i in range(1, 31)],\n",
        "    columns = [i / 100 for i in range(10, 0, -1)]\n",
        ")\n",
        "\n",
        "for index in tabela_t_student.index:\n",
        "    for column in tabela_t_student.columns:\n",
        "        tabela_t_student.loc[index, column] = t_student.ppf(1 - float(column) / 2, index)\n",
        "\n",
        "index=[('Graus de Liberdade (n - 1)', i) for i in range(1, 31)]\n",
        "tabela_t_student.index = pd.MultiIndex.from_tuples(index)\n",
        "\n",
        "columns = [(\"{0:0.3f}\".format(i / 100), \"{0:0.3f}\".format((i / 100) / 2)) for i in range(10, 0, -1)]\n",
        "tabela_t_student.columns = pd.MultiIndex.from_tuples(columns)\n",
        "\n",
        "tabela_t_student.rename_axis(['Unicaudal', 'Bicaudal'], axis=1, inplace = True)"
      ],
      "metadata": {
        "id": "ozcf77VlI6t3"
      },
      "execution_count": 44,
      "outputs": []
    },
    {
      "cell_type": "code",
      "source": [
        "Tc = tabela_t_student[alpha].iloc[(n-1)-1][0]\n",
        "Tc"
      ],
      "metadata": {
        "id": "8VIgQLCJY8Od",
        "outputId": "04157ccb-0ef4-4265-c43b-613fc47490a0",
        "colab": {
          "base_uri": "https://localhost:8080/"
        }
      },
      "execution_count": 46,
      "outputs": [
        {
          "output_type": "execute_result",
          "data": {
            "text/plain": [
              "2.796939504772804"
            ]
          },
          "metadata": {},
          "execution_count": 46
        }
      ]
    },
    {
      "cell_type": "code",
      "source": [
        "# Teste Unicaudal à esquerda\n",
        "if Tcalc < Tc:\n",
        "    print(\"Não temos evidências para rejeitar H0\")\n",
        "else:\n",
        "    print(\"temos evidências para rejeitar H0\")"
      ],
      "metadata": {
        "colab": {
          "base_uri": "https://localhost:8080/"
        },
        "id": "ThfvGITtZGOe",
        "outputId": "493e68d9-52c2-4d49-e2de-49eb4a96bea4"
      },
      "execution_count": null,
      "outputs": [
        {
          "output_type": "stream",
          "name": "stdout",
          "text": [
            "Não temos evidências para rejeitar H0\n"
          ]
        }
      ]
    },
    {
      "cell_type": "code",
      "source": [
        "# Teste Bicaudal\n",
        "if Tcalc > -Tc or Tcalc < Tc:\n",
        "    print(\"Não temos evidências para rejeitar H0\")\n",
        "else:\n",
        "    print(\"Temos evidências para rejeitar H0\")"
      ],
      "metadata": {
        "id": "QnlxjPOPm433",
        "outputId": "41fdac3d-7e5b-4207-9e5b-8c0e3a623d76",
        "colab": {
          "base_uri": "https://localhost:8080/"
        }
      },
      "execution_count": 48,
      "outputs": [
        {
          "output_type": "stream",
          "name": "stdout",
          "text": [
            "temos evidências para rejeitar H0\n"
          ]
        }
      ]
    }
  ]
}