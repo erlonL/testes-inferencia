{
  "nbformat": 4,
  "nbformat_minor": 0,
  "metadata": {
    "colab": {
      "provenance": [],
      "include_colab_link": true
    },
    "kernelspec": {
      "name": "python3",
      "display_name": "Python 3"
    },
    "language_info": {
      "name": "python"
    }
  },
  "cells": [
    {
      "cell_type": "markdown",
      "metadata": {
        "id": "view-in-github",
        "colab_type": "text"
      },
      "source": [
        "<a href=\"https://colab.research.google.com/github/erlonL/testes-inferencia/blob/main/Zscore.ipynb\" target=\"_parent\"><img src=\"https://colab.research.google.com/assets/colab-badge.svg\" alt=\"Open In Colab\"/></a>"
      ]
    },
    {
      "cell_type": "markdown",
      "source": [
        "X: média amostral\n",
        "\n",
        "n: número de valores da amostra\n",
        "\n",
        "alpha: nivel de significância\n",
        "\n",
        "sigma: desvio padrão\n",
        "\n",
        "mu: média populacional\n",
        "\n",
        "H0: a amostra provém de uma população com determinada média (mu = mu0)\n",
        "\n",
        "H1: contesta a hipótese nula (mu != mu0)"
      ],
      "metadata": {
        "id": "ACWqxrHFm038"
      }
    },
    {
      "cell_type": "code",
      "execution_count": 14,
      "metadata": {
        "id": "suRnkh4Ul509"
      },
      "outputs": [],
      "source": [
        "import pandas as pd\n",
        "import numpy as np\n",
        "import math\n",
        "from scipy import stats\n",
        "import matplotlib.pyplot as plt\n",
        "import seaborn as sns\n",
        "import random"
      ]
    },
    {
      "cell_type": "markdown",
      "source": [
        "## Teste Z de Hipótese p/ Média Populacional Unilateral"
      ],
      "metadata": {
        "id": "IzjY7_ZWv9wb"
      }
    },
    {
      "cell_type": "code",
      "source": [
        "def generate_normal_random_values(count, min_val, max_val):\n",
        "    mn = (max_val - min_val) / 2\n",
        "\n",
        "    X = np.random.normal(loc=mn, scale=mn/3, size=count)\n",
        "    X = np.clip(X, min_val, max_val)\n",
        "\n",
        "    return X"
      ],
      "metadata": {
        "id": "gzba8Esg3BhF"
      },
      "execution_count": 8,
      "outputs": []
    },
    {
      "cell_type": "code",
      "source": [
        "def media_amostral(numero):\n",
        "    numero_arredondado_baixo = math.floor(numero)\n",
        "    numero_arredondado_cima = math.ceil(numero)\n",
        "\n",
        "    media = random.uniform(numero_arredondado_baixo, numero_arredondado_cima)\n",
        "\n",
        "    return media"
      ],
      "metadata": {
        "id": "gSXi25FG64HO"
      },
      "execution_count": 9,
      "outputs": []
    },
    {
      "cell_type": "code",
      "source": [
        "def treat_values(values):\n",
        "    values = [round(x, ndigits=0) for x in values]\n",
        "    values = np.array(values)\n",
        "    return values"
      ],
      "metadata": {
        "id": "vXOonimb3J6B"
      },
      "execution_count": 10,
      "outputs": []
    },
    {
      "cell_type": "code",
      "source": [
        "def statistics(values):\n",
        "    # Informações importantes sobre o conjunto de valores\n",
        "\n",
        "    media = np.mean(values)\n",
        "    var = np.var(values)\n",
        "    dp = np.std(values)\n",
        "    cont = len(values)\n",
        "\n",
        "    return media, var, dp, cont"
      ],
      "metadata": {
        "id": "LXXlTHmn4NiQ"
      },
      "execution_count": 11,
      "outputs": []
    },
    {
      "cell_type": "code",
      "source": [
        "def Zscore(X, n, alpha, mu0, sigma, teste):\n",
        "  Z = (X - mu0) / (sigma/(n)**(1/2))\n",
        "\n",
        "  if teste == 'UNILATERAL':\n",
        "\n",
        "    ppf = stats.norm.ppf(alpha)\n",
        "\n",
        "    if Z < ppf:\n",
        "      #print(\"Com 95% de confiança, temos provas para rejeitar H0.\")\n",
        "      return False\n",
        "    else:\n",
        "      #print(\"Com 95% de confiança, não temos provas para rejeitar H0\")\n",
        "      return True\n",
        "\n",
        "  elif teste == 'BILATERAL':\n",
        "    ppf = stats.norm.ppf(alpha/2)\n",
        "\n",
        "    if Z < ppf or Z > -ppf:\n",
        "      #print(\"Com 95% de confiança, temos provas para rejeitar H0.\")\n",
        "      return False\n",
        "    else:\n",
        "      #print(\"Com 95% de confiança, não temos provas para rejeitar H0\")\n",
        "      return True"
      ],
      "metadata": {
        "id": "S4_mdvGc0khz"
      },
      "execution_count": 25,
      "outputs": []
    },
    {
      "cell_type": "code",
      "source": [
        "rdf = pd.DataFrame(columns=['Amostra', 'n', 'Média', 'Variância', 'Desvio Padrão', 'Resultado', 'Resultado_bib', 'Resultado_final'])\n",
        "is_accepted = []\n",
        "is_accepted_test = []\n",
        "\n",
        "fig, axs = plt.subplots(nrows=4, ncols=4, figsize=(20, 20))\n",
        "plt.subplots_adjust(wspace=0.4, hspace=0.4)\n",
        "\n",
        "for h in range(4):\n",
        "  is_accepted_child = []\n",
        "  is_accepted_test_child = []\n",
        "  for j in range(4):\n",
        "    valores = generate_normal_random_values(30, 10, 100)\n",
        "    valores = treat_values(valores)\n",
        "    mu, var, dp, cont = statistics(valores)\n",
        "    media = media_amostral(mu)\n",
        "\n",
        "    is_accepted_child.append(Zscore(media, cont, 0.05, mu, dp))\n",
        "    if(is_accepted_child[j]):\n",
        "      axs[h][j].set_title('Amostra provem de uma população com media ')\n",
        "    else:\n",
        "      axs[h][j].set_title('Amostra não vem de uma população com media ')\n",
        "\n",
        "    axs[h][j].set_xlabel('Valor')\n",
        "    axs[h][j].set_ylabel('Frequência')\n",
        "    axs[h][j].grid(True)\n",
        "    sns.histplot(valores, ax=axs[h][j])\n",
        "\n",
        "    linha = {}\n",
        "    linha['Amostra'] = f'{h+1}-{j+1}'\n",
        "    linha['n'] = cont\n",
        "    linha['Média'] = media\n",
        "    linha['Variância'] = var\n",
        "    linha['Desvio Padrão'] = dp\n",
        "    linha['Resultado'] = is_accepted_child[j]\n",
        "    linha['Resultado_bib'] = is_accepted_test_child[j]\n",
        "    linha['Resultado_final'] = is_accepted_child[j] == is_accepted_test_child[j]\n",
        "\n",
        "    rdf = pd.concat([rdf, pd.DataFrame([linha])])\n",
        "\n",
        "  is_accepted.append(is_accepted_child)\n",
        "  is_accepted_test.append(is_accepted_test_child)\n",
        "\n",
        "plt.show()"
      ],
      "metadata": {
        "id": "_116c4dJ133O"
      },
      "execution_count": null,
      "outputs": []
    },
    {
      "cell_type": "code",
      "source": [
        "X = 10\n",
        "n = 100\n",
        "alpha = 0.05\n",
        "mu0 = 5\n",
        "sigma = 2\n",
        "amostra = np.random.normal(loc=mu0, scale=sigma, size=n)"
      ],
      "metadata": {
        "id": "REl97WBVqGDa"
      },
      "execution_count": null,
      "outputs": []
    },
    {
      "cell_type": "code",
      "source": [
        "Zscore(X, n, alpha, mu0, sigma, 'UNILATERAL')"
      ],
      "metadata": {
        "id": "w5QhaBL4_8n6",
        "outputId": "f3a1ff4f-545a-492d-a39e-4ac03f0cc664",
        "colab": {
          "base_uri": "https://localhost:8080/"
        }
      },
      "execution_count": 26,
      "outputs": [
        {
          "output_type": "execute_result",
          "data": {
            "text/plain": [
              "True"
            ]
          },
          "metadata": {},
          "execution_count": 26
        }
      ]
    },
    {
      "cell_type": "code",
      "source": [
        "plt.hist(amostra)"
      ],
      "metadata": {
        "id": "EUtPmQYjlUMV",
        "outputId": "8b00a699-912f-42ec-80ec-3450dcc9b2c5",
        "colab": {
          "base_uri": "https://localhost:8080/",
          "height": 517
        }
      },
      "execution_count": 23,
      "outputs": [
        {
          "output_type": "execute_result",
          "data": {
            "text/plain": [
              "(array([ 2.,  4.,  9., 16., 17., 21., 11., 10.,  9.,  1.]),\n",
              " array([0.61191403, 1.49020305, 2.36849206, 3.24678108, 4.1250701 ,\n",
              "        5.00335911, 5.88164813, 6.75993714, 7.63822616, 8.51651517,\n",
              "        9.39480419]),\n",
              " <BarContainer object of 10 artists>)"
            ]
          },
          "metadata": {},
          "execution_count": 23
        },
        {
          "output_type": "display_data",
          "data": {
            "text/plain": [
              "<Figure size 640x480 with 1 Axes>"
            ],
            "image/png": "[encoded data removed]"
          },
          "metadata": {}
        }
      ]
    },
    {
      "cell_type": "markdown",
      "source": [
        "## Teste Z de Hipótese p/ Média Populacional Bilateral"
      ],
      "metadata": {
        "id": "BxQcAflXwI2T"
      }
    },
    {
      "cell_type": "code",
      "source": [
        "Zscore(X, n, alpha, mu0, sigma, 'BILATERAL')"
      ],
      "metadata": {
        "id": "8DoJF9MwBVtY",
        "outputId": "5eb5fa39-70cb-4448-b30b-0887e896af92",
        "colab": {
          "base_uri": "https://localhost:8080/"
        }
      },
      "execution_count": 27,
      "outputs": [
        {
          "output_type": "execute_result",
          "data": {
            "text/plain": [
              "False"
            ]
          },
          "metadata": {},
          "execution_count": 27
        }
      ]
    },
    {
      "cell_type": "markdown",
      "source": [
        "## Teste t-student de Hipótese p/ Média (sigma desconhecido)"
      ],
      "metadata": {
        "id": "smWvKTJh1YI1"
      }
    },
    {
      "cell_type": "code",
      "source": [
        "import pandas as pd\n",
        "from scipy.stats import t as t_student\n",
        "\n",
        "tabela_t_student = pd.DataFrame(\n",
        "    [],\n",
        "    index=[i for i in range(1, 31)],\n",
        "    columns = [i / 100 for i in range(10, 0, -1)]\n",
        ")\n",
        "\n",
        "for index in tabela_t_student.index:\n",
        "    for column in tabela_t_student.columns:\n",
        "        tabela_t_student.loc[index, column] = t_student.ppf(1 - float(column) / 2, index)\n",
        "\n",
        "index=[('Graus de Liberdade (n - 1)', i) for i in range(1, 31)]\n",
        "tabela_t_student.index = pd.MultiIndex.from_tuples(index)\n",
        "\n",
        "columns = [(\"{0:0.3f}\".format(i / 100), \"{0:0.3f}\".format((i / 100) / 2)) for i in range(10, 0, -1)]\n",
        "tabela_t_student.columns = pd.MultiIndex.from_tuples(columns)\n",
        "\n",
        "tabela_t_student.rename_axis(['Unicaudal', 'Bicaudal'], axis=1, inplace = True)"
      ],
      "metadata": {
        "id": "ozcf77VlI6t3"
      },
      "execution_count": 28,
      "outputs": []
    },
    {
      "cell_type": "code",
      "source": [
        "def t_student(mu0, n, X, S, alpha, teste):\n",
        "  Tcalc = (X - mu0) / (S / (n)**(1/2) )\n",
        "  Tc = tabela_t_student[alpha].iloc[(n-1)-1][0]\n",
        "\n",
        "  if teste == 'UNILATERAL':\n",
        "\n",
        "    if Tcalc < Tc:\n",
        "      print(\"Não temos evidências para rejeitar H0\")\n",
        "      return True\n",
        "    else:\n",
        "      print(\"temos evidências para rejeitar H0\")\n",
        "      return False\n",
        "\n",
        "  elif teste == 'BILATERAL':\n",
        "\n",
        "    if Tcalc > -Tc or Tcalc < Tc:\n",
        "      print(\"Não temos evidências para rejeitar H0\")\n",
        "      return True\n",
        "    else:\n",
        "      print(\"Temos evidências para rejeitar H0\")\n",
        "      return False"
      ],
      "metadata": {
        "id": "nmEgUlMUCj_O"
      },
      "execution_count": 29,
      "outputs": []
    },
    {
      "cell_type": "code",
      "source": [
        "# exemplo\n",
        "\n",
        "mu0 = 18\n",
        "n = 25\n",
        "X = 16.808\n",
        "S = 2.733\n",
        "alpha = '0.010'"
      ],
      "metadata": {
        "id": "r54bPWtxhpX_"
      },
      "execution_count": 30,
      "outputs": []
    },
    {
      "cell_type": "code",
      "source": [
        "t_student(mu0, n, X, S, alpha, 'UNILATERAL')"
      ],
      "metadata": {
        "id": "mSg1AWYTDa3F",
        "outputId": "312f9068-5bf2-441e-a155-f7bd67a2476e",
        "colab": {
          "base_uri": "https://localhost:8080/"
        }
      },
      "execution_count": 31,
      "outputs": [
        {
          "output_type": "stream",
          "name": "stdout",
          "text": [
            "Não temos evidências para rejeitar H0\n"
          ]
        },
        {
          "output_type": "execute_result",
          "data": {
            "text/plain": [
              "True"
            ]
          },
          "metadata": {},
          "execution_count": 31
        }
      ]
    }
  ]
}