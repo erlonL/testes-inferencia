{
  "cells": [
    {
      "cell_type": "markdown",
      "metadata": {
        "id": "NywbsQVEjdBH"
      },
      "source": [
        "# Teste de Kolmogorov Smirnov\n",
        "\n",
        "### Grupo: Erlon Lacerda , Maria Eduarda Bandeira"
      ]
    },
    {
      "cell_type": "markdown",
      "metadata": {
        "id": "EHip_FlTrCpG"
      },
      "source": [
        "## Implementação"
      ]
    },
    {
      "cell_type": "markdown",
      "metadata": {
        "id": "JGZSLAxIhSO-"
      },
      "source": [
        "Xi | Fabs | Fac | Fobs | Zi | Fesp | |Fesp(Xi) - Fobs(Xi)| | |Fesp(Xi) - Fobs(Xi-1)|\n",
        "\n",
        "Xi: Os valores únicos do conjunto utilizado\n",
        "\n",
        "Fabs: Quantidade de vezes que esse valor se repete na amostra\n",
        "\n",
        "Fac: Frequencia acumulada da frequencia absoluta\n",
        "\n",
        "Fobs: Frequencia acumulada dividido pela quantidade de valores\n",
        "\n",
        "Zi: valor x seguindo a distribuição normal\n",
        "\n",
        "Fesp: Valor de Zi na tabela normal"
      ]
    },
    {
      "cell_type": "code",
      "execution_count": 1,
      "metadata": {
        "id": "FX1hveBwUDMA"
      },
      "outputs": [],
      "source": [
        "import pandas as pd\n",
        "import numpy as np\n",
        "from scipy import stats"
      ]
    },
    {
      "cell_type": "code",
      "execution_count": 2,
      "metadata": {
        "id": "4weqVuKTulNQ"
      },
      "outputs": [],
      "source": [
        "# Gerando os valores aleatórios\n",
        "#valores = np.random.normal(4.1, 2.5, size=(1000))\n",
        "#valores = np.random.normal(0, 1, size=(40))\n",
        "#valores = np.random.normal(5, 3, size=(1000000))"
      ]
    },
    {
      "cell_type": "code",
      "execution_count": 3,
      "metadata": {},
      "outputs": [],
      "source": [
        "## https://stats.stackexchange.com/questions/113230/generate-random-numbers-following-a-distribution-within-an-interval\n",
        "\n",
        "import numpy as np\n",
        "\n",
        "min_val = 0\n",
        "max_val = 10\n",
        "mn = (max_val - min_val) / 2\n",
        "\n",
        "count = 1000\n",
        "\n",
        "# Generate numbers (mostly) from min to max\n",
        "x = np.random.normal(loc=mn, scale=mn/3, size=count)\n",
        "\n",
        "# Do something about the out-of-bounds generated values\n",
        "x = np.maximum(min_val, x)\n",
        "x = np.minimum(max_val, x)\n",
        "\n",
        "valores = x"
      ]
    },
    {
      "cell_type": "code",
      "execution_count": 4,
      "metadata": {
        "colab": {
          "base_uri": "https://localhost:8080/"
        },
        "id": "j64s2HerFHcN",
        "outputId": "860654b6-3c09-4be8-9f30-276dc5c9288c"
      },
      "outputs": [
        {
          "data": {
            "text/plain": [
              "array([6.4, 6.5, 4.4, 5.6, 3.2])"
            ]
          },
          "execution_count": 4,
          "metadata": {},
          "output_type": "execute_result"
        }
      ],
      "source": [
        "valores = np.abs(valores)\n",
        "valores = [round(x, ndigits=1) for x in valores]\n",
        "valores = np.array(valores)\n",
        "for i in range(len(valores)):\n",
        "    if valores[i] > 10:\n",
        "        valores[i] = 10\n",
        "\n",
        "valores[:5]"
      ]
    },
    {
      "cell_type": "code",
      "execution_count": 5,
      "metadata": {
        "id": "3VtuZg1-Ji89"
      },
      "outputs": [],
      "source": [
        "# criando uma lista dos valores únicos do conjunto\n",
        "xi = list(set(valores))"
      ]
    },
    {
      "cell_type": "code",
      "execution_count": 6,
      "metadata": {
        "colab": {
          "base_uri": "https://localhost:8080/"
        },
        "id": "8jhdWBeGKKPl",
        "outputId": "a4693ad6-825b-49d4-dd3e-b03867fc5dcc"
      },
      "outputs": [
        {
          "name": "stdout",
          "output_type": "stream",
          "text": [
            " Média:  4.916 \n",
            " Variância:  2.8567839999999998 \n",
            " Desvio Padrão:  1.6902023547492766 \n",
            " Contagem:  1000 \n",
            " Contagem de valores unicos:  91\n"
          ]
        }
      ],
      "source": [
        "# Informações importantes sobre o conjunto de valores\n",
        "media = np.mean(valores)\n",
        "var = np.var(valores)\n",
        "dp = np.std(valores)\n",
        "cont = len(valores)\n",
        "cont_unicos = len(xi)\n",
        "\n",
        "print(' Média: ', media, '\\n', 'Variância: ', var, '\\n', 'Desvio Padrão: ', dp, '\\n', 'Contagem: ', cont, '\\n', 'Contagem de valores unicos: ', cont_unicos)"
      ]
    },
    {
      "cell_type": "code",
      "execution_count": 7,
      "metadata": {
        "id": "EX3BpGMYHFuW"
      },
      "outputs": [],
      "source": [
        "colunas = ['Xi',\n",
        "           'Fabs',\n",
        "           'Fac',\n",
        "           'Fobs',\n",
        "           'Zi',\n",
        "           'Fesp',\n",
        "           '|Fesp(Xi) - Fobs(Xi)|',\n",
        "           '|Fesp(Xi) - Fobs(Xi-1)|']"
      ]
    },
    {
      "cell_type": "code",
      "execution_count": 8,
      "metadata": {
        "id": "YZWU-_EGIBov"
      },
      "outputs": [],
      "source": [
        "tabela = pd.DataFrame(columns=colunas)"
      ]
    },
    {
      "cell_type": "code",
      "execution_count": 9,
      "metadata": {
        "id": "5iwsIOAWvs7X"
      },
      "outputs": [],
      "source": [
        "tabela['Xi'] = xi"
      ]
    },
    {
      "cell_type": "code",
      "execution_count": 10,
      "metadata": {
        "id": "9yQi6jKJOjFI"
      },
      "outputs": [
        {
          "name": "stderr",
          "output_type": "stream",
          "text": [
            "/tmp/ipykernel_23722/3164291133.py:2: FutureWarning: pandas.value_counts is deprecated and will be removed in a future version. Use pd.Series(obj).value_counts() instead.\n",
            "  fabs = pd.value_counts(valores)\n"
          ]
        }
      ],
      "source": [
        "# Frequência absoluta: contagem de vezes que o valor aparece na amostra\n",
        "fabs = pd.value_counts(valores)\n",
        "fabs = fabs.sort_index()"
      ]
    },
    {
      "cell_type": "code",
      "execution_count": 11,
      "metadata": {
        "id": "xzfQwdOFh23p"
      },
      "outputs": [],
      "source": [
        "# dicionário para mapear os valores de 'Xi' para 'Fabs'\n",
        "mapa_valores = dict(zip(fabs.index, fabs.values))\n",
        "\n",
        "# 'Fabs' com base no mapeamento\n",
        "tabela['Fabs'] = tabela['Xi'].map(mapa_valores)"
      ]
    },
    {
      "cell_type": "code",
      "execution_count": 12,
      "metadata": {
        "id": "3oZS1bVPNo3o"
      },
      "outputs": [],
      "source": [
        "tabela = tabela.sort_values(by='Xi').reset_index(drop=True)"
      ]
    },
    {
      "cell_type": "code",
      "execution_count": 13,
      "metadata": {
        "id": "WnmTRtEHWfiv"
      },
      "outputs": [],
      "source": [
        "# Frequência acumulada\n",
        "tabela['Fac'] = tabela['Fabs'].cumsum()"
      ]
    },
    {
      "cell_type": "code",
      "execution_count": 14,
      "metadata": {
        "id": "sU1WeUF5Wuu_"
      },
      "outputs": [],
      "source": [
        "# Frequência observada: frequência acumulada dividida pelo número de valores na amostra\n",
        "tabela['Fobs'] = tabela['Fac'] / cont"
      ]
    },
    {
      "cell_type": "code",
      "execution_count": 15,
      "metadata": {
        "id": "DP0MixeszWdO"
      },
      "outputs": [],
      "source": [
        "# Zi: valor do xi seguindo a distribuição normal\n",
        "tabela['Zi'] = (tabela['Xi'] - media) / dp"
      ]
    },
    {
      "cell_type": "code",
      "execution_count": 16,
      "metadata": {
        "id": "qd4djnNj0ibo"
      },
      "outputs": [],
      "source": [
        "# Frequência esperada: valor do zi na tabela normal\n",
        "tabela['Fesp'] = stats.norm.cdf(tabela['Zi'])"
      ]
    },
    {
      "cell_type": "code",
      "execution_count": 17,
      "metadata": {
        "id": "5BM1FUTr1drT"
      },
      "outputs": [],
      "source": [
        "# diferença entre 'Fesp' e 'Fobs'\n",
        "tabela['|Fesp(Xi) - Fobs(Xi)|'] = abs(tabela['Fesp'] - tabela['Fobs'])"
      ]
    },
    {
      "cell_type": "code",
      "execution_count": 18,
      "metadata": {
        "id": "C0rI-J0Xi2T4"
      },
      "outputs": [],
      "source": [
        "# diferença entre 'Fesp' e 'Fobs' deslocando 'Fobs' em uma posição\n",
        "tabela['|Fesp(Xi) - Fobs(Xi-1)|'] = abs(tabela['Fesp'] - tabela['Fobs'].shift(fill_value=0))"
      ]
    },
    {
      "cell_type": "code",
      "execution_count": 19,
      "metadata": {
        "colab": {
          "base_uri": "https://localhost:8080/"
        },
        "id": "0fYfcMDd6BrC",
        "outputId": "e39d5b05-8c91-45d6-9d6f-267a9edffbe8"
      },
      "outputs": [
        {
          "data": {
            "text/plain": [
              "0.02328093320024116"
            ]
          },
          "execution_count": 19,
          "metadata": {},
          "output_type": "execute_result"
        }
      ],
      "source": [
        "Dcalc = max([max(tabela['|Fesp(Xi) - Fobs(Xi-1)|']), max(tabela['|Fesp(Xi) - Fobs(Xi)|'])])\n",
        "Dcalc"
      ]
    },
    {
      "cell_type": "code",
      "execution_count": 20,
      "metadata": {
        "id": "1JFxyKR4tFTi"
      },
      "outputs": [],
      "source": [
        "## GO HORSE"
      ]
    },
    {
      "cell_type": "code",
      "execution_count": 22,
      "metadata": {
        "colab": {
          "base_uri": "https://localhost:8080/",
          "height": 447
        },
        "id": "4oWNlkDptHT0",
        "outputId": "bb987744-caba-4cbc-acd8-5903c344eed3"
      },
      "outputs": [
        {
          "data": {
            "text/plain": [
              "<Axes: ylabel='Count'>"
            ]
          },
          "execution_count": 22,
          "metadata": {},
          "output_type": "execute_result"
        },
        {
          "data": {
            "image/png": "[encoded data removed]",
            "text/plain": [
              "<Figure size 640x480 with 1 Axes>"
            ]
          },
          "metadata": {},
          "output_type": "display_data"
        }
      ],
      "source": [
        "import matplotlib.pyplot as plt\n",
        "import seaborn as sns\n",
        "\n",
        "sns.histplot(valores)"
      ]
    },
    {
      "cell_type": "code",
      "execution_count": 24,
      "metadata": {
        "id": "QFK12xcv--Yk"
      },
      "outputs": [],
      "source": [
        "def plot(Xi, ac_dist,  label: str):\n",
        "    plt.plot(Xi.values, ac_dist.values, label=label)"
      ]
    },
    {
      "cell_type": "code",
      "execution_count": 25,
      "metadata": {
        "id": "Yed4QFlnHa5n"
      },
      "outputs": [],
      "source": [
        "def plot_difference(Xi, obs, esp):\n",
        "    X = Xi.values\n",
        "    y1 = esp.values\n",
        "    y2 = obs.values\n",
        "\n",
        "    difference = []\n",
        "    for i in range(len(y1)):\n",
        "        difference.append(y2[i] - y1[i])\n",
        "\n",
        "    for i in range(len(esp)):\n",
        "        plt.plot([X[i], X[i]], [y1[i], y2[i]], color='red', linestyle='--', alpha=0.5)\n",
        "        #plt.text(X[i], (y1[i] + y2[i]) / 2, f'{difference[i]:.2f}', ha='left', va='bottom')\n",
        "    plt.plot([X[0], X[0]], [y1[0], y2[0]], color='red', linestyle='--', alpha=0.5, label='Diferença')"
      ]
    },
    {
      "cell_type": "code",
      "execution_count": 26,
      "metadata": {
        "id": "2Q-00K0BHxr2"
      },
      "outputs": [],
      "source": [
        "def show_plot(title: str):\n",
        "    plt.title(title)\n",
        "    plt.xlabel('Valor')\n",
        "    plt.ylabel('Frequência Acumulada')\n",
        "    plt.legend(loc='upper left')\n",
        "\n",
        "    plt.grid(True)\n",
        "    plt.show()"
      ]
    },
    {
      "cell_type": "code",
      "execution_count": 28,
      "metadata": {
        "colab": {
          "base_uri": "https://localhost:8080/",
          "height": 263
        },
        "id": "SrLF8DfPIIA1",
        "outputId": "6f908ea1-4147-42b5-e13d-124e15502a24"
      },
      "outputs": [
        {
          "data": {
            "image/png": "[encoded data removed]",
            "text/plain": [
              "<Figure size 640x480 with 1 Axes>"
            ]
          },
          "metadata": {},
          "output_type": "display_data"
        }
      ],
      "source": [
        "plot(tabela['Xi'], tabela['Fobs'], 'Observada')\n",
        "plot(tabela['Xi'], tabela['Fesp'], 'Esperada')\n",
        "\n",
        "show_plot('Distribuições acumuladas')"
      ]
    },
    {
      "cell_type": "code",
      "execution_count": 30,
      "metadata": {
        "colab": {
          "base_uri": "https://localhost:8080/",
          "height": 472
        },
        "id": "U8dvE_7JHHE0",
        "outputId": "d8150085-990d-44cb-cc75-b7179e066e1c"
      },
      "outputs": [
        {
          "data": {
            "image/png": "[encoded data removed]",
            "text/plain": [
              "<Figure size 640x480 with 1 Axes>"
            ]
          },
          "metadata": {},
          "output_type": "display_data"
        }
      ],
      "source": [
        "plot_difference(tabela['Xi'], tabela['Fobs'], tabela['Fesp'])\n",
        "\n",
        "plot(tabela['Xi'], tabela['Fobs'], 'Observada')\n",
        "plot(tabela['Xi'], tabela['Fesp'], 'Esperada')\n",
        "\n",
        "show_plot('Distribuições acumuladas (com diferença)')"
      ]
    },
    {
      "cell_type": "code",
      "execution_count": 32,
      "metadata": {
        "id": "SODAGdtl9rjd"
      },
      "outputs": [],
      "source": [
        "def kolmogorov_smirnov_critico(n):\n",
        "    # table of critical values for the kolmogorov-smirnov test - 95% confidence\n",
        "    # Source: https://www.soest.hawaii.edu/GG/FACULTY/ITO/GG413/K_S_Table_one_Sample.pdf\n",
        "    # Source: http://www.real-statistics.com/statistics-tables/kolmogorov-smirnov-table/\n",
        "    # alpha = 0.05 (95% confidential level)\n",
        "\n",
        "    if n <= 40:\n",
        "        # valores entre 1 e 40\n",
        "        kolmogorov_critico = [0.97500, 0.84189, 0.70760, 0.62394, 0.56328, 0.51926, 0.48342, 0.45427, 0.43001, 0.40925,\n",
        "                      0.39122, 0.37543, 0.36143, 0.34890, 0.33760, 0.32733, 0.31796, 0.30936, 0.30143, 0.29408,\n",
        "                      0.28724, 0.28087, 0.27490, 0.26931, 0.26404, 0.25907, 0.25438, 0.24993, 0.24571, 0.24170,\n",
        "                      0.23788, 0.23424, 0.23076, 0.22743, 0.22425, 0.22119, 0.21826, 0.21544, 0.21273, 0.21012]\n",
        "        ks_critico = kolmogorov_critico[n - 1]\n",
        "    elif n > 40:\n",
        "        # valores acima de 40:\n",
        "        kolmogorov_critico = 1.36/(np.sqrt(n))\n",
        "        ks_critico = kolmogorov_critico\n",
        "    else:\n",
        "        pass\n",
        "\n",
        "    return ks_critico"
      ]
    },
    {
      "cell_type": "code",
      "execution_count": 34,
      "metadata": {
        "colab": {
          "base_uri": "https://localhost:8080/"
        },
        "id": "B2cyqsbk7WKP",
        "outputId": "efadf7d4-da48-4746-e9f1-b815c3518325"
      },
      "outputs": [
        {
          "data": {
            "text/plain": [
              "0.04300697617828996"
            ]
          },
          "execution_count": 34,
          "metadata": {},
          "output_type": "execute_result"
        }
      ],
      "source": [
        "Dc = kolmogorov_smirnov_critico(cont)\n",
        "Dc"
      ]
    },
    {
      "cell_type": "code",
      "execution_count": 35,
      "metadata": {
        "colab": {
          "base_uri": "https://localhost:8080/"
        },
        "id": "KNYpDLfi7grT",
        "outputId": "7a9916a9-7ddd-4582-ed93-097ea6c9b8c0"
      },
      "outputs": [
        {
          "name": "stdout",
          "output_type": "stream",
          "text": [
            "Com 95% de confianca, não temos evidências para rejeitar a hipótese de normalidade dos dados, segundo o teste de Kolmogorov-Smirnov\n"
          ]
        }
      ],
      "source": [
        "if Dc >= Dcalc:\n",
        "  print(\"Com 95% de confianca, não temos evidências para rejeitar a hipótese de normalidade dos dados, segundo o teste de Kolmogorov-Smirnov\")\n",
        "else:\n",
        "  print(\"Com 95% de confianca, temos evidências para rejeitar a hipótese de normalidade dos dados, segundo o teste de Kolmogorov-Smirnov\")"
      ]
    },
    {
      "cell_type": "code",
      "execution_count": 36,
      "metadata": {
        "colab": {
          "base_uri": "https://localhost:8080/"
        },
        "id": "T7WbeuAY960F",
        "outputId": "5f57dc4f-0cd6-4ca3-98d0-5f3dcc13c02c"
      },
      "outputs": [
        {
          "name": "stdout",
          "output_type": "stream",
          "text": [
            "0.9442498680518208\n",
            "0.0\n"
          ]
        }
      ],
      "source": [
        "# Testando com a biblioteca padrão\n",
        "ks_stat, ks_pvalue = stats.kstest(valores, stats.norm.cdf)\n",
        "print(ks_stat)\n",
        "print(ks_pvalue)"
      ]
    }
  ],
  "metadata": {
    "colab": {
      "provenance": []
    },
    "kernelspec": {
      "display_name": "Python 3 (ipykernel)",
      "language": "python",
      "name": "python3"
    },
    "language_info": {
      "codemirror_mode": {
        "name": "ipython",
        "version": 3
      },
      "file_extension": ".py",
      "mimetype": "text/x-python",
      "name": "python",
      "nbconvert_exporter": "python",
      "pygments_lexer": "ipython3",
      "version": "3.12.2"
    }
  },
  "nbformat": 4,
  "nbformat_minor": 0
}
