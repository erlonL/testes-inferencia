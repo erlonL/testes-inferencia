{
  "cells": [
    {
      "cell_type": "markdown",
      "metadata": {
        "id": "view-in-github",
        "colab_type": "text"
      },
      "source": [
        "<a href=\"https://colab.research.google.com/github/erlonL/testes-inferencia/blob/main/Teste_KolmogorovSmirnov.ipynb\" target=\"_parent\"><img src=\"https://colab.research.google.com/assets/colab-badge.svg\" alt=\"Open In Colab\"/></a>"
      ]
    },
    {
      "cell_type": "code",
      "execution_count": null,
      "metadata": {
        "id": "FX1hveBwUDMA"
      },
      "outputs": [],
      "source": [
        "import pandas as pd\n",
        "import numpy as np\n",
        "from scipy import stats"
      ]
    },
    {
      "cell_type": "markdown",
      "source": [
        "## Utilizando biblioteca padrão"
      ],
      "metadata": {
        "id": "bG_YWrEvS28G"
      }
    },
    {
      "cell_type": "code",
      "execution_count": null,
      "metadata": {
        "id": "9bzgGtx9UUss"
      },
      "outputs": [],
      "source": [
        "rng = np.random.default_rng()"
      ]
    },
    {
      "cell_type": "code",
      "execution_count": null,
      "metadata": {
        "id": "HbRh1OxLUcHD"
      },
      "outputs": [],
      "source": [
        "x = stats.norm.rvs(size=1000, random_state=rng)"
      ]
    },
    {
      "cell_type": "code",
      "execution_count": null,
      "metadata": {
        "id": "KzfC8TKzUnFe"
      },
      "outputs": [],
      "source": [
        "x"
      ]
    },
    {
      "cell_type": "code",
      "execution_count": null,
      "metadata": {
        "colab": {
          "base_uri": "https://localhost:8080/"
        },
        "id": "hn2P9G2jU2FH",
        "outputId": "2b2831ec-1d24-4a82-f0ae-5599d50a25fb"
      },
      "outputs": [
        {
          "output_type": "stream",
          "name": "stdout",
          "text": [
            "0.033868464490305894\n",
            "0.19698833897893553\n"
          ]
        }
      ],
      "source": [
        "ks_stat, ks_pvalue = stats.kstest(x, stats.norm.cdf)\n",
        "print(ks_stat)\n",
        "print(ks_pvalue)"
      ]
    },
    {
      "cell_type": "code",
      "execution_count": null,
      "metadata": {
        "id": "2Q5hIGwpVfqr"
      },
      "outputs": [],
      "source": [
        "def kolmogorov_smirnov_critico(n):\n",
        "    # table of critical values for the kolmogorov-smirnov test - 95% confidence\n",
        "    # Source: https://www.soest.hawaii.edu/GG/FACULTY/ITO/GG413/K_S_Table_one_Sample.pdf\n",
        "    # Source: http://www.real-statistics.com/statistics-tables/kolmogorov-smirnov-table/\n",
        "    # alpha = 0.05 (95% confidential level)\n",
        "\n",
        "    if n <= 40:\n",
        "        # valores entre 1 e 40\n",
        "        kolmogorov_critico = [0.97500, 0.84189, 0.70760, 0.62394, 0.56328, 0.51926, 0.48342, 0.45427, 0.43001, 0.40925,\n",
        "                      0.39122, 0.37543, 0.36143, 0.34890, 0.33760, 0.32733, 0.31796, 0.30936, 0.30143, 0.29408,\n",
        "                      0.28724, 0.28087, 0.27490, 0.26931, 0.26404, 0.25907, 0.25438, 0.24993, 0.24571, 0.24170,\n",
        "                      0.23788, 0.23424, 0.23076, 0.22743, 0.22425, 0.22119, 0.21826, 0.21544, 0.21273, 0.21012]\n",
        "        ks_critico = kolmogorov_critico[n - 1]\n",
        "    elif n > 40:\n",
        "        # valores acima de 40:\n",
        "        kolmogorov_critico = 1.36/(np.sqrt(n))\n",
        "        ks_critico = kolmogorov_critico\n",
        "    else:\n",
        "        pass\n",
        "\n",
        "    return ks_critico"
      ]
    },
    {
      "cell_type": "code",
      "execution_count": null,
      "metadata": {
        "colab": {
          "base_uri": "https://localhost:8080/"
        },
        "id": "qoFGj8LKVv4x",
        "outputId": "348e8c1a-2ace-462d-b28a-4e647bb77021"
      },
      "outputs": [
        {
          "output_type": "execute_result",
          "data": {
            "text/plain": [
              "0.04300697617828996"
            ]
          },
          "metadata": {},
          "execution_count": 7
        }
      ],
      "source": [
        "ks_critico = kolmogorov_smirnov_critico(len(x))\n",
        "ks_critico"
      ]
    },
    {
      "cell_type": "code",
      "execution_count": null,
      "metadata": {
        "colab": {
          "base_uri": "https://localhost:8080/"
        },
        "id": "Q0SX3sN8V0uE",
        "outputId": "11d059af-c10a-4e24-c519-ee6a6a0d295d"
      },
      "outputs": [
        {
          "output_type": "stream",
          "name": "stdout",
          "text": [
            "Com 95% de confianca, não temos evidências para rejeitar a hipótese de normalidade dos dados, segundo o teste de Kolmogorov-Smirnov\n"
          ]
        }
      ],
      "source": [
        "if ks_critico >= ks_stat:\n",
        "  print(\"Com 95% de confianca, não temos evidências para rejeitar a hipótese de normalidade dos dados, segundo o teste de Kolmogorov-Smirnov\")\n",
        "else:\n",
        "  print(\"Com 95% de confianca, temos evidências para rejeitar a hipótese de normalidade dos dados, segundo o teste de Kolmogorov-Smirnov\")"
      ]
    },
    {
      "cell_type": "markdown",
      "metadata": {
        "id": "EHip_FlTrCpG"
      },
      "source": [
        "## Implementação"
      ]
    },
    {
      "cell_type": "code",
      "execution_count": null,
      "metadata": {
        "id": "MT-sddNdnj8Z",
        "colab": {
          "base_uri": "https://localhost:8080/",
          "height": 87
        },
        "outputId": "12a1fa96-8f90-4a46-a5e1-47da0e918b37"
      },
      "outputs": [
        {
          "output_type": "execute_result",
          "data": {
            "text/plain": [
              "\"\\nXi | Fabs | Fac | Fobs | Zi | Fesp | |Fesp(Xi) - Fobs(Xi)| | |Fesp(Xi) - Fobs(Xi-1)|\\n\\nXi: Os valores únicos do conjunto utilizado\\nset(list(x))\\n\\nFabs: Quantidade de vezes que esse valor se repete na amostra\\nlist(x).count(i)\\n\\nFac: Frequencia acumulada da frequencia absoluta\\ntabela['Fac'] = tabela['Fabs'].cumsum()\\n\\nFobs: Frequencia acumulada dividido pela quantidade de valores\\ntabela['Fobs'] = tabela['Fac'] / len(amostra)\\n\\nZi: valor x seguindo a distribuição normal\\n(Xi - media)/var**(1/2)\\n\\nFesp: Valor de Zi na tabela normal\\n\\n\""
            ],
            "application/vnd.google.colaboratory.intrinsic+json": {
              "type": "string"
            }
          },
          "metadata": {},
          "execution_count": 2
        }
      ],
      "source": [
        "'''\n",
        "Xi | Fabs | Fac | Fobs | Zi | Fesp | |Fesp(Xi) - Fobs(Xi)| | |Fesp(Xi) - Fobs(Xi-1)|\n",
        "\n",
        "Xi: Os valores únicos do conjunto utilizado\n",
        "set(list(x))\n",
        "\n",
        "Fabs: Quantidade de vezes que esse valor se repete na amostra\n",
        "list(x).count(i)\n",
        "\n",
        "Fac: Frequencia acumulada da frequencia absoluta\n",
        "tabela['Fac'] = tabela['Fabs'].cumsum()\n",
        "\n",
        "Fobs: Frequencia acumulada dividido pela quantidade de valores\n",
        "tabela['Fobs'] = tabela['Fac'] / len(amostra)\n",
        "\n",
        "Zi: valor x seguindo a distribuição normal\n",
        "(Xi - media)/var**(1/2)\n",
        "\n",
        "Fesp: Valor de Zi na tabela normal\n",
        "\n",
        "'''"
      ]
    },
    {
      "cell_type": "code",
      "execution_count": null,
      "metadata": {
        "id": "4weqVuKTulNQ"
      },
      "outputs": [],
      "source": [
        "# Gerando os valores aleatórios\n",
        "valores = np.random.normal(10, 25, size=(100)).astype(int)"
      ]
    },
    {
      "cell_type": "code",
      "source": [
        "valores"
      ],
      "metadata": {
        "colab": {
          "base_uri": "https://localhost:8080/"
        },
        "id": "j64s2HerFHcN",
        "outputId": "7b3fcee6-f017-4073-fe06-1881c1aea0ca"
      },
      "execution_count": null,
      "outputs": [
        {
          "output_type": "execute_result",
          "data": {
            "text/plain": [
              "array([-12,  35, -12,   9,  25,  10,  29,  43,  33,  -7, -25,  -1,  25,\n",
              "        51,  -8, -12,  34, -30,  20,  -7,  33,  34, -11, -16,  30,  42,\n",
              "        11,  23,  26,  11,  -7,   4,  -3,   2,  20, -20,   0,  41,  17,\n",
              "         9,  11, -35,  -3, -19,   0,  15, -24,  15,  21,  32,  18,   9,\n",
              "        58, -26,  32,  39,  -4, -22,  50,   3,  39, -19,  61,  19,  13,\n",
              "       -25, -12,  -8,  43,  23, -17,  18,   8,   0,  16,  26,  38,  25,\n",
              "       -20,  64,  -9,  -6,  31,  49,   1,  24,  18,   0,  58,   1,  -6,\n",
              "        15,   4,  40, -20,  63, -41,   5,  12,  26])"
            ]
          },
          "metadata": {},
          "execution_count": 4
        }
      ]
    },
    {
      "cell_type": "code",
      "execution_count": null,
      "metadata": {
        "colab": {
          "base_uri": "https://localhost:8080/"
        },
        "id": "1nQblu-VvN0J",
        "outputId": "dae2abe6-981c-4168-f503-7ba0caa28b28"
      },
      "outputs": [
        {
          "output_type": "execute_result",
          "data": {
            "text/plain": [
              "63"
            ]
          },
          "metadata": {},
          "execution_count": 5
        }
      ],
      "source": [
        "len(set(valores))"
      ]
    },
    {
      "cell_type": "code",
      "execution_count": null,
      "metadata": {
        "colab": {
          "base_uri": "https://localhost:8080/"
        },
        "id": "fblTvCLCvksY",
        "outputId": "31c968fa-1a1a-453e-b691-192af7962a9a"
      },
      "outputs": [
        {
          "output_type": "execute_result",
          "data": {
            "text/plain": [
              "100"
            ]
          },
          "metadata": {},
          "execution_count": 6
        }
      ],
      "source": [
        "len(valores)"
      ]
    },
    {
      "cell_type": "code",
      "source": [
        "tabela = pd.DataFrame()"
      ],
      "metadata": {
        "id": "TaLfsC73GwJ0"
      },
      "execution_count": null,
      "outputs": []
    },
    {
      "cell_type": "code",
      "source": [
        "colunas = ['Xi',\n",
        "           'Fabs',\n",
        "           'Fac',\n",
        "           'Fobs',\n",
        "           'Zi',\n",
        "           'Fesp',\n",
        "           '|Fesp(Xi) - Fobs(Xi)|',\n",
        "           '|Fesp(Xi) - Fobs(Xi-1)|']"
      ],
      "metadata": {
        "id": "EX3BpGMYHFuW"
      },
      "execution_count": null,
      "outputs": []
    },
    {
      "cell_type": "code",
      "source": [
        "tabela = pd.DataFrame(columns=colunas)"
      ],
      "metadata": {
        "id": "YZWU-_EGIBov"
      },
      "execution_count": null,
      "outputs": []
    },
    {
      "cell_type": "code",
      "source": [
        "xi = list(set(valores))"
      ],
      "metadata": {
        "id": "3VtuZg1-Ji89"
      },
      "execution_count": null,
      "outputs": []
    },
    {
      "cell_type": "code",
      "source": [
        "# Informações importantes sobre o conjunto de valores\n",
        "media = np.mean(valores)\n",
        "var = np.var(valores)\n",
        "dp = np.std(valores)\n",
        "cont = len(valores)\n",
        "cont_unicos = len(xi)\n",
        "\n",
        "print(' Média: ', media, '\\n', 'Variância: ', var, '\\n', 'Desvio Padrão: ', dp, '\\n', 'Contagem: ', cont, '\\n', 'Contagem de valores unicos: ', cont_unicos)"
      ],
      "metadata": {
        "colab": {
          "base_uri": "https://localhost:8080/"
        },
        "id": "8jhdWBeGKKPl",
        "outputId": "32d31313-07ee-4ea6-df4b-1225f115d5da"
      },
      "execution_count": null,
      "outputs": [
        {
          "output_type": "stream",
          "name": "stdout",
          "text": [
            " Média:  11.73 \n",
            " Variância:  568.5570999999999 \n",
            " Desvio Padrão:  23.844435409545763 \n",
            " Contagem:  100 \n",
            " Contagem de valores unicos:  63\n"
          ]
        }
      ]
    },
    {
      "cell_type": "code",
      "execution_count": null,
      "metadata": {
        "id": "5iwsIOAWvs7X"
      },
      "outputs": [],
      "source": [
        "tabela['Xi'] = xi"
      ]
    },
    {
      "cell_type": "code",
      "source": [
        "fabs = pd.value_counts(valores)"
      ],
      "metadata": {
        "id": "9yQi6jKJOjFI"
      },
      "execution_count": null,
      "outputs": []
    },
    {
      "cell_type": "code",
      "source": [
        "fabs"
      ],
      "metadata": {
        "colab": {
          "base_uri": "https://localhost:8080/"
        },
        "id": "LUyXk6jiQadB",
        "outputId": "6f6176ce-f475-4980-c671-5db9fc94c9af"
      },
      "execution_count": null,
      "outputs": [
        {
          "output_type": "execute_result",
          "data": {
            "text/plain": [
              "-12    4\n",
              " 0     4\n",
              "-7     3\n",
              " 26    3\n",
              "-20    3\n",
              "      ..\n",
              "-1     1\n",
              "-26    1\n",
              "-4     1\n",
              " 30    1\n",
              " 12    1\n",
              "Length: 63, dtype: int64"
            ]
          },
          "metadata": {},
          "execution_count": 14
        }
      ]
    },
    {
      "cell_type": "code",
      "source": [
        "fabs.index"
      ],
      "metadata": {
        "colab": {
          "base_uri": "https://localhost:8080/"
        },
        "id": "f3miIr4LRlJ1",
        "outputId": "bbce5e7e-9312-4612-f223-0ce059a78e41"
      },
      "execution_count": null,
      "outputs": [
        {
          "output_type": "execute_result",
          "data": {
            "text/plain": [
              "Int64Index([-12,   0,  -7,  26, -20,  15,  11,  18,  25,   9,  58,  39,  32,\n",
              "             -6,   1,  -3,   4,  23, -19,  20,  43,  34,  -8,  33, -25,  42,\n",
              "             -9,  13, -17,   8,  16,  38,  64,  31,  29,  61,  49,  10,  24,\n",
              "             40,  63, -41,   5,  19, -22,   3,  50, -16, -11, -30,   2,  41,\n",
              "             17, -35,  35,  51, -24,  21,  -1, -26,  -4,  30,  12],\n",
              "           dtype='int64')"
            ]
          },
          "metadata": {},
          "execution_count": 15
        }
      ]
    },
    {
      "cell_type": "code",
      "source": [
        "fabs.values"
      ],
      "metadata": {
        "colab": {
          "base_uri": "https://localhost:8080/"
        },
        "id": "i4M8xSFoQXt7",
        "outputId": "cec53274-456e-4f11-f48b-891c4b3e3e73"
      },
      "execution_count": null,
      "outputs": [
        {
          "output_type": "execute_result",
          "data": {
            "text/plain": [
              "array([4, 4, 3, 3, 3, 3, 3, 3, 3, 3, 2, 2, 2, 2, 2, 2, 2, 2, 2, 2, 2, 2,\n",
              "       2, 2, 2, 1, 1, 1, 1, 1, 1, 1, 1, 1, 1, 1, 1, 1, 1, 1, 1, 1, 1, 1,\n",
              "       1, 1, 1, 1, 1, 1, 1, 1, 1, 1, 1, 1, 1, 1, 1, 1, 1, 1, 1])"
            ]
          },
          "metadata": {},
          "execution_count": 16
        }
      ]
    },
    {
      "cell_type": "code",
      "source": [
        "for i in range(cont_unicos):\n",
        "  for j in range(cont_unicos):\n",
        "    if tabela['Xi'][i] == fabs.index[j]:\n",
        "      tabela['Fabs'][i] = fabs.values[j]"
      ],
      "metadata": {
        "colab": {
          "base_uri": "https://localhost:8080/"
        },
        "id": "Gpcaeb3gTNFp",
        "outputId": "5588981a-4f2d-48e1-846a-3ba094b86686"
      },
      "execution_count": null,
      "outputs": [
        {
          "output_type": "stream",
          "name": "stderr",
          "text": [
            "<ipython-input-17-73bc046d6211>:4: SettingWithCopyWarning: \n",
            "A value is trying to be set on a copy of a slice from a DataFrame\n",
            "\n",
            "See the caveats in the documentation: https://pandas.pydata.org/pandas-docs/stable/user_guide/indexing.html#returning-a-view-versus-a-copy\n",
            "  tabela['Fabs'][i] = fabs.values[j]\n"
          ]
        }
      ]
    },
    {
      "cell_type": "code",
      "source": [
        "tabela['Fac'] = tabela['Fabs'].cumsum()"
      ],
      "metadata": {
        "id": "WnmTRtEHWfiv"
      },
      "execution_count": null,
      "outputs": []
    },
    {
      "cell_type": "code",
      "source": [
        "tabela['Fobs'] = tabela['Fac'] / cont"
      ],
      "metadata": {
        "id": "sU1WeUF5Wuu_"
      },
      "execution_count": null,
      "outputs": []
    },
    {
      "cell_type": "code",
      "source": [
        "tabela['Zi'] = (tabela['Xi'] - media) / dp"
      ],
      "metadata": {
        "id": "DP0MixeszWdO"
      },
      "execution_count": null,
      "outputs": []
    },
    {
      "cell_type": "code",
      "source": [
        "tabela['Fesp'] = stats.norm.cdf(tabela['Zi'])"
      ],
      "metadata": {
        "id": "qd4djnNj0ibo"
      },
      "execution_count": null,
      "outputs": []
    },
    {
      "cell_type": "code",
      "source": [
        "tabela['|Fesp(Xi) - Fobs(Xi)|'] = abs(tabela['Fesp'] - tabela['Fobs'])"
      ],
      "metadata": {
        "id": "5BM1FUTr1drT"
      },
      "execution_count": null,
      "outputs": []
    },
    {
      "cell_type": "code",
      "source": [
        "abs(tabela['Fesp'][0])"
      ],
      "metadata": {
        "colab": {
          "base_uri": "https://localhost:8080/"
        },
        "id": "DUV6yXmq4663",
        "outputId": "b411ccfe-e020-4e20-aad9-63367a62df83"
      },
      "execution_count": null,
      "outputs": [
        {
          "output_type": "execute_result",
          "data": {
            "text/plain": [
              "0.31138134777396215"
            ]
          },
          "metadata": {},
          "execution_count": 35
        }
      ]
    },
    {
      "cell_type": "code",
      "source": [
        "for i in range(0, cont_unicos):\n",
        "  if i == 0:\n",
        "    tabela['|Fesp(Xi) - Fobs(Xi-1)|'][i] = abs(tabela['Fesp'][i])\n",
        "  else:\n",
        "    tabela['|Fesp(Xi) - Fobs(Xi-1)|'][i] = abs(tabela['Fesp'][i] - tabela['Fobs'][i-1])"
      ],
      "metadata": {
        "id": "v2rkIfe62mzw",
        "colab": {
          "base_uri": "https://localhost:8080/"
        },
        "outputId": "ce3260e1-e2bc-409e-a8ea-961067f5fb90"
      },
      "execution_count": null,
      "outputs": [
        {
          "output_type": "stream",
          "name": "stderr",
          "text": [
            "<ipython-input-36-d4f8901e716d>:3: SettingWithCopyWarning: \n",
            "A value is trying to be set on a copy of a slice from a DataFrame\n",
            "\n",
            "See the caveats in the documentation: https://pandas.pydata.org/pandas-docs/stable/user_guide/indexing.html#returning-a-view-versus-a-copy\n",
            "  tabela['|Fesp(Xi) - Fobs(Xi-1)|'][i] = abs(tabela['Fesp'][i])\n",
            "<ipython-input-36-d4f8901e716d>:5: SettingWithCopyWarning: \n",
            "A value is trying to be set on a copy of a slice from a DataFrame\n",
            "\n",
            "See the caveats in the documentation: https://pandas.pydata.org/pandas-docs/stable/user_guide/indexing.html#returning-a-view-versus-a-copy\n",
            "  tabela['|Fesp(Xi) - Fobs(Xi-1)|'][i] = abs(tabela['Fesp'][i] - tabela['Fobs'][i-1])\n"
          ]
        }
      ]
    },
    {
      "cell_type": "code",
      "source": [
        "tabela"
      ],
      "metadata": {
        "colab": {
          "base_uri": "https://localhost:8080/",
          "height": 424
        },
        "id": "7vz_gOt1Jx77",
        "outputId": "4fc7c9b4-08ff-477f-c390-88990b051b8e"
      },
      "execution_count": null,
      "outputs": [
        {
          "output_type": "execute_result",
          "data": {
            "text/plain": [
              "    Xi Fabs  Fac  Fobs        Zi      Fesp |Fesp(Xi) - Fobs(Xi)|  \\\n",
              "0    0    4    4  0.04 -0.491939  0.311381              0.271381   \n",
              "1    1    2    6  0.06 -0.450000  0.326355              0.266355   \n",
              "2    2    1    7  0.07 -0.408062  0.341614              0.271614   \n",
              "3    3    1    8  0.08 -0.366123  0.357137              0.277137   \n",
              "4    4    2   10   0.1 -0.324185  0.372899              0.272899   \n",
              "..  ..  ...  ...   ...       ...       ...                   ...   \n",
              "58  -7    3   94  0.94 -0.785508  0.216078              0.723922   \n",
              "59  -6    2   96  0.96 -0.743570  0.228568              0.731432   \n",
              "60  -4    1   97  0.97 -0.659693  0.254726              0.715274   \n",
              "61  -3    2   99  0.99 -0.617754  0.268369              0.721631   \n",
              "62  -1    1  100   1.0 -0.533877  0.296713              0.703287   \n",
              "\n",
              "    |Fesp(Xi) - Fobs(Xi-1)|  \n",
              "0                  0.311381  \n",
              "1                  0.286355  \n",
              "2                  0.281614  \n",
              "3                  0.287137  \n",
              "4                  0.292899  \n",
              "..                      ...  \n",
              "58                 0.693922  \n",
              "59                 0.711432  \n",
              "60                 0.705274  \n",
              "61                 0.701631  \n",
              "62                 0.693287  \n",
              "\n",
              "[63 rows x 8 columns]"
            ],
            "text/html": [
              "\n",
              "  <div id=\"df-a1e06a1f-e46a-476d-8756-778d9f5ed8d6\" class=\"colab-df-container\">\n",
              "    <div>\n",
              "<style scoped>\n",
              "    .dataframe tbody tr th:only-of-type {\n",
              "        vertical-align: middle;\n",
              "    }\n",
              "\n",
              "    .dataframe tbody tr th {\n",
              "        vertical-align: top;\n",
              "    }\n",
              "\n",
              "    .dataframe thead th {\n",
              "        text-align: right;\n",
              "    }\n",
              "</style>\n",
              "<table border=\"1\" class=\"dataframe\">\n",
              "  <thead>\n",
              "    <tr style=\"text-align: right;\">\n",
              "      <th></th>\n",
              "      <th>Xi</th>\n",
              "      <th>Fabs</th>\n",
              "      <th>Fac</th>\n",
              "      <th>Fobs</th>\n",
              "      <th>Zi</th>\n",
              "      <th>Fesp</th>\n",
              "      <th>|Fesp(Xi) - Fobs(Xi)|</th>\n",
              "      <th>|Fesp(Xi) - Fobs(Xi-1)|</th>\n",
              "    </tr>\n",
              "  </thead>\n",
              "  <tbody>\n",
              "    <tr>\n",
              "      <th>0</th>\n",
              "      <td>0</td>\n",
              "      <td>4</td>\n",
              "      <td>4</td>\n",
              "      <td>0.04</td>\n",
              "      <td>-0.491939</td>\n",
              "      <td>0.311381</td>\n",
              "      <td>0.271381</td>\n",
              "      <td>0.311381</td>\n",
              "    </tr>\n",
              "    <tr>\n",
              "      <th>1</th>\n",
              "      <td>1</td>\n",
              "      <td>2</td>\n",
              "      <td>6</td>\n",
              "      <td>0.06</td>\n",
              "      <td>-0.450000</td>\n",
              "      <td>0.326355</td>\n",
              "      <td>0.266355</td>\n",
              "      <td>0.286355</td>\n",
              "    </tr>\n",
              "    <tr>\n",
              "      <th>2</th>\n",
              "      <td>2</td>\n",
              "      <td>1</td>\n",
              "      <td>7</td>\n",
              "      <td>0.07</td>\n",
              "      <td>-0.408062</td>\n",
              "      <td>0.341614</td>\n",
              "      <td>0.271614</td>\n",
              "      <td>0.281614</td>\n",
              "    </tr>\n",
              "    <tr>\n",
              "      <th>3</th>\n",
              "      <td>3</td>\n",
              "      <td>1</td>\n",
              "      <td>8</td>\n",
              "      <td>0.08</td>\n",
              "      <td>-0.366123</td>\n",
              "      <td>0.357137</td>\n",
              "      <td>0.277137</td>\n",
              "      <td>0.287137</td>\n",
              "    </tr>\n",
              "    <tr>\n",
              "      <th>4</th>\n",
              "      <td>4</td>\n",
              "      <td>2</td>\n",
              "      <td>10</td>\n",
              "      <td>0.1</td>\n",
              "      <td>-0.324185</td>\n",
              "      <td>0.372899</td>\n",
              "      <td>0.272899</td>\n",
              "      <td>0.292899</td>\n",
              "    </tr>\n",
              "    <tr>\n",
              "      <th>...</th>\n",
              "      <td>...</td>\n",
              "      <td>...</td>\n",
              "      <td>...</td>\n",
              "      <td>...</td>\n",
              "      <td>...</td>\n",
              "      <td>...</td>\n",
              "      <td>...</td>\n",
              "      <td>...</td>\n",
              "    </tr>\n",
              "    <tr>\n",
              "      <th>58</th>\n",
              "      <td>-7</td>\n",
              "      <td>3</td>\n",
              "      <td>94</td>\n",
              "      <td>0.94</td>\n",
              "      <td>-0.785508</td>\n",
              "      <td>0.216078</td>\n",
              "      <td>0.723922</td>\n",
              "      <td>0.693922</td>\n",
              "    </tr>\n",
              "    <tr>\n",
              "      <th>59</th>\n",
              "      <td>-6</td>\n",
              "      <td>2</td>\n",
              "      <td>96</td>\n",
              "      <td>0.96</td>\n",
              "      <td>-0.743570</td>\n",
              "      <td>0.228568</td>\n",
              "      <td>0.731432</td>\n",
              "      <td>0.711432</td>\n",
              "    </tr>\n",
              "    <tr>\n",
              "      <th>60</th>\n",
              "      <td>-4</td>\n",
              "      <td>1</td>\n",
              "      <td>97</td>\n",
              "      <td>0.97</td>\n",
              "      <td>-0.659693</td>\n",
              "      <td>0.254726</td>\n",
              "      <td>0.715274</td>\n",
              "      <td>0.705274</td>\n",
              "    </tr>\n",
              "    <tr>\n",
              "      <th>61</th>\n",
              "      <td>-3</td>\n",
              "      <td>2</td>\n",
              "      <td>99</td>\n",
              "      <td>0.99</td>\n",
              "      <td>-0.617754</td>\n",
              "      <td>0.268369</td>\n",
              "      <td>0.721631</td>\n",
              "      <td>0.701631</td>\n",
              "    </tr>\n",
              "    <tr>\n",
              "      <th>62</th>\n",
              "      <td>-1</td>\n",
              "      <td>1</td>\n",
              "      <td>100</td>\n",
              "      <td>1.0</td>\n",
              "      <td>-0.533877</td>\n",
              "      <td>0.296713</td>\n",
              "      <td>0.703287</td>\n",
              "      <td>0.693287</td>\n",
              "    </tr>\n",
              "  </tbody>\n",
              "</table>\n",
              "<p>63 rows × 8 columns</p>\n",
              "</div>\n",
              "    <div class=\"colab-df-buttons\">\n",
              "\n",
              "  <div class=\"colab-df-container\">\n",
              "    <button class=\"colab-df-convert\" onclick=\"convertToInteractive('df-a1e06a1f-e46a-476d-8756-778d9f5ed8d6')\"\n",
              "            title=\"Convert this dataframe to an interactive table.\"\n",
              "            style=\"display:none;\">\n",
              "\n",
              "  <svg xmlns=\"http://www.w3.org/2000/svg\" height=\"24px\" viewBox=\"0 -960 960 960\">\n",
              "    <path d=\"M120-120v-720h720v720H120Zm60-500h600v-160H180v160Zm220 220h160v-160H400v160Zm0 220h160v-160H400v160ZM180-400h160v-160H180v160Zm440 0h160v-160H620v160ZM180-180h160v-160H180v160Zm440 0h160v-160H620v160Z\"/>\n",
              "  </svg>\n",
              "    </button>\n",
              "\n",
              "  <style>\n",
              "    .colab-df-container {\n",
              "      display:flex;\n",
              "      gap: 12px;\n",
              "    }\n",
              "\n",
              "    .colab-df-convert {\n",
              "      background-color: #E8F0FE;\n",
              "      border: none;\n",
              "      border-radius: 50%;\n",
              "      cursor: pointer;\n",
              "      display: none;\n",
              "      fill: #1967D2;\n",
              "      height: 32px;\n",
              "      padding: 0 0 0 0;\n",
              "      width: 32px;\n",
              "    }\n",
              "\n",
              "    .colab-df-convert:hover {\n",
              "      background-color: #E2EBFA;\n",
              "      box-shadow: 0px 1px 2px rgba(60, 64, 67, 0.3), 0px 1px 3px 1px rgba(60, 64, 67, 0.15);\n",
              "      fill: #174EA6;\n",
              "    }\n",
              "\n",
              "    .colab-df-buttons div {\n",
              "      margin-bottom: 4px;\n",
              "    }\n",
              "\n",
              "    [theme=dark] .colab-df-convert {\n",
              "      background-color: #3B4455;\n",
              "      fill: #D2E3FC;\n",
              "    }\n",
              "\n",
              "    [theme=dark] .colab-df-convert:hover {\n",
              "      background-color: #434B5C;\n",
              "      box-shadow: 0px 1px 3px 1px rgba(0, 0, 0, 0.15);\n",
              "      filter: drop-shadow(0px 1px 2px rgba(0, 0, 0, 0.3));\n",
              "      fill: #FFFFFF;\n",
              "    }\n",
              "  </style>\n",
              "\n",
              "    <script>\n",
              "      const buttonEl =\n",
              "        document.querySelector('#df-a1e06a1f-e46a-476d-8756-778d9f5ed8d6 button.colab-df-convert');\n",
              "      buttonEl.style.display =\n",
              "        google.colab.kernel.accessAllowed ? 'block' : 'none';\n",
              "\n",
              "      async function convertToInteractive(key) {\n",
              "        const element = document.querySelector('#df-a1e06a1f-e46a-476d-8756-778d9f5ed8d6');\n",
              "        const dataTable =\n",
              "          await google.colab.kernel.invokeFunction('convertToInteractive',\n",
              "                                                    [key], {});\n",
              "        if (!dataTable) return;\n",
              "\n",
              "        const docLinkHtml = 'Like what you see? Visit the ' +\n",
              "          '<a target=\"_blank\" href=https://colab.research.google.com/notebooks/data_table.ipynb>data table notebook</a>'\n",
              "          + ' to learn more about interactive tables.';\n",
              "        element.innerHTML = '';\n",
              "        dataTable['output_type'] = 'display_data';\n",
              "        await google.colab.output.renderOutput(dataTable, element);\n",
              "        const docLink = document.createElement('div');\n",
              "        docLink.innerHTML = docLinkHtml;\n",
              "        element.appendChild(docLink);\n",
              "      }\n",
              "    </script>\n",
              "  </div>\n",
              "\n",
              "\n",
              "<div id=\"df-c54ef2fa-d171-49a1-823b-ca0ca5e70c9f\">\n",
              "  <button class=\"colab-df-quickchart\" onclick=\"quickchart('df-c54ef2fa-d171-49a1-823b-ca0ca5e70c9f')\"\n",
              "            title=\"Suggest charts\"\n",
              "            style=\"display:none;\">\n",
              "\n",
              "<svg xmlns=\"http://www.w3.org/2000/svg\" height=\"24px\"viewBox=\"0 0 24 24\"\n",
              "     width=\"24px\">\n",
              "    <g>\n",
              "        <path d=\"M19 3H5c-1.1 0-2 .9-2 2v14c0 1.1.9 2 2 2h14c1.1 0 2-.9 2-2V5c0-1.1-.9-2-2-2zM9 17H7v-7h2v7zm4 0h-2V7h2v10zm4 0h-2v-4h2v4z\"/>\n",
              "    </g>\n",
              "</svg>\n",
              "  </button>\n",
              "\n",
              "<style>\n",
              "  .colab-df-quickchart {\n",
              "      --bg-color: #E8F0FE;\n",
              "      --fill-color: #1967D2;\n",
              "      --hover-bg-color: #E2EBFA;\n",
              "      --hover-fill-color: #174EA6;\n",
              "      --disabled-fill-color: #AAA;\n",
              "      --disabled-bg-color: #DDD;\n",
              "  }\n",
              "\n",
              "  [theme=dark] .colab-df-quickchart {\n",
              "      --bg-color: #3B4455;\n",
              "      --fill-color: #D2E3FC;\n",
              "      --hover-bg-color: #434B5C;\n",
              "      --hover-fill-color: #FFFFFF;\n",
              "      --disabled-bg-color: #3B4455;\n",
              "      --disabled-fill-color: #666;\n",
              "  }\n",
              "\n",
              "  .colab-df-quickchart {\n",
              "    background-color: var(--bg-color);\n",
              "    border: none;\n",
              "    border-radius: 50%;\n",
              "    cursor: pointer;\n",
              "    display: none;\n",
              "    fill: var(--fill-color);\n",
              "    height: 32px;\n",
              "    padding: 0;\n",
              "    width: 32px;\n",
              "  }\n",
              "\n",
              "  .colab-df-quickchart:hover {\n",
              "    background-color: var(--hover-bg-color);\n",
              "    box-shadow: 0 1px 2px rgba(60, 64, 67, 0.3), 0 1px 3px 1px rgba(60, 64, 67, 0.15);\n",
              "    fill: var(--button-hover-fill-color);\n",
              "  }\n",
              "\n",
              "  .colab-df-quickchart-complete:disabled,\n",
              "  .colab-df-quickchart-complete:disabled:hover {\n",
              "    background-color: var(--disabled-bg-color);\n",
              "    fill: var(--disabled-fill-color);\n",
              "    box-shadow: none;\n",
              "  }\n",
              "\n",
              "  .colab-df-spinner {\n",
              "    border: 2px solid var(--fill-color);\n",
              "    border-color: transparent;\n",
              "    border-bottom-color: var(--fill-color);\n",
              "    animation:\n",
              "      spin 1s steps(1) infinite;\n",
              "  }\n",
              "\n",
              "  @keyframes spin {\n",
              "    0% {\n",
              "      border-color: transparent;\n",
              "      border-bottom-color: var(--fill-color);\n",
              "      border-left-color: var(--fill-color);\n",
              "    }\n",
              "    20% {\n",
              "      border-color: transparent;\n",
              "      border-left-color: var(--fill-color);\n",
              "      border-top-color: var(--fill-color);\n",
              "    }\n",
              "    30% {\n",
              "      border-color: transparent;\n",
              "      border-left-color: var(--fill-color);\n",
              "      border-top-color: var(--fill-color);\n",
              "      border-right-color: var(--fill-color);\n",
              "    }\n",
              "    40% {\n",
              "      border-color: transparent;\n",
              "      border-right-color: var(--fill-color);\n",
              "      border-top-color: var(--fill-color);\n",
              "    }\n",
              "    60% {\n",
              "      border-color: transparent;\n",
              "      border-right-color: var(--fill-color);\n",
              "    }\n",
              "    80% {\n",
              "      border-color: transparent;\n",
              "      border-right-color: var(--fill-color);\n",
              "      border-bottom-color: var(--fill-color);\n",
              "    }\n",
              "    90% {\n",
              "      border-color: transparent;\n",
              "      border-bottom-color: var(--fill-color);\n",
              "    }\n",
              "  }\n",
              "</style>\n",
              "\n",
              "  <script>\n",
              "    async function quickchart(key) {\n",
              "      const quickchartButtonEl =\n",
              "        document.querySelector('#' + key + ' button');\n",
              "      quickchartButtonEl.disabled = true;  // To prevent multiple clicks.\n",
              "      quickchartButtonEl.classList.add('colab-df-spinner');\n",
              "      try {\n",
              "        const charts = await google.colab.kernel.invokeFunction(\n",
              "            'suggestCharts', [key], {});\n",
              "      } catch (error) {\n",
              "        console.error('Error during call to suggestCharts:', error);\n",
              "      }\n",
              "      quickchartButtonEl.classList.remove('colab-df-spinner');\n",
              "      quickchartButtonEl.classList.add('colab-df-quickchart-complete');\n",
              "    }\n",
              "    (() => {\n",
              "      let quickchartButtonEl =\n",
              "        document.querySelector('#df-c54ef2fa-d171-49a1-823b-ca0ca5e70c9f button');\n",
              "      quickchartButtonEl.style.display =\n",
              "        google.colab.kernel.accessAllowed ? 'block' : 'none';\n",
              "    })();\n",
              "  </script>\n",
              "</div>\n",
              "\n",
              "  <div id=\"id_e298628d-467e-470c-b0f6-07480d4914cf\">\n",
              "    <style>\n",
              "      .colab-df-generate {\n",
              "        background-color: #E8F0FE;\n",
              "        border: none;\n",
              "        border-radius: 50%;\n",
              "        cursor: pointer;\n",
              "        display: none;\n",
              "        fill: #1967D2;\n",
              "        height: 32px;\n",
              "        padding: 0 0 0 0;\n",
              "        width: 32px;\n",
              "      }\n",
              "\n",
              "      .colab-df-generate:hover {\n",
              "        background-color: #E2EBFA;\n",
              "        box-shadow: 0px 1px 2px rgba(60, 64, 67, 0.3), 0px 1px 3px 1px rgba(60, 64, 67, 0.15);\n",
              "        fill: #174EA6;\n",
              "      }\n",
              "\n",
              "      [theme=dark] .colab-df-generate {\n",
              "        background-color: #3B4455;\n",
              "        fill: #D2E3FC;\n",
              "      }\n",
              "\n",
              "      [theme=dark] .colab-df-generate:hover {\n",
              "        background-color: #434B5C;\n",
              "        box-shadow: 0px 1px 3px 1px rgba(0, 0, 0, 0.15);\n",
              "        filter: drop-shadow(0px 1px 2px rgba(0, 0, 0, 0.3));\n",
              "        fill: #FFFFFF;\n",
              "      }\n",
              "    </style>\n",
              "    <button class=\"colab-df-generate\" onclick=\"generateWithVariable('tabela')\"\n",
              "            title=\"Generate code using this dataframe.\"\n",
              "            style=\"display:none;\">\n",
              "\n",
              "  <svg xmlns=\"http://www.w3.org/2000/svg\" height=\"24px\"viewBox=\"0 0 24 24\"\n",
              "       width=\"24px\">\n",
              "    <path d=\"M7,19H8.4L18.45,9,17,7.55,7,17.6ZM5,21V16.75L18.45,3.32a2,2,0,0,1,2.83,0l1.4,1.43a1.91,1.91,0,0,1,.58,1.4,1.91,1.91,0,0,1-.58,1.4L9.25,21ZM18.45,9,17,7.55Zm-12,3A5.31,5.31,0,0,0,4.9,8.1,5.31,5.31,0,0,0,1,6.5,5.31,5.31,0,0,0,4.9,4.9,5.31,5.31,0,0,0,6.5,1,5.31,5.31,0,0,0,8.1,4.9,5.31,5.31,0,0,0,12,6.5,5.46,5.46,0,0,0,6.5,12Z\"/>\n",
              "  </svg>\n",
              "    </button>\n",
              "    <script>\n",
              "      (() => {\n",
              "      const buttonEl =\n",
              "        document.querySelector('#id_e298628d-467e-470c-b0f6-07480d4914cf button.colab-df-generate');\n",
              "      buttonEl.style.display =\n",
              "        google.colab.kernel.accessAllowed ? 'block' : 'none';\n",
              "\n",
              "      buttonEl.onclick = () => {\n",
              "        google.colab.notebook.generateWithVariable('tabela');\n",
              "      }\n",
              "      })();\n",
              "    </script>\n",
              "  </div>\n",
              "\n",
              "    </div>\n",
              "  </div>\n"
            ],
            "application/vnd.google.colaboratory.intrinsic+json": {
              "type": "dataframe",
              "variable_name": "tabela",
              "summary": "{\n  \"name\": \"tabela\",\n  \"rows\": 63,\n  \"fields\": [\n    {\n      \"column\": \"Xi\",\n      \"properties\": {\n        \"dtype\": \"number\",\n        \"std\": 26,\n        \"min\": -41,\n        \"max\": 64,\n        \"num_unique_values\": 63,\n        \"samples\": [\n          -3,\n          -8,\n          0\n        ],\n        \"semantic_type\": \"\",\n        \"description\": \"\"\n      }\n    },\n    {\n      \"column\": \"Fabs\",\n      \"properties\": {\n        \"dtype\": \"date\",\n        \"min\": \"1\",\n        \"max\": \"4\",\n        \"num_unique_values\": 4,\n        \"samples\": [\n          \"2\",\n          \"3\",\n          \"4\"\n        ],\n        \"semantic_type\": \"\",\n        \"description\": \"\"\n      }\n    },\n    {\n      \"column\": \"Fac\",\n      \"properties\": {\n        \"dtype\": \"date\",\n        \"min\": \"4\",\n        \"max\": \"100\",\n        \"num_unique_values\": 63,\n        \"samples\": [\n          \"99\",\n          \"91\",\n          \"4\"\n        ],\n        \"semantic_type\": \"\",\n        \"description\": \"\"\n      }\n    },\n    {\n      \"column\": \"Fobs\",\n      \"properties\": {\n        \"dtype\": \"date\",\n        \"min\": 0.04,\n        \"max\": 1.0,\n        \"num_unique_values\": 63,\n        \"samples\": [\n          0.99,\n          0.91,\n          0.04\n        ],\n        \"semantic_type\": \"\",\n        \"description\": \"\"\n      }\n    },\n    {\n      \"column\": \"Zi\",\n      \"properties\": {\n        \"dtype\": \"number\",\n        \"std\": 1.0945093860636148,\n        \"min\": -2.2114174269309954,\n        \"max\": 2.19212571412257,\n        \"num_unique_values\": 63,\n        \"samples\": [\n          -0.6177541949306573,\n          -0.8274467254570175,\n          -0.49193867661484114\n        ],\n        \"semantic_type\": \"\",\n        \"description\": \"\"\n      }\n    },\n    {\n      \"column\": \"Fesp\",\n      \"properties\": {\n        \"dtype\": \"number\",\n        \"std\": 0.3162223937050122,\n        \"min\": 0.013503472075045328,\n        \"max\": 0.985814784755113,\n        \"num_unique_values\": 63,\n        \"samples\": [\n          0.2683686907822136,\n          0.20399195302974987,\n          0.31138134777396215\n        ],\n        \"semantic_type\": \"\",\n        \"description\": \"\"\n      }\n    },\n    {\n      \"column\": \"|Fesp(Xi) - Fobs(Xi)|\",\n      \"properties\": {\n        \"dtype\": \"date\",\n        \"min\": 0.26635515881462535,\n        \"max\": 0.7314315841067982,\n        \"num_unique_values\": 63,\n        \"samples\": [\n          0.7216313092177864,\n          0.7060080469702501,\n          0.27138134777396217\n        ],\n        \"semantic_type\": \"\",\n        \"description\": \"\"\n      }\n    },\n    {\n      \"column\": \"|Fesp(Xi) - Fobs(Xi-1)|\",\n      \"properties\": {\n        \"dtype\": \"number\",\n        \"std\": 0.16671128743312696,\n        \"min\": 0.2816142018545023,\n        \"max\": 0.7114315841067982,\n        \"num_unique_values\": 63,\n        \"samples\": [\n          0.7016313092177864,\n          0.6860080469702501,\n          0.31138134777396215\n        ],\n        \"semantic_type\": \"\",\n        \"description\": \"\"\n      }\n    }\n  ]\n}"
            }
          },
          "metadata": {},
          "execution_count": 37
        }
      ]
    },
    {
      "cell_type": "code",
      "source": [
        "Dcalc = max([max(tabela['|Fesp(Xi) - Fobs(Xi-1)|']), max(tabela['|Fesp(Xi) - Fobs(Xi)|'])])\n",
        "Dcalc"
      ],
      "metadata": {
        "colab": {
          "base_uri": "https://localhost:8080/"
        },
        "id": "0fYfcMDd6BrC",
        "outputId": "44bc79dd-f908-4bcc-cc25-a7752080261c"
      },
      "execution_count": null,
      "outputs": [
        {
          "output_type": "execute_result",
          "data": {
            "text/plain": [
              "0.7314315841067982"
            ]
          },
          "metadata": {},
          "execution_count": 38
        }
      ]
    },
    {
      "cell_type": "code",
      "execution_count": null,
      "metadata": {
        "id": "SODAGdtl9rjd"
      },
      "outputs": [],
      "source": [
        "def kolmogorov_smirnov_critico(n):\n",
        "    # table of critical values for the kolmogorov-smirnov test - 95% confidence\n",
        "    # Source: https://www.soest.hawaii.edu/GG/FACULTY/ITO/GG413/K_S_Table_one_Sample.pdf\n",
        "    # Source: http://www.real-statistics.com/statistics-tables/kolmogorov-smirnov-table/\n",
        "    # alpha = 0.05 (95% confidential level)\n",
        "\n",
        "    if n <= 40:\n",
        "        # valores entre 1 e 40\n",
        "        kolmogorov_critico = [0.97500, 0.84189, 0.70760, 0.62394, 0.56328, 0.51926, 0.48342, 0.45427, 0.43001, 0.40925,\n",
        "                      0.39122, 0.37543, 0.36143, 0.34890, 0.33760, 0.32733, 0.31796, 0.30936, 0.30143, 0.29408,\n",
        "                      0.28724, 0.28087, 0.27490, 0.26931, 0.26404, 0.25907, 0.25438, 0.24993, 0.24571, 0.24170,\n",
        "                      0.23788, 0.23424, 0.23076, 0.22743, 0.22425, 0.22119, 0.21826, 0.21544, 0.21273, 0.21012]\n",
        "        ks_critico = kolmogorov_critico[n - 1]\n",
        "    elif n > 40:\n",
        "        # valores acima de 40:\n",
        "        kolmogorov_critico = 1.36/(np.sqrt(n))\n",
        "        ks_critico = kolmogorov_critico\n",
        "    else:\n",
        "        pass\n",
        "\n",
        "    return ks_critico"
      ]
    },
    {
      "cell_type": "code",
      "execution_count": null,
      "metadata": {
        "colab": {
          "base_uri": "https://localhost:8080/"
        },
        "outputId": "d32c75c2-db71-4786-ed99-7266a4603932",
        "id": "B2cyqsbk7WKP"
      },
      "outputs": [
        {
          "output_type": "execute_result",
          "data": {
            "text/plain": [
              "0.136"
            ]
          },
          "metadata": {},
          "execution_count": 40
        }
      ],
      "source": [
        "Dc = kolmogorov_smirnov_critico(cont)\n",
        "Dc"
      ]
    },
    {
      "cell_type": "code",
      "execution_count": null,
      "metadata": {
        "colab": {
          "base_uri": "https://localhost:8080/"
        },
        "outputId": "f282575e-bce1-4685-cfce-e9f35a6ca192",
        "id": "KNYpDLfi7grT"
      },
      "outputs": [
        {
          "output_type": "stream",
          "name": "stdout",
          "text": [
            "Com 95% de confianca, temos evidências para rejeitar a hipótese de normalidade dos dados, segundo o teste de Kolmogorov-Smirnov\n"
          ]
        }
      ],
      "source": [
        "if Dc >= Dcalc:\n",
        "  print(\"Com 95% de confianca, não temos evidências para rejeitar a hipótese de normalidade dos dados, segundo o teste de Kolmogorov-Smirnov\")\n",
        "else:\n",
        "  print(\"Com 95% de confianca, temos evidências para rejeitar a hipótese de normalidade dos dados, segundo o teste de Kolmogorov-Smirnov\")"
      ]
    },
    {
      "cell_type": "code",
      "execution_count": null,
      "metadata": {
        "colab": {
          "base_uri": "https://localhost:8080/"
        },
        "outputId": "56f7f2a0-93f0-4f7f-890a-11a691d72cdc",
        "id": "T7WbeuAY960F"
      },
      "outputs": [
        {
          "output_type": "stream",
          "name": "stdout",
          "text": [
            "0.6086501019683699\n",
            "4.4633757039791465e-36\n"
          ]
        }
      ],
      "source": [
        "ks_stat, ks_pvalue = stats.kstest(valores, stats.norm.cdf)\n",
        "print(ks_stat)\n",
        "print(ks_pvalue)"
      ]
    }
  ],
  "metadata": {
    "colab": {
      "provenance": [],
      "include_colab_link": true
    },
    "kernelspec": {
      "display_name": "Python 3",
      "name": "python3"
    },
    "language_info": {
      "name": "python"
    }
  },
  "nbformat": 4,
  "nbformat_minor": 0
}