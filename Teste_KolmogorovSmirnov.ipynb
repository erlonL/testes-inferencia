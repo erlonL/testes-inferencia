{
  "cells": [
    {
      "cell_type": "markdown",
      "metadata": {
        "id": "view-in-github",
        "colab_type": "text"
      },
      "source": [
        "<a href=\"https://colab.research.google.com/github/erlonL/testes-inferencia/blob/main/Teste_KolmogorovSmirnov.ipynb\" target=\"_parent\"><img src=\"https://colab.research.google.com/assets/colab-badge.svg\" alt=\"Open In Colab\"/></a>"
      ]
    },
    {
      "cell_type": "markdown",
      "source": [
        "# Teste de Kolmogorov Smirnov\n",
        "\n",
        "### Grupo: Erlon Lacerda , Maria Eduarda Bandeira"
      ],
      "metadata": {
        "id": "NywbsQVEjdBH"
      }
    },
    {
      "cell_type": "markdown",
      "metadata": {
        "id": "EHip_FlTrCpG"
      },
      "source": [
        "## Implementação"
      ]
    },
    {
      "cell_type": "markdown",
      "source": [
        "Xi | Fabs | Fac | Fobs | Zi | Fesp | |Fesp(Xi) - Fobs(Xi)| | |Fesp(Xi) - Fobs(Xi-1)|\n",
        "\n",
        "Xi: Os valores únicos do conjunto utilizado\n",
        "\n",
        "Fabs: Quantidade de vezes que esse valor se repete na amostra\n",
        "\n",
        "Fac: Frequencia acumulada da frequencia absoluta\n",
        "\n",
        "Fobs: Frequencia acumulada dividido pela quantidade de valores\n",
        "\n",
        "Zi: valor x seguindo a distribuição normal\n",
        "\n",
        "Fesp: Valor de Zi na tabela normal"
      ],
      "metadata": {
        "id": "JGZSLAxIhSO-"
      }
    },
    {
      "cell_type": "code",
      "execution_count": 1,
      "metadata": {
        "id": "FX1hveBwUDMA"
      },
      "outputs": [],
      "source": [
        "import pandas as pd\n",
        "import numpy as np\n",
        "from scipy import stats"
      ]
    },
    {
      "cell_type": "code",
      "execution_count": 2,
      "metadata": {
        "id": "4weqVuKTulNQ"
      },
      "outputs": [],
      "source": [
        "# Gerando os valores aleatórios\n",
        "valores = np.random.normal(10, 25, size=(100)).astype(int)"
      ]
    },
    {
      "cell_type": "code",
      "source": [
        "valores"
      ],
      "metadata": {
        "colab": {
          "base_uri": "https://localhost:8080/"
        },
        "id": "j64s2HerFHcN",
        "outputId": "746ceef1-2c83-47fa-98de-66e53699c086"
      },
      "execution_count": 3,
      "outputs": [
        {
          "output_type": "execute_result",
          "data": {
            "text/plain": [
              "array([ 28,  -6,  42,  39,  20,  45,   2,  32,  47,   5,  -4,  39,  24,\n",
              "        -1,  -2,  -6, -21,  30,  28,  12, -10,  39, -13,  21,  -5,  36,\n",
              "        54,  48,  55,   9,  72, -21,  52,  36,  22,   0, -12,  27,  37,\n",
              "         0,  16, -24,  18, -14, -53,  41,  22,  -9,   7,  -2,  46,   4,\n",
              "         6,   9,  43,  39, -24,  -5, -55,  19,  44,  42,  25,  42, -22,\n",
              "         4,  44,  -3,  -8,  25,  12,   0,  38,  -1,   1,  45, -17, -10,\n",
              "         0, -37, -10,  42, -10, -27,   0,  15,  -7,  46,  35, -28,   8,\n",
              "       -20,  17,   6, -12,  35,  50,  17,  37,  29])"
            ]
          },
          "metadata": {},
          "execution_count": 3
        }
      ]
    },
    {
      "cell_type": "code",
      "source": [
        "# criando uma lista dos valores únicos do conjunto\n",
        "xi = list(set(valores))"
      ],
      "metadata": {
        "id": "3VtuZg1-Ji89"
      },
      "execution_count": 5,
      "outputs": []
    },
    {
      "cell_type": "code",
      "source": [
        "# Informações importantes sobre o conjunto de valores\n",
        "media = np.mean(valores)\n",
        "var = np.var(valores)\n",
        "dp = np.std(valores)\n",
        "cont = len(valores)\n",
        "cont_unicos = len(xi)\n",
        "\n",
        "print(' Média: ', media, '\\n', 'Variância: ', var, '\\n', 'Desvio Padrão: ', dp, '\\n', 'Contagem: ', cont, '\\n', 'Contagem de valores unicos: ', cont_unicos)"
      ],
      "metadata": {
        "colab": {
          "base_uri": "https://localhost:8080/"
        },
        "id": "8jhdWBeGKKPl",
        "outputId": "db3c24d7-5290-418f-ccd0-d7d36f524a1b"
      },
      "execution_count": 6,
      "outputs": [
        {
          "output_type": "stream",
          "name": "stdout",
          "text": [
            " Média:  13.31 \n",
            " Variância:  656.3939 \n",
            " Desvio Padrão:  25.620185401358828 \n",
            " Contagem:  100 \n",
            " Contagem de valores unicos:  66\n"
          ]
        }
      ]
    },
    {
      "cell_type": "code",
      "source": [
        "tabela = pd.DataFrame()"
      ],
      "metadata": {
        "id": "TaLfsC73GwJ0"
      },
      "execution_count": 7,
      "outputs": []
    },
    {
      "cell_type": "code",
      "source": [
        "colunas = ['Xi',\n",
        "           'Fabs',\n",
        "           'Fac',\n",
        "           'Fobs',\n",
        "           'Zi',\n",
        "           'Fesp',\n",
        "           '|Fesp(Xi) - Fobs(Xi)|',\n",
        "           '|Fesp(Xi) - Fobs(Xi-1)|']"
      ],
      "metadata": {
        "id": "EX3BpGMYHFuW"
      },
      "execution_count": 8,
      "outputs": []
    },
    {
      "cell_type": "code",
      "source": [
        "tabela = pd.DataFrame(columns=colunas)"
      ],
      "metadata": {
        "id": "YZWU-_EGIBov"
      },
      "execution_count": 9,
      "outputs": []
    },
    {
      "cell_type": "code",
      "execution_count": 10,
      "metadata": {
        "id": "5iwsIOAWvs7X"
      },
      "outputs": [],
      "source": [
        "tabela['Xi'] = xi"
      ]
    },
    {
      "cell_type": "code",
      "source": [
        "# Frequência absoluta: contagem de vezes que o valor aparece na amostra\n",
        "fabs = pd.value_counts(valores)"
      ],
      "metadata": {
        "id": "9yQi6jKJOjFI"
      },
      "execution_count": 11,
      "outputs": []
    },
    {
      "cell_type": "code",
      "source": [
        "fabs"
      ],
      "metadata": {
        "colab": {
          "base_uri": "https://localhost:8080/"
        },
        "id": "LUyXk6jiQadB",
        "outputId": "e7b01b62-5860-44b7-daf2-7566d5051296"
      },
      "execution_count": 12,
      "outputs": [
        {
          "output_type": "execute_result",
          "data": {
            "text/plain": [
              " 0     5\n",
              "-10    4\n",
              " 42    4\n",
              " 39    4\n",
              " 28    2\n",
              "      ..\n",
              " 18    1\n",
              "-14    1\n",
              "-53    1\n",
              " 41    1\n",
              " 29    1\n",
              "Length: 66, dtype: int64"
            ]
          },
          "metadata": {},
          "execution_count": 12
        }
      ]
    },
    {
      "cell_type": "code",
      "source": [
        "# dicionário para mapear os valores de 'Xi' para 'Fabs'\n",
        "mapa_valores = dict(zip(fabs.index, fabs.values))\n",
        "\n",
        "# 'Fabs' com base no mapeamento\n",
        "tabela['Fabs'] = tabela['Xi'].map(mapa_valores)"
      ],
      "metadata": {
        "id": "xzfQwdOFh23p"
      },
      "execution_count": 13,
      "outputs": []
    },
    {
      "cell_type": "code",
      "source": [
        "# Frequência acumulada\n",
        "tabela['Fac'] = tabela['Fabs'].cumsum()"
      ],
      "metadata": {
        "id": "WnmTRtEHWfiv"
      },
      "execution_count": 15,
      "outputs": []
    },
    {
      "cell_type": "code",
      "source": [
        "# Frequência observada: frequência acumulada dividida pelo número de valores na amostra\n",
        "tabela['Fobs'] = tabela['Fac'] / cont"
      ],
      "metadata": {
        "id": "sU1WeUF5Wuu_"
      },
      "execution_count": 16,
      "outputs": []
    },
    {
      "cell_type": "code",
      "source": [
        "# Zi: valor do xi seguindo a distribuição normal\n",
        "tabela['Zi'] = (tabela['Xi'] - media) / dp"
      ],
      "metadata": {
        "id": "DP0MixeszWdO"
      },
      "execution_count": 17,
      "outputs": []
    },
    {
      "cell_type": "code",
      "source": [
        "# Frequência esperada: valor do zi na tabela normal\n",
        "tabela['Fesp'] = stats.norm.cdf(tabela['Zi'])"
      ],
      "metadata": {
        "id": "qd4djnNj0ibo"
      },
      "execution_count": 18,
      "outputs": []
    },
    {
      "cell_type": "code",
      "source": [
        "# diferença entre 'Fesp' e 'Fobs'\n",
        "tabela['|Fesp(Xi) - Fobs(Xi)|'] = abs(tabela['Fesp'] - tabela['Fobs'])"
      ],
      "metadata": {
        "id": "5BM1FUTr1drT"
      },
      "execution_count": 19,
      "outputs": []
    },
    {
      "cell_type": "code",
      "source": [
        "# diferença entre 'Fesp' e 'Fobs' deslocando 'Fobs' em uma posição\n",
        "tabela['|Fesp(Xi) - Fobs(Xi-1)|'] = abs(tabela['Fesp'] - tabela['Fobs'].shift(fill_value=0))"
      ],
      "metadata": {
        "id": "C0rI-J0Xi2T4"
      },
      "execution_count": 22,
      "outputs": []
    },
    {
      "cell_type": "code",
      "source": [
        "tabela"
      ],
      "metadata": {
        "colab": {
          "base_uri": "https://localhost:8080/",
          "height": 424
        },
        "id": "7vz_gOt1Jx77",
        "outputId": "f9fde11d-f663-40a5-efc2-272969f90141"
      },
      "execution_count": 23,
      "outputs": [
        {
          "output_type": "execute_result",
          "data": {
            "text/plain": [
              "    Xi  Fabs  Fac  Fobs        Zi      Fesp  |Fesp(Xi) - Fobs(Xi)|  \\\n",
              "0    0     5    5  0.05 -0.519512  0.301702               0.251702   \n",
              "1    1     1    6  0.06 -0.480481  0.315443               0.255443   \n",
              "2    2     1    7  0.07 -0.441449  0.329444               0.259444   \n",
              "3    4     2    9  0.09 -0.363385  0.358159               0.268159   \n",
              "4    5     1   10  0.10 -0.324354  0.372835               0.272835   \n",
              "..  ..   ...  ...   ...       ...       ...                    ...   \n",
              "61  -6     2   94  0.94 -0.753703  0.225514               0.714486   \n",
              "62  -5     2   96  0.96 -0.714671  0.237406               0.722594   \n",
              "63  -4     1   97  0.97 -0.675639  0.249635               0.720365   \n",
              "64  -3     1   98  0.98 -0.636607  0.262190               0.717810   \n",
              "65  -2     2  100  1.00 -0.597576  0.275062               0.724938   \n",
              "\n",
              "    |Fesp(Xi) - Fobs(Xi-1)|  \n",
              "0                  0.301702  \n",
              "1                  0.265443  \n",
              "2                  0.269444  \n",
              "3                  0.288159  \n",
              "4                  0.282835  \n",
              "..                      ...  \n",
              "61                 0.694486  \n",
              "62                 0.702594  \n",
              "63                 0.710365  \n",
              "64                 0.707810  \n",
              "65                 0.704938  \n",
              "\n",
              "[66 rows x 8 columns]"
            ],
            "text/html": [
              "\n",
              "  <div id=\"df-8bf61397-94e8-46eb-862f-af80fe7bfe32\" class=\"colab-df-container\">\n",
              "    <div>\n",
              "<style scoped>\n",
              "    .dataframe tbody tr th:only-of-type {\n",
              "        vertical-align: middle;\n",
              "    }\n",
              "\n",
              "    .dataframe tbody tr th {\n",
              "        vertical-align: top;\n",
              "    }\n",
              "\n",
              "    .dataframe thead th {\n",
              "        text-align: right;\n",
              "    }\n",
              "</style>\n",
              "<table border=\"1\" class=\"dataframe\">\n",
              "  <thead>\n",
              "    <tr style=\"text-align: right;\">\n",
              "      <th></th>\n",
              "      <th>Xi</th>\n",
              "      <th>Fabs</th>\n",
              "      <th>Fac</th>\n",
              "      <th>Fobs</th>\n",
              "      <th>Zi</th>\n",
              "      <th>Fesp</th>\n",
              "      <th>|Fesp(Xi) - Fobs(Xi)|</th>\n",
              "      <th>|Fesp(Xi) - Fobs(Xi-1)|</th>\n",
              "    </tr>\n",
              "  </thead>\n",
              "  <tbody>\n",
              "    <tr>\n",
              "      <th>0</th>\n",
              "      <td>0</td>\n",
              "      <td>5</td>\n",
              "      <td>5</td>\n",
              "      <td>0.05</td>\n",
              "      <td>-0.519512</td>\n",
              "      <td>0.301702</td>\n",
              "      <td>0.251702</td>\n",
              "      <td>0.301702</td>\n",
              "    </tr>\n",
              "    <tr>\n",
              "      <th>1</th>\n",
              "      <td>1</td>\n",
              "      <td>1</td>\n",
              "      <td>6</td>\n",
              "      <td>0.06</td>\n",
              "      <td>-0.480481</td>\n",
              "      <td>0.315443</td>\n",
              "      <td>0.255443</td>\n",
              "      <td>0.265443</td>\n",
              "    </tr>\n",
              "    <tr>\n",
              "      <th>2</th>\n",
              "      <td>2</td>\n",
              "      <td>1</td>\n",
              "      <td>7</td>\n",
              "      <td>0.07</td>\n",
              "      <td>-0.441449</td>\n",
              "      <td>0.329444</td>\n",
              "      <td>0.259444</td>\n",
              "      <td>0.269444</td>\n",
              "    </tr>\n",
              "    <tr>\n",
              "      <th>3</th>\n",
              "      <td>4</td>\n",
              "      <td>2</td>\n",
              "      <td>9</td>\n",
              "      <td>0.09</td>\n",
              "      <td>-0.363385</td>\n",
              "      <td>0.358159</td>\n",
              "      <td>0.268159</td>\n",
              "      <td>0.288159</td>\n",
              "    </tr>\n",
              "    <tr>\n",
              "      <th>4</th>\n",
              "      <td>5</td>\n",
              "      <td>1</td>\n",
              "      <td>10</td>\n",
              "      <td>0.10</td>\n",
              "      <td>-0.324354</td>\n",
              "      <td>0.372835</td>\n",
              "      <td>0.272835</td>\n",
              "      <td>0.282835</td>\n",
              "    </tr>\n",
              "    <tr>\n",
              "      <th>...</th>\n",
              "      <td>...</td>\n",
              "      <td>...</td>\n",
              "      <td>...</td>\n",
              "      <td>...</td>\n",
              "      <td>...</td>\n",
              "      <td>...</td>\n",
              "      <td>...</td>\n",
              "      <td>...</td>\n",
              "    </tr>\n",
              "    <tr>\n",
              "      <th>61</th>\n",
              "      <td>-6</td>\n",
              "      <td>2</td>\n",
              "      <td>94</td>\n",
              "      <td>0.94</td>\n",
              "      <td>-0.753703</td>\n",
              "      <td>0.225514</td>\n",
              "      <td>0.714486</td>\n",
              "      <td>0.694486</td>\n",
              "    </tr>\n",
              "    <tr>\n",
              "      <th>62</th>\n",
              "      <td>-5</td>\n",
              "      <td>2</td>\n",
              "      <td>96</td>\n",
              "      <td>0.96</td>\n",
              "      <td>-0.714671</td>\n",
              "      <td>0.237406</td>\n",
              "      <td>0.722594</td>\n",
              "      <td>0.702594</td>\n",
              "    </tr>\n",
              "    <tr>\n",
              "      <th>63</th>\n",
              "      <td>-4</td>\n",
              "      <td>1</td>\n",
              "      <td>97</td>\n",
              "      <td>0.97</td>\n",
              "      <td>-0.675639</td>\n",
              "      <td>0.249635</td>\n",
              "      <td>0.720365</td>\n",
              "      <td>0.710365</td>\n",
              "    </tr>\n",
              "    <tr>\n",
              "      <th>64</th>\n",
              "      <td>-3</td>\n",
              "      <td>1</td>\n",
              "      <td>98</td>\n",
              "      <td>0.98</td>\n",
              "      <td>-0.636607</td>\n",
              "      <td>0.262190</td>\n",
              "      <td>0.717810</td>\n",
              "      <td>0.707810</td>\n",
              "    </tr>\n",
              "    <tr>\n",
              "      <th>65</th>\n",
              "      <td>-2</td>\n",
              "      <td>2</td>\n",
              "      <td>100</td>\n",
              "      <td>1.00</td>\n",
              "      <td>-0.597576</td>\n",
              "      <td>0.275062</td>\n",
              "      <td>0.724938</td>\n",
              "      <td>0.704938</td>\n",
              "    </tr>\n",
              "  </tbody>\n",
              "</table>\n",
              "<p>66 rows × 8 columns</p>\n",
              "</div>\n",
              "    <div class=\"colab-df-buttons\">\n",
              "\n",
              "  <div class=\"colab-df-container\">\n",
              "    <button class=\"colab-df-convert\" onclick=\"convertToInteractive('df-8bf61397-94e8-46eb-862f-af80fe7bfe32')\"\n",
              "            title=\"Convert this dataframe to an interactive table.\"\n",
              "            style=\"display:none;\">\n",
              "\n",
              "  <svg xmlns=\"http://www.w3.org/2000/svg\" height=\"24px\" viewBox=\"0 -960 960 960\">\n",
              "    <path d=\"M120-120v-720h720v720H120Zm60-500h600v-160H180v160Zm220 220h160v-160H400v160Zm0 220h160v-160H400v160ZM180-400h160v-160H180v160Zm440 0h160v-160H620v160ZM180-180h160v-160H180v160Zm440 0h160v-160H620v160Z\"/>\n",
              "  </svg>\n",
              "    </button>\n",
              "\n",
              "  <style>\n",
              "    .colab-df-container {\n",
              "      display:flex;\n",
              "      gap: 12px;\n",
              "    }\n",
              "\n",
              "    .colab-df-convert {\n",
              "      background-color: #E8F0FE;\n",
              "      border: none;\n",
              "      border-radius: 50%;\n",
              "      cursor: pointer;\n",
              "      display: none;\n",
              "      fill: #1967D2;\n",
              "      height: 32px;\n",
              "      padding: 0 0 0 0;\n",
              "      width: 32px;\n",
              "    }\n",
              "\n",
              "    .colab-df-convert:hover {\n",
              "      background-color: #E2EBFA;\n",
              "      box-shadow: 0px 1px 2px rgba(60, 64, 67, 0.3), 0px 1px 3px 1px rgba(60, 64, 67, 0.15);\n",
              "      fill: #174EA6;\n",
              "    }\n",
              "\n",
              "    .colab-df-buttons div {\n",
              "      margin-bottom: 4px;\n",
              "    }\n",
              "\n",
              "    [theme=dark] .colab-df-convert {\n",
              "      background-color: #3B4455;\n",
              "      fill: #D2E3FC;\n",
              "    }\n",
              "\n",
              "    [theme=dark] .colab-df-convert:hover {\n",
              "      background-color: #434B5C;\n",
              "      box-shadow: 0px 1px 3px 1px rgba(0, 0, 0, 0.15);\n",
              "      filter: drop-shadow(0px 1px 2px rgba(0, 0, 0, 0.3));\n",
              "      fill: #FFFFFF;\n",
              "    }\n",
              "  </style>\n",
              "\n",
              "    <script>\n",
              "      const buttonEl =\n",
              "        document.querySelector('#df-8bf61397-94e8-46eb-862f-af80fe7bfe32 button.colab-df-convert');\n",
              "      buttonEl.style.display =\n",
              "        google.colab.kernel.accessAllowed ? 'block' : 'none';\n",
              "\n",
              "      async function convertToInteractive(key) {\n",
              "        const element = document.querySelector('#df-8bf61397-94e8-46eb-862f-af80fe7bfe32');\n",
              "        const dataTable =\n",
              "          await google.colab.kernel.invokeFunction('convertToInteractive',\n",
              "                                                    [key], {});\n",
              "        if (!dataTable) return;\n",
              "\n",
              "        const docLinkHtml = 'Like what you see? Visit the ' +\n",
              "          '<a target=\"_blank\" href=https://colab.research.google.com/notebooks/data_table.ipynb>data table notebook</a>'\n",
              "          + ' to learn more about interactive tables.';\n",
              "        element.innerHTML = '';\n",
              "        dataTable['output_type'] = 'display_data';\n",
              "        await google.colab.output.renderOutput(dataTable, element);\n",
              "        const docLink = document.createElement('div');\n",
              "        docLink.innerHTML = docLinkHtml;\n",
              "        element.appendChild(docLink);\n",
              "      }\n",
              "    </script>\n",
              "  </div>\n",
              "\n",
              "\n",
              "<div id=\"df-c5703dbb-a7c5-40f0-8d68-94f8b60bed7d\">\n",
              "  <button class=\"colab-df-quickchart\" onclick=\"quickchart('df-c5703dbb-a7c5-40f0-8d68-94f8b60bed7d')\"\n",
              "            title=\"Suggest charts\"\n",
              "            style=\"display:none;\">\n",
              "\n",
              "<svg xmlns=\"http://www.w3.org/2000/svg\" height=\"24px\"viewBox=\"0 0 24 24\"\n",
              "     width=\"24px\">\n",
              "    <g>\n",
              "        <path d=\"M19 3H5c-1.1 0-2 .9-2 2v14c0 1.1.9 2 2 2h14c1.1 0 2-.9 2-2V5c0-1.1-.9-2-2-2zM9 17H7v-7h2v7zm4 0h-2V7h2v10zm4 0h-2v-4h2v4z\"/>\n",
              "    </g>\n",
              "</svg>\n",
              "  </button>\n",
              "\n",
              "<style>\n",
              "  .colab-df-quickchart {\n",
              "      --bg-color: #E8F0FE;\n",
              "      --fill-color: #1967D2;\n",
              "      --hover-bg-color: #E2EBFA;\n",
              "      --hover-fill-color: #174EA6;\n",
              "      --disabled-fill-color: #AAA;\n",
              "      --disabled-bg-color: #DDD;\n",
              "  }\n",
              "\n",
              "  [theme=dark] .colab-df-quickchart {\n",
              "      --bg-color: #3B4455;\n",
              "      --fill-color: #D2E3FC;\n",
              "      --hover-bg-color: #434B5C;\n",
              "      --hover-fill-color: #FFFFFF;\n",
              "      --disabled-bg-color: #3B4455;\n",
              "      --disabled-fill-color: #666;\n",
              "  }\n",
              "\n",
              "  .colab-df-quickchart {\n",
              "    background-color: var(--bg-color);\n",
              "    border: none;\n",
              "    border-radius: 50%;\n",
              "    cursor: pointer;\n",
              "    display: none;\n",
              "    fill: var(--fill-color);\n",
              "    height: 32px;\n",
              "    padding: 0;\n",
              "    width: 32px;\n",
              "  }\n",
              "\n",
              "  .colab-df-quickchart:hover {\n",
              "    background-color: var(--hover-bg-color);\n",
              "    box-shadow: 0 1px 2px rgba(60, 64, 67, 0.3), 0 1px 3px 1px rgba(60, 64, 67, 0.15);\n",
              "    fill: var(--button-hover-fill-color);\n",
              "  }\n",
              "\n",
              "  .colab-df-quickchart-complete:disabled,\n",
              "  .colab-df-quickchart-complete:disabled:hover {\n",
              "    background-color: var(--disabled-bg-color);\n",
              "    fill: var(--disabled-fill-color);\n",
              "    box-shadow: none;\n",
              "  }\n",
              "\n",
              "  .colab-df-spinner {\n",
              "    border: 2px solid var(--fill-color);\n",
              "    border-color: transparent;\n",
              "    border-bottom-color: var(--fill-color);\n",
              "    animation:\n",
              "      spin 1s steps(1) infinite;\n",
              "  }\n",
              "\n",
              "  @keyframes spin {\n",
              "    0% {\n",
              "      border-color: transparent;\n",
              "      border-bottom-color: var(--fill-color);\n",
              "      border-left-color: var(--fill-color);\n",
              "    }\n",
              "    20% {\n",
              "      border-color: transparent;\n",
              "      border-left-color: var(--fill-color);\n",
              "      border-top-color: var(--fill-color);\n",
              "    }\n",
              "    30% {\n",
              "      border-color: transparent;\n",
              "      border-left-color: var(--fill-color);\n",
              "      border-top-color: var(--fill-color);\n",
              "      border-right-color: var(--fill-color);\n",
              "    }\n",
              "    40% {\n",
              "      border-color: transparent;\n",
              "      border-right-color: var(--fill-color);\n",
              "      border-top-color: var(--fill-color);\n",
              "    }\n",
              "    60% {\n",
              "      border-color: transparent;\n",
              "      border-right-color: var(--fill-color);\n",
              "    }\n",
              "    80% {\n",
              "      border-color: transparent;\n",
              "      border-right-color: var(--fill-color);\n",
              "      border-bottom-color: var(--fill-color);\n",
              "    }\n",
              "    90% {\n",
              "      border-color: transparent;\n",
              "      border-bottom-color: var(--fill-color);\n",
              "    }\n",
              "  }\n",
              "</style>\n",
              "\n",
              "  <script>\n",
              "    async function quickchart(key) {\n",
              "      const quickchartButtonEl =\n",
              "        document.querySelector('#' + key + ' button');\n",
              "      quickchartButtonEl.disabled = true;  // To prevent multiple clicks.\n",
              "      quickchartButtonEl.classList.add('colab-df-spinner');\n",
              "      try {\n",
              "        const charts = await google.colab.kernel.invokeFunction(\n",
              "            'suggestCharts', [key], {});\n",
              "      } catch (error) {\n",
              "        console.error('Error during call to suggestCharts:', error);\n",
              "      }\n",
              "      quickchartButtonEl.classList.remove('colab-df-spinner');\n",
              "      quickchartButtonEl.classList.add('colab-df-quickchart-complete');\n",
              "    }\n",
              "    (() => {\n",
              "      let quickchartButtonEl =\n",
              "        document.querySelector('#df-c5703dbb-a7c5-40f0-8d68-94f8b60bed7d button');\n",
              "      quickchartButtonEl.style.display =\n",
              "        google.colab.kernel.accessAllowed ? 'block' : 'none';\n",
              "    })();\n",
              "  </script>\n",
              "</div>\n",
              "\n",
              "  <div id=\"id_9d7b2662-35d9-4451-baa5-75872ce3627e\">\n",
              "    <style>\n",
              "      .colab-df-generate {\n",
              "        background-color: #E8F0FE;\n",
              "        border: none;\n",
              "        border-radius: 50%;\n",
              "        cursor: pointer;\n",
              "        display: none;\n",
              "        fill: #1967D2;\n",
              "        height: 32px;\n",
              "        padding: 0 0 0 0;\n",
              "        width: 32px;\n",
              "      }\n",
              "\n",
              "      .colab-df-generate:hover {\n",
              "        background-color: #E2EBFA;\n",
              "        box-shadow: 0px 1px 2px rgba(60, 64, 67, 0.3), 0px 1px 3px 1px rgba(60, 64, 67, 0.15);\n",
              "        fill: #174EA6;\n",
              "      }\n",
              "\n",
              "      [theme=dark] .colab-df-generate {\n",
              "        background-color: #3B4455;\n",
              "        fill: #D2E3FC;\n",
              "      }\n",
              "\n",
              "      [theme=dark] .colab-df-generate:hover {\n",
              "        background-color: #434B5C;\n",
              "        box-shadow: 0px 1px 3px 1px rgba(0, 0, 0, 0.15);\n",
              "        filter: drop-shadow(0px 1px 2px rgba(0, 0, 0, 0.3));\n",
              "        fill: #FFFFFF;\n",
              "      }\n",
              "    </style>\n",
              "    <button class=\"colab-df-generate\" onclick=\"generateWithVariable('tabela')\"\n",
              "            title=\"Generate code using this dataframe.\"\n",
              "            style=\"display:none;\">\n",
              "\n",
              "  <svg xmlns=\"http://www.w3.org/2000/svg\" height=\"24px\"viewBox=\"0 0 24 24\"\n",
              "       width=\"24px\">\n",
              "    <path d=\"M7,19H8.4L18.45,9,17,7.55,7,17.6ZM5,21V16.75L18.45,3.32a2,2,0,0,1,2.83,0l1.4,1.43a1.91,1.91,0,0,1,.58,1.4,1.91,1.91,0,0,1-.58,1.4L9.25,21ZM18.45,9,17,7.55Zm-12,3A5.31,5.31,0,0,0,4.9,8.1,5.31,5.31,0,0,0,1,6.5,5.31,5.31,0,0,0,4.9,4.9,5.31,5.31,0,0,0,6.5,1,5.31,5.31,0,0,0,8.1,4.9,5.31,5.31,0,0,0,12,6.5,5.46,5.46,0,0,0,6.5,12Z\"/>\n",
              "  </svg>\n",
              "    </button>\n",
              "    <script>\n",
              "      (() => {\n",
              "      const buttonEl =\n",
              "        document.querySelector('#id_9d7b2662-35d9-4451-baa5-75872ce3627e button.colab-df-generate');\n",
              "      buttonEl.style.display =\n",
              "        google.colab.kernel.accessAllowed ? 'block' : 'none';\n",
              "\n",
              "      buttonEl.onclick = () => {\n",
              "        google.colab.notebook.generateWithVariable('tabela');\n",
              "      }\n",
              "      })();\n",
              "    </script>\n",
              "  </div>\n",
              "\n",
              "    </div>\n",
              "  </div>\n"
            ],
            "application/vnd.google.colaboratory.intrinsic+json": {
              "type": "dataframe",
              "variable_name": "tabela",
              "summary": "{\n  \"name\": \"tabela\",\n  \"rows\": 66,\n  \"fields\": [\n    {\n      \"column\": \"Xi\",\n      \"properties\": {\n        \"dtype\": \"number\",\n        \"std\": 27,\n        \"min\": -55,\n        \"max\": 72,\n        \"num_unique_values\": 66,\n        \"samples\": [\n          -14,\n          -5,\n          0\n        ],\n        \"semantic_type\": \"\",\n        \"description\": \"\"\n      }\n    },\n    {\n      \"column\": \"Fabs\",\n      \"properties\": {\n        \"dtype\": \"number\",\n        \"std\": 0,\n        \"min\": 1,\n        \"max\": 5,\n        \"num_unique_values\": 4,\n        \"samples\": [\n          1,\n          4,\n          5\n        ],\n        \"semantic_type\": \"\",\n        \"description\": \"\"\n      }\n    },\n    {\n      \"column\": \"Fac\",\n      \"properties\": {\n        \"dtype\": \"number\",\n        \"std\": 28,\n        \"min\": 5,\n        \"max\": 100,\n        \"num_unique_values\": 66,\n        \"samples\": [\n          81,\n          96,\n          5\n        ],\n        \"semantic_type\": \"\",\n        \"description\": \"\"\n      }\n    },\n    {\n      \"column\": \"Fobs\",\n      \"properties\": {\n        \"dtype\": \"number\",\n        \"std\": 0.28234119450861245,\n        \"min\": 0.05,\n        \"max\": 1.0,\n        \"num_unique_values\": 66,\n        \"samples\": [\n          0.81,\n          0.96,\n          0.05\n        ],\n        \"semantic_type\": \"\",\n        \"description\": \"\"\n      }\n    },\n    {\n      \"column\": \"Zi\",\n      \"properties\": {\n        \"dtype\": \"number\",\n        \"std\": 1.074771060207364,\n        \"min\": -2.666257052003106,\n        \"max\": 2.290771869156233,\n        \"num_unique_values\": 66,\n        \"samples\": [\n          -1.0659563766682012,\n          -0.7146708625702953,\n          -0.5195122436270142\n        ],\n        \"semantic_type\": \"\",\n        \"description\": \"\"\n      }\n    },\n    {\n      \"column\": \"Fesp\",\n      \"properties\": {\n        \"dtype\": \"number\",\n        \"std\": 0.31184535730751445,\n        \"min\": 0.00383505108079012,\n        \"max\": 0.9890116942780712,\n        \"num_unique_values\": 66,\n        \"samples\": [\n          0.14322168107832728,\n          0.23740622313460785,\n          0.30170178854230845\n        ],\n        \"semantic_type\": \"\",\n        \"description\": \"\"\n      }\n    },\n    {\n      \"column\": \"|Fesp(Xi) - Fobs(Xi)|\",\n      \"properties\": {\n        \"dtype\": \"number\",\n        \"std\": 0.1747761127621688,\n        \"min\": 0.25170178854230846,\n        \"max\": 0.7249384558858003,\n        \"num_unique_values\": 66,\n        \"samples\": [\n          0.6667783189216727,\n          0.7225937768653921,\n          0.25170178854230846\n        ],\n        \"semantic_type\": \"\",\n        \"description\": \"\"\n      }\n    },\n    {\n      \"column\": \"|Fesp(Xi) - Fobs(Xi-1)|\",\n      \"properties\": {\n        \"dtype\": \"number\",\n        \"std\": 0.16096309661443295,\n        \"min\": 0.2654428757902847,\n        \"max\": 0.7103651071419032,\n        \"num_unique_values\": 66,\n        \"samples\": [\n          0.6567783189216727,\n          0.702593776865392,\n          0.30170178854230845\n        ],\n        \"semantic_type\": \"\",\n        \"description\": \"\"\n      }\n    }\n  ]\n}"
            }
          },
          "metadata": {},
          "execution_count": 23
        }
      ]
    },
    {
      "cell_type": "code",
      "source": [
        "Dcalc = max([max(tabela['|Fesp(Xi) - Fobs(Xi-1)|']), max(tabela['|Fesp(Xi) - Fobs(Xi)|'])])\n",
        "Dcalc"
      ],
      "metadata": {
        "colab": {
          "base_uri": "https://localhost:8080/"
        },
        "id": "0fYfcMDd6BrC",
        "outputId": "6b569387-29c3-4e01-928f-1804e5ec102a"
      },
      "execution_count": 24,
      "outputs": [
        {
          "output_type": "execute_result",
          "data": {
            "text/plain": [
              "0.7249384558858003"
            ]
          },
          "metadata": {},
          "execution_count": 24
        }
      ]
    },
    {
      "cell_type": "code",
      "execution_count": 25,
      "metadata": {
        "id": "SODAGdtl9rjd"
      },
      "outputs": [],
      "source": [
        "def kolmogorov_smirnov_critico(n):\n",
        "    # table of critical values for the kolmogorov-smirnov test - 95% confidence\n",
        "    # Source: https://www.soest.hawaii.edu/GG/FACULTY/ITO/GG413/K_S_Table_one_Sample.pdf\n",
        "    # Source: http://www.real-statistics.com/statistics-tables/kolmogorov-smirnov-table/\n",
        "    # alpha = 0.05 (95% confidential level)\n",
        "\n",
        "    if n <= 40:\n",
        "        # valores entre 1 e 40\n",
        "        kolmogorov_critico = [0.97500, 0.84189, 0.70760, 0.62394, 0.56328, 0.51926, 0.48342, 0.45427, 0.43001, 0.40925,\n",
        "                      0.39122, 0.37543, 0.36143, 0.34890, 0.33760, 0.32733, 0.31796, 0.30936, 0.30143, 0.29408,\n",
        "                      0.28724, 0.28087, 0.27490, 0.26931, 0.26404, 0.25907, 0.25438, 0.24993, 0.24571, 0.24170,\n",
        "                      0.23788, 0.23424, 0.23076, 0.22743, 0.22425, 0.22119, 0.21826, 0.21544, 0.21273, 0.21012]\n",
        "        ks_critico = kolmogorov_critico[n - 1]\n",
        "    elif n > 40:\n",
        "        # valores acima de 40:\n",
        "        kolmogorov_critico = 1.36/(np.sqrt(n))\n",
        "        ks_critico = kolmogorov_critico\n",
        "    else:\n",
        "        pass\n",
        "\n",
        "    return ks_critico"
      ]
    },
    {
      "cell_type": "code",
      "execution_count": 26,
      "metadata": {
        "colab": {
          "base_uri": "https://localhost:8080/"
        },
        "outputId": "11536fff-dbdc-48f6-fe75-d1c777aac7b4",
        "id": "B2cyqsbk7WKP"
      },
      "outputs": [
        {
          "output_type": "execute_result",
          "data": {
            "text/plain": [
              "0.136"
            ]
          },
          "metadata": {},
          "execution_count": 26
        }
      ],
      "source": [
        "Dc = kolmogorov_smirnov_critico(cont)\n",
        "Dc"
      ]
    },
    {
      "cell_type": "code",
      "execution_count": 27,
      "metadata": {
        "colab": {
          "base_uri": "https://localhost:8080/"
        },
        "outputId": "0ae3f0e6-114c-44b6-fbd5-e78eea91887f",
        "id": "KNYpDLfi7grT"
      },
      "outputs": [
        {
          "output_type": "stream",
          "name": "stdout",
          "text": [
            "Com 95% de confianca, temos evidências para rejeitar a hipótese de normalidade dos dados, segundo o teste de Kolmogorov-Smirnov\n"
          ]
        }
      ],
      "source": [
        "if Dc >= Dcalc:\n",
        "  print(\"Com 95% de confianca, não temos evidências para rejeitar a hipótese de normalidade dos dados, segundo o teste de Kolmogorov-Smirnov\")\n",
        "else:\n",
        "  print(\"Com 95% de confianca, temos evidências para rejeitar a hipótese de normalidade dos dados, segundo o teste de Kolmogorov-Smirnov\")"
      ]
    },
    {
      "cell_type": "code",
      "execution_count": 28,
      "metadata": {
        "colab": {
          "base_uri": "https://localhost:8080/"
        },
        "outputId": "956afa1e-4ccb-4462-ca97-125eef600017",
        "id": "T7WbeuAY960F"
      },
      "outputs": [
        {
          "output_type": "stream",
          "name": "stdout",
          "text": [
            "0.5999683287581669\n",
            "5.968393694656241e-35\n"
          ]
        }
      ],
      "source": [
        "# Testando com a biblioteca padrão\n",
        "ks_stat, ks_pvalue = stats.kstest(valores, stats.norm.cdf)\n",
        "print(ks_stat)\n",
        "print(ks_pvalue)"
      ]
    }
  ],
  "metadata": {
    "colab": {
      "provenance": [],
      "include_colab_link": true
    },
    "kernelspec": {
      "display_name": "Python 3",
      "name": "python3"
    },
    "language_info": {
      "name": "python"
    }
  },
  "nbformat": 4,
  "nbformat_minor": 0
}