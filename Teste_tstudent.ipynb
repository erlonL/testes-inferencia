{
  "nbformat": 4,
  "nbformat_minor": 0,
  "metadata": {
    "colab": {
      "provenance": [],
      "authorship_tag": "ABX9TyO8OIoPAd26t4xtXdIwde2u",
      "include_colab_link": true
    },
    "kernelspec": {
      "name": "python3",
      "display_name": "Python 3"
    },
    "language_info": {
      "name": "python"
    }
  },
  "cells": [
    {
      "cell_type": "markdown",
      "metadata": {
        "id": "view-in-github",
        "colab_type": "text"
      },
      "source": [
        "<a href=\"https://colab.research.google.com/github/erlonL/testes-inferencia/blob/main/Teste_tstudent.ipynb\" target=\"_parent\"><img src=\"https://colab.research.google.com/assets/colab-badge.svg\" alt=\"Open In Colab\"/></a>"
      ]
    },
    {
      "cell_type": "markdown",
      "source": [
        "# Teste t-student para comparação de 2 médias populacionais a partir de 2 amostras aleatórias independentes"
      ],
      "metadata": {
        "id": "2QrTCffKvCWz"
      }
    },
    {
      "cell_type": "markdown",
      "source": [
        "$$H_0: \\mu_1 = \\mu_2$$\n",
        "$$H_1: \\mu_1 \\neq \\mu_2$$\n",
        "\n",
        "\n",
        "$$ Caso \\space 1: \\sigma_1^2 \\neq \\sigma_2^2 $$\n",
        "$$ Caso \\space 2: \\sigma_1^2 = \\sigma_2^2 $$"
      ],
      "metadata": {
        "id": "wdHDTXbusFdM"
      }
    },
    {
      "cell_type": "code",
      "source": [
        "import pandas as pd\n",
        "import numpy as np\n",
        "from math import sqrt\n",
        "from scipy import stats\n",
        "from scipy.stats import t as t_student\n",
        "import matplotlib.pyplot as plt\n",
        "import seaborn as sns\n",
        "import random"
      ],
      "metadata": {
        "id": "FP4g-RqUvutq"
      },
      "execution_count": 1,
      "outputs": []
    },
    {
      "cell_type": "code",
      "source": [
        "tabela_t_student = pd.DataFrame(\n",
        "    [],\n",
        "    index=[i for i in range(1, 31)],\n",
        "    columns = [i / 100 for i in range(10, 0, -1)]\n",
        ")\n",
        "\n",
        "for index in tabela_t_student.index:\n",
        "    for column in tabela_t_student.columns:\n",
        "        tabela_t_student.loc[index, column] = t_student.ppf(1 - float(column) / 2, index)\n",
        "\n",
        "index=[('Graus de Liberdade (n - 1)', i) for i in range(1, 31)]\n",
        "tabela_t_student.index = pd.MultiIndex.from_tuples(index)\n",
        "\n",
        "columns = [(\"{0:0.3f}\".format(i / 100), \"{0:0.3f}\".format((i / 100) / 2)) for i in range(10, 0, -1)]\n",
        "tabela_t_student.columns = pd.MultiIndex.from_tuples(columns)\n",
        "\n",
        "tabela_t_student.rename_axis(['Unicaudal', 'Bicaudal'], axis=1, inplace = True)"
      ],
      "metadata": {
        "id": "Dr6ouERUCrXk"
      },
      "execution_count": 18,
      "outputs": []
    },
    {
      "cell_type": "code",
      "source": [
        "def tstudent_independentes(amostra1, amostra2, alpha):\n",
        "  X1 = np.mean(amostra1)\n",
        "  X2 = np.mean(amostra2)\n",
        "  S1 = np.var(amostra1)\n",
        "  S2 = np.var(amostra2)\n",
        "  n1 = len(amostra1)\n",
        "  n2 = len(amostra2)\n",
        "\n",
        "  # CASO 1\n",
        "  if S1 != S2:\n",
        "    # segue distribuição tstudent ni\n",
        "    Tcalc = (X1 - X2) / sqrt((((S1)**2)/n1) + (((S2)**2)/n2))\n",
        "\n",
        "    ni = (((((S1)**2)/n1) + (((S2)**2)/n2))**2) / ((((((S1)**2)/n1)**2) / (n1 - 1)) + (((((S2)**2)/n2)**2) / (n2 - 1)))\n",
        "\n",
        "    Tc = tabela_t_student[alpha].iloc[(ni)-1][0]\n",
        "\n",
        "  # CASO 2\n",
        "  elif S1 == S2:\n",
        "    Sp = sqrt( ( ((n1 - 1) * (S1**2)) + ((n2 - 1) * (S2**2)) ) / (n1 + n2 - 2) )\n",
        "\n",
        "    # segue distribuição tstudent n1+n2-2\n",
        "    Tcalc = (X1 - X2) / Sp * sqrt((1/n1) + (1/n2))\n",
        "\n",
        "    Tc = tabela_t_student[alpha].iloc[(n1+n2-2)-1][0]"
      ],
      "metadata": {
        "id": "8oHnpIINYUgo"
      },
      "execution_count": 47,
      "outputs": []
    },
    {
      "cell_type": "markdown",
      "source": [
        "# Teste t-student para comparação de 2 médias populacionais a partir de 2 amostras emparelhadas"
      ],
      "metadata": {
        "id": "pgoMAsYwvUxK"
      }
    },
    {
      "cell_type": "markdown",
      "source": [
        "$$H_0: \\mu_d = 0$$\n",
        "$$H_1: \\mu_d \\neq 0$$"
      ],
      "metadata": {
        "id": "FiYaY0Jm943V"
      }
    },
    {
      "cell_type": "code",
      "source": [
        "def tstudent_emparelhadas(amostra1, amostra2, alpha):\n",
        "  n = len(amostra1)\n",
        "  d = []\n",
        "  for v in range(0,n):\n",
        "    d.append(amostra2[v] - amostra1[v])\n",
        "\n",
        "  d_media = sum(d)/n\n",
        "\n",
        "  mu_d = np.mean(amostra2) - np.mean(amostra1)\n",
        "\n",
        "  somatorio = 0\n",
        "  for i in range(0,n):\n",
        "    somatorio += (d[i] - d_media)**2\n",
        "\n",
        "  Sd = sqrt((somatorio) / (n - 1))\n",
        "\n",
        "  # segue distribuição tstudent ni - 1\n",
        "  Tcalc = (d_media - mu_d) / (Sd/sqrt(n))\n",
        "\n",
        "  Tc = tabela_t_student[alpha].iloc[(n-1)-1][0]\n",
        "\n",
        "  # Teste Bicaudal\n",
        "  if Tcalc > -Tc or Tcalc < Tc:\n",
        "    print(\"Não temos evidências para rejeitar H0\")\n",
        "  else:\n",
        "    print(\"Temos evidências para rejeitar H0\")\n",
        "\n",
        "  plot = sns.boxplot([amostra1, amostra2], palette='Set2')\n",
        "\n",
        "  plot.set_ylim(2.8, 4)"
      ],
      "metadata": {
        "id": "KjeFDBd9cEUc"
      },
      "execution_count": 49,
      "outputs": []
    },
    {
      "cell_type": "code",
      "source": [
        "# Exemplo\n",
        "\n",
        "n = 10\n",
        "alpha = '0.050'\n",
        "amostra1 = [3.2, 3.6, 3.4, 3.8, 3.4, 3.5, 3.7, 3.2, 3.5, 3.9]\n",
        "amostra2 = [3.0, 3.3, 3.5, 3.6, 3.4, 3.3, 3.4, 3.0, 3.2, 3.6]\n",
        "\n",
        "tstudent_emparelhadas(amostra1, amostra2, alpha)"
      ],
      "metadata": {
        "colab": {
          "base_uri": "https://localhost:8080/",
          "height": 452
        },
        "id": "P_5dACKfCUTc",
        "outputId": "f56f4c0d-071f-4be5-fea6-a97a53cb6800"
      },
      "execution_count": 50,
      "outputs": [
        {
          "output_type": "stream",
          "name": "stdout",
          "text": [
            "Não temos evidências para rejeitar H0\n"
          ]
        },
        {
          "output_type": "display_data",
          "data": {
            "text/plain": [
              "<Figure size 640x480 with 1 Axes>"
            ],
            "image/png": "[encoded data removed]"
          },
          "metadata": {}
        }
      ]
    }
  ]
}