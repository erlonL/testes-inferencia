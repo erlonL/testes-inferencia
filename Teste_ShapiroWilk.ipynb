{
  "cells": [
    {
      "cell_type": "markdown",
      "metadata": {
        "colab_type": "text",
        "id": "view-in-github"
      },
      "source": [
        "<a href=\"https://colab.research.google.com/github/erlonL/testes-inferencia/blob/main/Teste_ShapiroWilk.ipynb\" target=\"_parent\"><img src=\"https://colab.research.google.com/assets/colab-badge.svg\" alt=\"Open In Colab\"/></a>"
      ]
    },
    {
      "cell_type": "markdown",
      "metadata": {
        "id": "NywbsQVEjdBH"
      },
      "source": [
        "# Teste de Shapiro Wilk"
      ]
    },
    {
      "cell_type": "markdown",
      "metadata": {
        "id": "EHip_FlTrCpG"
      },
      "source": [
        "## Implementação"
      ]
    },
    {
      "cell_type": "code",
      "execution_count": 1,
      "metadata": {
        "id": "FX1hveBwUDMA"
      },
      "outputs": [],
      "source": [
        "import pandas as pd\n",
        "import numpy as np\n",
        "from scipy import stats\n",
        "import matplotlib.pyplot as plt\n",
        "import seaborn as sns\n",
        "import random"
      ]
    },
    {
      "cell_type": "code",
      "execution_count": 2,
      "metadata": {
        "id": "e132OOgWzWEd"
      },
      "outputs": [],
      "source": [
        "def generate_normal_random_values(count, min_val, max_val):\n",
        "    mn = (max_val - min_val) / 2\n",
        "\n",
        "    X = np.random.normal(loc=mn, scale=mn/3, size=count)\n",
        "    X = np.clip(X, min_val, max_val)\n",
        "\n",
        "    return X"
      ]
    },
    {
      "cell_type": "code",
      "execution_count": 3,
      "metadata": {
        "id": "MCeuYv2K04x1"
      },
      "outputs": [],
      "source": [
        "def treat_values(values):\n",
        "    values = [round(x, ndigits=0) for x in values]\n",
        "    values = np.array(values)\n",
        "    return values"
      ]
    },
    {
      "cell_type": "code",
      "execution_count": 4,
      "metadata": {
        "id": "ytm9LXP90mD5"
      },
      "outputs": [],
      "source": [
        "n = 30\n",
        "valores = generate_normal_random_values(n, 10, 100)"
      ]
    },
    {
      "cell_type": "code",
      "execution_count": 6,
      "metadata": {
        "id": "1nC2Ea_Q00rW"
      },
      "outputs": [],
      "source": [
        "valores = treat_values(valores)"
      ]
    },
    {
      "cell_type": "code",
      "execution_count": 8,
      "metadata": {
        "colab": {
          "base_uri": "https://localhost:8080/",
          "height": 447
        },
        "id": "H66fc5CpOT3M",
        "outputId": "7a6f06e5-6031-4bf2-b7b2-4c14382e9b65"
      },
      "outputs": [
        {
          "data": {
            "text/plain": [
              "<Axes: ylabel='Count'>"
            ]
          },
          "execution_count": 8,
          "metadata": {},
          "output_type": "execute_result"
        },
        {
          "data": {
            "image/png": "[encoded data removed]",
            "text/plain": [
              "<Figure size 640x480 with 1 Axes>"
            ]
          },
          "metadata": {},
          "output_type": "display_data"
        }
      ],
      "source": [
        "sns.histplot(valores)"
      ]
    },
    {
      "cell_type": "code",
      "execution_count": 9,
      "metadata": {
        "colab": {
          "base_uri": "https://localhost:8080/"
        },
        "id": "5qfHKN7w1LB6",
        "outputId": "1994a1a9-96e8-4909-80cf-1fde1842a2f3"
      },
      "outputs": [
        {
          "name": "stdout",
          "output_type": "stream",
          "text": [
            "[ 15.  23.  24.  26.  26.  34.  35.  37.  43.  44.  45.  45.  47.  47.\n",
            "  48.  48.  50.  51.  51.  53.  53.  53.  54.  55.  56.  58.  58.  60.\n",
            "  68. 100.]\n"
          ]
        }
      ],
      "source": [
        "valores.sort()\n",
        "print(valores)"
      ]
    },
    {
      "cell_type": "code",
      "execution_count": 10,
      "metadata": {
        "colab": {
          "base_uri": "https://localhost:8080/"
        },
        "id": "8jhdWBeGKKPl",
        "outputId": "fc327b20-0543-46e4-c4f3-1802167c2212"
      },
      "outputs": [
        {
          "name": "stdout",
          "output_type": "stream",
          "text": [
            " Média:  46.9 \n",
            " Variância:  248.7566666666667 \n",
            " Desvio Padrão:  15.77202164171311 \n",
            " Contagem:  30\n"
          ]
        }
      ],
      "source": [
        "# Informações importantes sobre o conjunto de valores\n",
        "media = np.mean(valores)\n",
        "var = np.var(valores)\n",
        "dp = np.std(valores)\n",
        "cont = len(valores)\n",
        "\n",
        "print(' Média: ', media, '\\n', 'Variância: ', var, '\\n', 'Desvio Padrão: ', dp, '\\n', 'Contagem: ', cont)"
      ]
    },
    {
      "cell_type": "code",
      "execution_count": 11,
      "metadata": {
        "colab": {
          "base_uri": "https://localhost:8080/"
        },
        "id": "D_uA20bR9pFc",
        "outputId": "54b11ad4-9f92-463f-ef07-40d288be268f"
      },
      "outputs": [
        {
          "name": "stdout",
          "output_type": "stream",
          "text": [
            "[1, 2, 3, 4, 5, 6, 7, 8, 9, 10, 11, 12, 13, 14, 15]\n",
            "[16, 17, 18, 19, 20, 21, 22, 23, 24, 25, 26, 27, 28, 29, 30]\n"
          ]
        }
      ],
      "source": [
        "i = []\n",
        "n_i_1 = []\n",
        "\n",
        "for c in range(1, n+1):\n",
        "  if c < (n+1)/2:\n",
        "    i.append(c)\n",
        "  else:\n",
        "    n_i_1.append(c)\n",
        "\n",
        "print(i)\n",
        "print(n_i_1)"
      ]
    },
    {
      "cell_type": "code",
      "execution_count": 12,
      "metadata": {
        "id": "EX3BpGMYHFuW"
      },
      "outputs": [],
      "source": [
        "colunas = ['i',\n",
        "           'n-i+1',\n",
        "           'ain',\n",
        "           'Xn-i+1',\n",
        "           'Xi',\n",
        "           'ain * Xn-i+1 - Xi']"
      ]
    },
    {
      "cell_type": "code",
      "execution_count": 13,
      "metadata": {
        "id": "YZWU-_EGIBov"
      },
      "outputs": [],
      "source": [
        "tabela = pd.DataFrame(columns=colunas)"
      ]
    },
    {
      "cell_type": "code",
      "execution_count": 14,
      "metadata": {
        "id": "5iwsIOAWvs7X"
      },
      "outputs": [],
      "source": [
        "n_i_1.sort(reverse=True)\n",
        "\n",
        "tabela['i'] = i\n",
        "\n",
        "tabela['n-i+1'] = n_i_1"
      ]
    },
    {
      "cell_type": "code",
      "execution_count": 15,
      "metadata": {
        "colab": {
          "base_uri": "https://localhost:8080/"
        },
        "id": "zGibsju4_MRD",
        "outputId": "79611c82-fc05-4667-c274-d61db39208aa"
      },
      "outputs": [
        {
          "name": "stdout",
          "output_type": "stream",
          "text": [
            "[15.0, 23.0, 24.0, 26.0, 26.0, 34.0, 35.0, 37.0, 43.0, 44.0, 45.0, 45.0, 47.0, 47.0, 48.0]\n",
            "[48.0, 50.0, 51.0, 51.0, 53.0, 53.0, 53.0, 54.0, 55.0, 56.0, 58.0, 58.0, 60.0, 68.0, 100.0]\n"
          ]
        }
      ],
      "source": [
        "Xi = []\n",
        "Xn_i_1 = []\n",
        "\n",
        "for i, v in enumerate(valores):\n",
        "  if i < (n)/2:\n",
        "    Xi.append(v)\n",
        "  else:\n",
        "    Xn_i_1.append(v)\n",
        "\n",
        "print(Xi)\n",
        "print(Xn_i_1)"
      ]
    },
    {
      "cell_type": "code",
      "execution_count": 16,
      "metadata": {
        "id": "OSIx4cbKA5YU"
      },
      "outputs": [],
      "source": [
        "Xn_i_1.sort(reverse=True)\n",
        "\n",
        "tabela['Xi'] = Xi\n",
        "\n",
        "tabela['Xn-i+1'] = Xn_i_1"
      ]
    },
    {
      "cell_type": "code",
      "execution_count": 17,
      "metadata": {
        "id": "QgtArSJ2SUER"
      },
      "outputs": [],
      "source": [
        "a = {\n",
        "    1: [0.7071, 0.7071, 0.6872, 0.6646, 0.6431, 0.6233, 0.6052, 0.5888, 0.5739, 0.5601, 0.5475, 0.5359, 0.5251, 0.5150, 0.5056, 0.4968, 0.4886, 0.4808, 0.4734, 0.4643, 0.4590, 0.4542, 0.4493, 0.4450, 0.4407, 0.4366, 0.4328, 0.4291, 0.4254],\n",
        "    2: [0, 0, 0.1677, 0.2413, 0.2806, 0.3031, 0.3164, 0.3244, 0.3291, 0.3315, 0.3325, 0.3325, 0.3318, 0.3306, 0.3290, 0.3273, 0.3253, 0.3232, 0.3211, 0.3185, 0.3156, 0.3126, 0.3098, 0.3069, 0.3043, 0.3018, 0.2992, 0.2968, 0.2944],\n",
        "    3: [0, 0, 0, 0, 0.0875, 0.1401, 0.1743, 0.1976, 0.2141, 0.2260, 0.2347, 0.2412, 0.2460, 0.2495, 0.2521, 0.2540, 0.2553, 0.2561, 0.2565, 0.2578, 0.2571, 0.2563, 0.2554, 0.2543, 0.2533, 0.2522, 0.2510, 0.2499, 0.2487],\n",
        "    4: [0, 0, 0, 0, 0, 0, 0.0561, 0.0947, 0.1224, 0.1429, 0.1586, 0.1707, 0.1802, 0.1878, 0.1939, 0.1988, 0.2027, 0.2059, 0.2085, 0.2119, 0.2131, 0.2139, 0.2145, 0.2148, 0.2151, 0.2152, 0.2151, 0.2150, 0.2148],\n",
        "    5: [0, 0, 0, 0, 0, 0, 0, 0, 0.0399, 0.0695, 0.0922, 0.1099, 0.1240, 0.1353, 0.1447, 0.1524, 0.1587, 0.1641, 0.1686, 0.1736, 0.1764, 0.1787, 0.1807, 0.1822, 0.1836, 0.1848, 0.1857, 0.1864, 0.1870],\n",
        "    6: [0, 0, 0, 0, 0, 0, 0, 0, 0, 0, 0.0303, 0.0539, 0.0727, 0.0880, 0.1005, 0.1109, 0.1197, 0.1271, 0.1334, 0.1399, 0.1443, 0.1480, 0.1512, 0.1539, 0.1563, 0.1584, 0.1601, 0.1616, 0.1630],\n",
        "    7: [0, 0, 0, 0, 0, 0, 0, 0, 0, 0, 0, 0, 0.0240, 0.0433, 0.0593, 0.0725, 0.0837, 0.0932, 0.1013, 0.1092, 0.1150, 0.1201, 0.1245, 0.1283, 0.1316, 0.1346, 0.1372, 0.1395, 0.1415],\n",
        "    8: [0, 0, 0, 0, 0, 0, 0, 0, 0, 0, 0, 0, 0, 0, 0.0196, 0.0359, 0.0496, 0.0612, 0.0711, 0.0804, 0.0878, 0.0941, 0.0997, 0.1046, 0.1089, 0.1128, 0.1162, 0.1192, 0.1219],\n",
        "    9: [0, 0, 0, 0, 0, 0, 0, 0, 0, 0, 0, 0, 0, 0, 0, 0, 0.0163, 0.0303, 0.0422, 0.0530, 0.0618, 0.0696, 0.0764, 0.0823, 0.0876, 0.0923, 0.0965, 0.1002, 0.1036],\n",
        "    10: [0, 0, 0, 0, 0, 0, 0, 0, 0, 0, 0, 0, 0, 0, 0, 0, 0, 0, 0.0140, 0.0263, 0.0368, 0.0459, 0.0539, 0.0610, 0.0672, 0.0728, 0.0778, 0.0822, 0.0862],\n",
        "    11: [0, 0, 0, 0, 0, 0, 0, 0, 0, 0, 0, 0, 0, 0, 0, 0, 0, 0, 0, 0, 0.0122, 0.0228, 0.0321, 0.0403, 0.0476, 0.0540, 0.0598, 0.0650, 0.0697],\n",
        "    12: [0, 0, 0, 0, 0, 0, 0, 0, 0, 0, 0, 0, 0, 0, 0, 0, 0, 0, 0, 0, 0, 0.0, 0.0107, 0.0200, 0.0284, 0.0358, 0.0424, 0.0483, 0.0537],\n",
        "    13: [0, 0, 0, 0, 0, 0, 0, 0, 0, 0, 0, 0, 0, 0, 0, 0, 0, 0, 0, 0, 0, 0, 0, 0.0, 0.0094, 0.0178, 0.0253, 0.0320, 0.0381],\n",
        "    14: [0, 0, 0, 0, 0, 0, 0, 0, 0, 0, 0, 0, 0, 0, 0, 0, 0, 0, 0, 0, 0, 0, 0, 0, 0, 0.0, 0.0084, 0.0159, 0.0227],\n",
        "    15: [0, 0, 0, 0, 0, 0, 0, 0, 0, 0, 0, 0, 0, 0, 0, 0, 0, 0, 0, 0, 0, 0, 0, 0, 0, 0, 0, 0.0000,\t0.0076]\n",
        "}"
      ]
    },
    {
      "cell_type": "code",
      "execution_count": 18,
      "metadata": {
        "colab": {
          "base_uri": "https://localhost:8080/"
        },
        "id": "fJIVflhMSqrl",
        "outputId": "2826281a-51c4-4a89-aa1d-c5ea792ebf02"
      },
      "outputs": [
        {
          "data": {
            "text/plain": [
              "[0.4254,\n",
              " 0.2944,\n",
              " 0.2487,\n",
              " 0.2148,\n",
              " 0.187,\n",
              " 0.163,\n",
              " 0.1415,\n",
              " 0.1219,\n",
              " 0.1036,\n",
              " 0.0862,\n",
              " 0.0697,\n",
              " 0.0537,\n",
              " 0.0381,\n",
              " 0.0227,\n",
              " 0.0076]"
            ]
          },
          "execution_count": 18,
          "metadata": {},
          "output_type": "execute_result"
        }
      ],
      "source": [
        "ain = []\n",
        "m = (n/2) + 1\n",
        "\n",
        "for i in range(1, int(m)):\n",
        "  ain.append(a[i][n-2])\n",
        "\n",
        "ain"
      ]
    },
    {
      "cell_type": "code",
      "execution_count": 19,
      "metadata": {
        "id": "fBT1wVdoYI2F"
      },
      "outputs": [],
      "source": [
        "tabela['ain'] = ain"
      ]
    },
    {
      "cell_type": "code",
      "execution_count": 20,
      "metadata": {
        "id": "VQi6Oa7uYRK5"
      },
      "outputs": [],
      "source": [
        "tabela['ain * Xn-i+1 - Xi'] = tabela['ain'] * (tabela['Xn-i+1'] - tabela['Xi'])"
      ]
    },
    {
      "cell_type": "code",
      "execution_count": 21,
      "metadata": {
        "colab": {
          "base_uri": "https://localhost:8080/"
        },
        "id": "seU7dasxAYqJ",
        "outputId": "994f6423-83c4-4dbc-e7f8-a59d2e7781fe"
      },
      "outputs": [
        {
          "data": {
            "text/plain": [
              "82.6182"
            ]
          },
          "execution_count": 21,
          "metadata": {},
          "output_type": "execute_result"
        }
      ],
      "source": [
        "b = sum(tabela['ain * Xn-i+1 - Xi'])\n",
        "b"
      ]
    },
    {
      "cell_type": "code",
      "execution_count": 22,
      "metadata": {
        "colab": {
          "base_uri": "https://localhost:8080/"
        },
        "id": "cc3m_3y4B4sb",
        "outputId": "32b7aca8-ad17-4fbf-8bbd-df0515c63bf4"
      },
      "outputs": [
        {
          "data": {
            "text/plain": [
              "0.9146511277741299"
            ]
          },
          "execution_count": 22,
          "metadata": {},
          "output_type": "execute_result"
        }
      ],
      "source": [
        "Wcalc = b**2 / ((n) * var)\n",
        "Wcalc"
      ]
    },
    {
      "cell_type": "code",
      "execution_count": 24,
      "metadata": {
        "colab": {
          "base_uri": "https://localhost:8080/",
          "height": 520
        },
        "id": "mXexrRDbBBnz",
        "outputId": "7f119551-6b54-4a13-e95a-4fed9481a728"
      },
      "outputs": [
        {
          "data": {
            "text/html": [
              "<div>\n",
              "<style scoped>\n",
              "    .dataframe tbody tr th:only-of-type {\n",
              "        vertical-align: middle;\n",
              "    }\n",
              "\n",
              "    .dataframe tbody tr th {\n",
              "        vertical-align: top;\n",
              "    }\n",
              "\n",
              "    .dataframe thead th {\n",
              "        text-align: right;\n",
              "    }\n",
              "</style>\n",
              "<table border=\"1\" class=\"dataframe\">\n",
              "  <thead>\n",
              "    <tr style=\"text-align: right;\">\n",
              "      <th></th>\n",
              "      <th>i</th>\n",
              "      <th>n-i+1</th>\n",
              "      <th>ain</th>\n",
              "      <th>Xn-i+1</th>\n",
              "      <th>Xi</th>\n",
              "      <th>ain * Xn-i+1 - Xi</th>\n",
              "    </tr>\n",
              "  </thead>\n",
              "  <tbody>\n",
              "    <tr>\n",
              "      <th>0</th>\n",
              "      <td>1</td>\n",
              "      <td>30</td>\n",
              "      <td>0.4254</td>\n",
              "      <td>100.0</td>\n",
              "      <td>15.0</td>\n",
              "      <td>36.1590</td>\n",
              "    </tr>\n",
              "    <tr>\n",
              "      <th>1</th>\n",
              "      <td>2</td>\n",
              "      <td>29</td>\n",
              "      <td>0.2944</td>\n",
              "      <td>68.0</td>\n",
              "      <td>23.0</td>\n",
              "      <td>13.2480</td>\n",
              "    </tr>\n",
              "    <tr>\n",
              "      <th>2</th>\n",
              "      <td>3</td>\n",
              "      <td>28</td>\n",
              "      <td>0.2487</td>\n",
              "      <td>60.0</td>\n",
              "      <td>24.0</td>\n",
              "      <td>8.9532</td>\n",
              "    </tr>\n",
              "    <tr>\n",
              "      <th>3</th>\n",
              "      <td>4</td>\n",
              "      <td>27</td>\n",
              "      <td>0.2148</td>\n",
              "      <td>58.0</td>\n",
              "      <td>26.0</td>\n",
              "      <td>6.8736</td>\n",
              "    </tr>\n",
              "    <tr>\n",
              "      <th>4</th>\n",
              "      <td>5</td>\n",
              "      <td>26</td>\n",
              "      <td>0.1870</td>\n",
              "      <td>58.0</td>\n",
              "      <td>26.0</td>\n",
              "      <td>5.9840</td>\n",
              "    </tr>\n",
              "    <tr>\n",
              "      <th>5</th>\n",
              "      <td>6</td>\n",
              "      <td>25</td>\n",
              "      <td>0.1630</td>\n",
              "      <td>56.0</td>\n",
              "      <td>34.0</td>\n",
              "      <td>3.5860</td>\n",
              "    </tr>\n",
              "    <tr>\n",
              "      <th>6</th>\n",
              "      <td>7</td>\n",
              "      <td>24</td>\n",
              "      <td>0.1415</td>\n",
              "      <td>55.0</td>\n",
              "      <td>35.0</td>\n",
              "      <td>2.8300</td>\n",
              "    </tr>\n",
              "    <tr>\n",
              "      <th>7</th>\n",
              "      <td>8</td>\n",
              "      <td>23</td>\n",
              "      <td>0.1219</td>\n",
              "      <td>54.0</td>\n",
              "      <td>37.0</td>\n",
              "      <td>2.0723</td>\n",
              "    </tr>\n",
              "    <tr>\n",
              "      <th>8</th>\n",
              "      <td>9</td>\n",
              "      <td>22</td>\n",
              "      <td>0.1036</td>\n",
              "      <td>53.0</td>\n",
              "      <td>43.0</td>\n",
              "      <td>1.0360</td>\n",
              "    </tr>\n",
              "    <tr>\n",
              "      <th>9</th>\n",
              "      <td>10</td>\n",
              "      <td>21</td>\n",
              "      <td>0.0862</td>\n",
              "      <td>53.0</td>\n",
              "      <td>44.0</td>\n",
              "      <td>0.7758</td>\n",
              "    </tr>\n",
              "    <tr>\n",
              "      <th>10</th>\n",
              "      <td>11</td>\n",
              "      <td>20</td>\n",
              "      <td>0.0697</td>\n",
              "      <td>53.0</td>\n",
              "      <td>45.0</td>\n",
              "      <td>0.5576</td>\n",
              "    </tr>\n",
              "    <tr>\n",
              "      <th>11</th>\n",
              "      <td>12</td>\n",
              "      <td>19</td>\n",
              "      <td>0.0537</td>\n",
              "      <td>51.0</td>\n",
              "      <td>45.0</td>\n",
              "      <td>0.3222</td>\n",
              "    </tr>\n",
              "    <tr>\n",
              "      <th>12</th>\n",
              "      <td>13</td>\n",
              "      <td>18</td>\n",
              "      <td>0.0381</td>\n",
              "      <td>51.0</td>\n",
              "      <td>47.0</td>\n",
              "      <td>0.1524</td>\n",
              "    </tr>\n",
              "    <tr>\n",
              "      <th>13</th>\n",
              "      <td>14</td>\n",
              "      <td>17</td>\n",
              "      <td>0.0227</td>\n",
              "      <td>50.0</td>\n",
              "      <td>47.0</td>\n",
              "      <td>0.0681</td>\n",
              "    </tr>\n",
              "    <tr>\n",
              "      <th>14</th>\n",
              "      <td>15</td>\n",
              "      <td>16</td>\n",
              "      <td>0.0076</td>\n",
              "      <td>48.0</td>\n",
              "      <td>48.0</td>\n",
              "      <td>0.0000</td>\n",
              "    </tr>\n",
              "  </tbody>\n",
              "</table>\n",
              "</div>"
            ],
            "text/plain": [
              "     i  n-i+1     ain  Xn-i+1    Xi  ain * Xn-i+1 - Xi\n",
              "0    1     30  0.4254   100.0  15.0            36.1590\n",
              "1    2     29  0.2944    68.0  23.0            13.2480\n",
              "2    3     28  0.2487    60.0  24.0             8.9532\n",
              "3    4     27  0.2148    58.0  26.0             6.8736\n",
              "4    5     26  0.1870    58.0  26.0             5.9840\n",
              "5    6     25  0.1630    56.0  34.0             3.5860\n",
              "6    7     24  0.1415    55.0  35.0             2.8300\n",
              "7    8     23  0.1219    54.0  37.0             2.0723\n",
              "8    9     22  0.1036    53.0  43.0             1.0360\n",
              "9   10     21  0.0862    53.0  44.0             0.7758\n",
              "10  11     20  0.0697    53.0  45.0             0.5576\n",
              "11  12     19  0.0537    51.0  45.0             0.3222\n",
              "12  13     18  0.0381    51.0  47.0             0.1524\n",
              "13  14     17  0.0227    50.0  47.0             0.0681\n",
              "14  15     16  0.0076    48.0  48.0             0.0000"
            ]
          },
          "execution_count": 24,
          "metadata": {},
          "output_type": "execute_result"
        }
      ],
      "source": [
        "tabela"
      ]
    },
    {
      "cell_type": "code",
      "execution_count": 25,
      "metadata": {
        "id": "SODAGdtl9rjd"
      },
      "outputs": [],
      "source": [
        "def shapiro_wilk_critico(n):\n",
        "    # alfa = 0.05 (95% de confiança)\n",
        "\n",
        "    if n <= 30:\n",
        "        # valores entre 3 e 30\n",
        "        shapiro_critico = [0.767, 0.748, 0.762, 0.788, 0.803, 0.818, 0.829, 0.842, 0.850, 0.859,\n",
        "                      0.866, 0.874, 0.881, 0.887, 0.892, 0.897, 0.901, 0.905, 0.908, 0.911,\n",
        "                      0.914, 0.916, 0.918, 0.920, 0.923, 0.924, 0.926, 0.927]\n",
        "        sw_critico = shapiro_critico[n - 3]\n",
        "    else:\n",
        "        pass\n",
        "\n",
        "    return sw_critico"
      ]
    },
    {
      "cell_type": "code",
      "execution_count": 26,
      "metadata": {
        "colab": {
          "base_uri": "https://localhost:8080/"
        },
        "id": "B2cyqsbk7WKP",
        "outputId": "68af58b0-1088-4c4d-b570-e914533951d2"
      },
      "outputs": [
        {
          "data": {
            "text/plain": [
              "0.927"
            ]
          },
          "execution_count": 26,
          "metadata": {},
          "output_type": "execute_result"
        }
      ],
      "source": [
        "Wcritico = shapiro_wilk_critico(cont)\n",
        "Wcritico"
      ]
    },
    {
      "cell_type": "code",
      "execution_count": 27,
      "metadata": {
        "colab": {
          "base_uri": "https://localhost:8080/"
        },
        "id": "KNYpDLfi7grT",
        "outputId": "c19bb69a-91cf-48f8-9e34-788871dfbef8"
      },
      "outputs": [
        {
          "name": "stdout",
          "output_type": "stream",
          "text": [
            "Com 95% de confianca, temos evidências para rejeitar a hipótese de normalidade dos dados, segundo o teste de Shapiro-Wilk\n"
          ]
        }
      ],
      "source": [
        "if Wcalc > Wcritico:\n",
        "  print(\"Com 95% de confianca, não temos evidências para rejeitar a hipótese de normalidade dos dados, segundo o teste de Shapiro-Wilk\")\n",
        "else:\n",
        "  print(\"Com 95% de confianca, temos evidências para rejeitar a hipótese de normalidade dos dados, segundo o teste de Shapiro-Wilk\")"
      ]
    },
    {
      "cell_type": "code",
      "execution_count": 28,
      "metadata": {
        "colab": {
          "base_uri": "https://localhost:8080/"
        },
        "id": "tW6XaO_jEAhy",
        "outputId": "bd6a07e7-4bfa-427d-dd26-06fc2ebf350a"
      },
      "outputs": [
        {
          "name": "stdout",
          "output_type": "stream",
          "text": [
            "Estatística de Teste: 0.9101792267914227\n",
            "Valor p: 0.015036082305616899\n"
          ]
        }
      ],
      "source": [
        "from scipy.stats import shapiro\n",
        "from numpy.random import randn\n",
        "\n",
        "# Realizar o teste de Shapiro-Wilk\n",
        "stat, p = shapiro(valores)\n",
        "\n",
        "# Exibir a estatística de teste e o valor p\n",
        "print(\"Estatística de Teste:\", stat)\n",
        "print(\"Valor p:\", p)"
      ]
    }
  ],
  "metadata": {
    "colab": {
      "include_colab_link": true,
      "provenance": []
    },
    "kernelspec": {
      "display_name": "Python 3",
      "name": "python3"
    },
    "language_info": {
      "codemirror_mode": {
        "name": "ipython",
        "version": 3
      },
      "file_extension": ".py",
      "mimetype": "text/x-python",
      "name": "python",
      "nbconvert_exporter": "python",
      "pygments_lexer": "ipython3",
      "version": "3.12.2"
    }
  },
  "nbformat": 4,
  "nbformat_minor": 0
}
