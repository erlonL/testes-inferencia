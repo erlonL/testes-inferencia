{
  "cells": [
    {
      "cell_type": "markdown",
      "metadata": {
        "id": "view-in-github",
        "colab_type": "text"
      },
      "source": [
        "<a href=\"https://colab.research.google.com/github/erlonL/testes-inferencia/blob/main/Teste_ShapiroWilk.ipynb\" target=\"_parent\"><img src=\"https://colab.research.google.com/assets/colab-badge.svg\" alt=\"Open In Colab\"/></a>"
      ]
    },
    {
      "cell_type": "markdown",
      "source": [
        "# Teste de Shapiro Wilk"
      ],
      "metadata": {
        "id": "NywbsQVEjdBH"
      }
    },
    {
      "cell_type": "markdown",
      "metadata": {
        "id": "EHip_FlTrCpG"
      },
      "source": [
        "## Implementação"
      ]
    },
    {
      "cell_type": "code",
      "execution_count": 57,
      "metadata": {
        "id": "FX1hveBwUDMA"
      },
      "outputs": [],
      "source": [
        "import pandas as pd\n",
        "import numpy as np\n",
        "from scipy import stats\n",
        "import matplotlib.pyplot as plt\n",
        "import seaborn as sns\n",
        "import random"
      ]
    },
    {
      "cell_type": "code",
      "source": [
        "def generate_normal_random_values(count, min_val, max_val):\n",
        "    mn = (max_val - min_val) / 2\n",
        "\n",
        "    X = np.random.normal(loc=mn, scale=mn/3, size=count)\n",
        "    X = np.clip(X, min_val, max_val)\n",
        "\n",
        "    return X"
      ],
      "metadata": {
        "id": "e132OOgWzWEd"
      },
      "execution_count": 58,
      "outputs": []
    },
    {
      "cell_type": "code",
      "source": [
        "def treat_values(values):\n",
        "    values = [round(x, ndigits=0) for x in values]\n",
        "    values = np.array(values)\n",
        "    return values"
      ],
      "metadata": {
        "id": "MCeuYv2K04x1"
      },
      "execution_count": 59,
      "outputs": []
    },
    {
      "cell_type": "code",
      "source": [
        "n = 30\n",
        "valores = generate_normal_random_values(n, 10, 100)"
      ],
      "metadata": {
        "id": "ytm9LXP90mD5"
      },
      "execution_count": 121,
      "outputs": []
    },
    {
      "cell_type": "code",
      "source": [
        "valores = treat_values(valores)"
      ],
      "metadata": {
        "id": "1nC2Ea_Q00rW"
      },
      "execution_count": 122,
      "outputs": []
    },
    {
      "cell_type": "code",
      "source": [
        "sns.histplot(valores)"
      ],
      "metadata": {
        "colab": {
          "base_uri": "https://localhost:8080/",
          "height": 447
        },
        "id": "H66fc5CpOT3M",
        "outputId": "7a6f06e5-6031-4bf2-b7b2-4c14382e9b65"
      },
      "execution_count": 123,
      "outputs": [
        {
          "output_type": "execute_result",
          "data": {
            "text/plain": [
              "<Axes: ylabel='Count'>"
            ]
          },
          "metadata": {},
          "execution_count": 123
        },
        {
          "output_type": "display_data",
          "data": {
            "text/plain": [
              "<Figure size 640x480 with 1 Axes>"
            ],
            "image/png": "[encoded data removed]"
          },
          "metadata": {}
        }
      ]
    },
    {
      "cell_type": "code",
      "source": [
        "valores.sort()\n",
        "print(valores)"
      ],
      "metadata": {
        "colab": {
          "base_uri": "https://localhost:8080/"
        },
        "id": "5qfHKN7w1LB6",
        "outputId": "1994a1a9-96e8-4909-80cf-1fde1842a2f3"
      },
      "execution_count": 124,
      "outputs": [
        {
          "output_type": "stream",
          "name": "stdout",
          "text": [
            "[11. 19. 22. 24. 26. 35. 36. 36. 36. 38. 38. 42. 43. 48. 49. 52. 52. 54.\n",
            " 55. 56. 56. 57. 58. 58. 58. 61. 61. 61. 65. 74.]\n"
          ]
        }
      ]
    },
    {
      "cell_type": "code",
      "source": [
        "# Informações importantes sobre o conjunto de valores\n",
        "media = np.mean(valores)\n",
        "var = np.var(valores)\n",
        "dp = np.std(valores)\n",
        "cont = len(valores)\n",
        "\n",
        "print(' Média: ', media, '\\n', 'Variância: ', var, '\\n', 'Desvio Padrão: ', dp, '\\n', 'Contagem: ', cont)"
      ],
      "metadata": {
        "colab": {
          "base_uri": "https://localhost:8080/"
        },
        "id": "8jhdWBeGKKPl",
        "outputId": "fc327b20-0543-46e4-c4f3-1802167c2212"
      },
      "execution_count": 125,
      "outputs": [
        {
          "output_type": "stream",
          "name": "stdout",
          "text": [
            " Média:  46.03333333333333 \n",
            " Variância:  226.36555555555555 \n",
            " Desvio Padrão:  15.04544966279026 \n",
            " Contagem:  30\n"
          ]
        }
      ]
    },
    {
      "cell_type": "code",
      "source": [
        "i = []\n",
        "n_i_1 = []\n",
        "\n",
        "for c in range(1, n+1):\n",
        "  if c < (n+1)/2:\n",
        "    i.append(c)\n",
        "  else:\n",
        "    n_i_1.append(c)\n",
        "\n",
        "print(i)\n",
        "print(n_i_1)"
      ],
      "metadata": {
        "colab": {
          "base_uri": "https://localhost:8080/"
        },
        "id": "D_uA20bR9pFc",
        "outputId": "54b11ad4-9f92-463f-ef07-40d288be268f"
      },
      "execution_count": 126,
      "outputs": [
        {
          "output_type": "stream",
          "name": "stdout",
          "text": [
            "[1, 2, 3, 4, 5, 6, 7, 8, 9, 10, 11, 12, 13, 14, 15]\n",
            "[16, 17, 18, 19, 20, 21, 22, 23, 24, 25, 26, 27, 28, 29, 30]\n"
          ]
        }
      ]
    },
    {
      "cell_type": "code",
      "source": [
        "colunas = ['i',\n",
        "           'n-i+1',\n",
        "           'ain',\n",
        "           'Xn-i+1',\n",
        "           'Xi',\n",
        "           'ain * Xn-i+1 - Xi']"
      ],
      "metadata": {
        "id": "EX3BpGMYHFuW"
      },
      "execution_count": 127,
      "outputs": []
    },
    {
      "cell_type": "code",
      "source": [
        "tabela = pd.DataFrame(columns=colunas)"
      ],
      "metadata": {
        "id": "YZWU-_EGIBov"
      },
      "execution_count": 128,
      "outputs": []
    },
    {
      "cell_type": "code",
      "execution_count": 129,
      "metadata": {
        "id": "5iwsIOAWvs7X"
      },
      "outputs": [],
      "source": [
        "n_i_1.sort(reverse=True)\n",
        "\n",
        "tabela['i'] = i\n",
        "\n",
        "tabela['n-i+1'] = n_i_1"
      ]
    },
    {
      "cell_type": "code",
      "source": [
        "Xi = []\n",
        "Xn_i_1 = []\n",
        "\n",
        "for i, v in enumerate(valores):\n",
        "  if i < (n)/2:\n",
        "    Xi.append(v)\n",
        "  else:\n",
        "    Xn_i_1.append(v)\n",
        "\n",
        "print(Xi)\n",
        "print(Xn_i_1)"
      ],
      "metadata": {
        "colab": {
          "base_uri": "https://localhost:8080/"
        },
        "id": "zGibsju4_MRD",
        "outputId": "79611c82-fc05-4667-c274-d61db39208aa"
      },
      "execution_count": 130,
      "outputs": [
        {
          "output_type": "stream",
          "name": "stdout",
          "text": [
            "[11.0, 19.0, 22.0, 24.0, 26.0, 35.0, 36.0, 36.0, 36.0, 38.0, 38.0, 42.0, 43.0, 48.0, 49.0]\n",
            "[52.0, 52.0, 54.0, 55.0, 56.0, 56.0, 57.0, 58.0, 58.0, 58.0, 61.0, 61.0, 61.0, 65.0, 74.0]\n"
          ]
        }
      ]
    },
    {
      "cell_type": "code",
      "source": [
        "Xn_i_1.sort(reverse=True)\n",
        "\n",
        "tabela['Xi'] = Xi\n",
        "\n",
        "tabela['Xn-i+1'] = Xn_i_1"
      ],
      "metadata": {
        "id": "OSIx4cbKA5YU"
      },
      "execution_count": 131,
      "outputs": []
    },
    {
      "cell_type": "code",
      "source": [
        "a = {\n",
        "    1: [0.7071, 0.7071, 0.6872, 0.6646, 0.6431, 0.6233, 0.6052, 0.5888, 0.5739, 0.5601, 0.5475, 0.5359, 0.5251, 0.5150, 0.5056, 0.4968, 0.4886, 0.4808, 0.4734, 0.4643, 0.4590, 0.4542, 0.4493, 0.4450, 0.4407, 0.4366, 0.4328, 0.4291, 0.4254],\n",
        "    2: [0, 0, 0.1677, 0.2413, 0.2806, 0.3031, 0.3164, 0.3244, 0.3291, 0.3315, 0.3325, 0.3325, 0.3318, 0.3306, 0.3290, 0.3273, 0.3253, 0.3232, 0.3211, 0.3185, 0.3156, 0.3126, 0.3098, 0.3069, 0.3043, 0.3018, 0.2992, 0.2968, 0.2944],\n",
        "    3: [0, 0, 0, 0, 0.0875, 0.1401, 0.1743, 0.1976, 0.2141, 0.2260, 0.2347, 0.2412, 0.2460, 0.2495, 0.2521, 0.2540, 0.2553, 0.2561, 0.2565, 0.2578, 0.2571, 0.2563, 0.2554, 0.2543, 0.2533, 0.2522, 0.2510, 0.2499, 0.2487],\n",
        "    4: [0, 0, 0, 0, 0, 0, 0.0561, 0.0947, 0.1224, 0.1429, 0.1586, 0.1707, 0.1802, 0.1878, 0.1939, 0.1988, 0.2027, 0.2059, 0.2085, 0.2119, 0.2131, 0.2139, 0.2145, 0.2148, 0.2151, 0.2152, 0.2151, 0.2150, 0.2148],\n",
        "    5: [0, 0, 0, 0, 0, 0, 0, 0, 0.0399, 0.0695, 0.0922, 0.1099, 0.1240, 0.1353, 0.1447, 0.1524, 0.1587, 0.1641, 0.1686, 0.1736, 0.1764, 0.1787, 0.1807, 0.1822, 0.1836, 0.1848, 0.1857, 0.1864, 0.1870],\n",
        "    6: [0, 0, 0, 0, 0, 0, 0, 0, 0, 0, 0.0303, 0.0539, 0.0727, 0.0880, 0.1005, 0.1109, 0.1197, 0.1271, 0.1334, 0.1399, 0.1443, 0.1480, 0.1512, 0.1539, 0.1563, 0.1584, 0.1601, 0.1616, 0.1630],\n",
        "    7: [0, 0, 0, 0, 0, 0, 0, 0, 0, 0, 0, 0, 0.0240, 0.0433, 0.0593, 0.0725, 0.0837, 0.0932, 0.1013, 0.1092, 0.1150, 0.1201, 0.1245, 0.1283, 0.1316, 0.1346, 0.1372, 0.1395, 0.1415],\n",
        "    8: [0, 0, 0, 0, 0, 0, 0, 0, 0, 0, 0, 0, 0, 0, 0.0196, 0.0359, 0.0496, 0.0612, 0.0711, 0.0804, 0.0878, 0.0941, 0.0997, 0.1046, 0.1089, 0.1128, 0.1162, 0.1192, 0.1219],\n",
        "    9: [0, 0, 0, 0, 0, 0, 0, 0, 0, 0, 0, 0, 0, 0, 0, 0, 0.0163, 0.0303, 0.0422, 0.0530, 0.0618, 0.0696, 0.0764, 0.0823, 0.0876, 0.0923, 0.0965, 0.1002, 0.1036],\n",
        "    10: [0, 0, 0, 0, 0, 0, 0, 0, 0, 0, 0, 0, 0, 0, 0, 0, 0, 0, 0.0140, 0.0263, 0.0368, 0.0459, 0.0539, 0.0610, 0.0672, 0.0728, 0.0778, 0.0822, 0.0862],\n",
        "    11: [0, 0, 0, 0, 0, 0, 0, 0, 0, 0, 0, 0, 0, 0, 0, 0, 0, 0, 0, 0, 0.0122, 0.0228, 0.0321, 0.0403, 0.0476, 0.0540, 0.0598, 0.0650, 0.0697],\n",
        "    12: [0, 0, 0, 0, 0, 0, 0, 0, 0, 0, 0, 0, 0, 0, 0, 0, 0, 0, 0, 0, 0, 0.0, 0.0107, 0.0200, 0.0284, 0.0358, 0.0424, 0.0483, 0.0537],\n",
        "    13: [0, 0, 0, 0, 0, 0, 0, 0, 0, 0, 0, 0, 0, 0, 0, 0, 0, 0, 0, 0, 0, 0, 0, 0.0, 0.0094, 0.0178, 0.0253, 0.0320, 0.0381],\n",
        "    14: [0, 0, 0, 0, 0, 0, 0, 0, 0, 0, 0, 0, 0, 0, 0, 0, 0, 0, 0, 0, 0, 0, 0, 0, 0, 0.0, 0.0084, 0.0159, 0.0227],\n",
        "    15: [0, 0, 0, 0, 0, 0, 0, 0, 0, 0, 0, 0, 0, 0, 0, 0, 0, 0, 0, 0, 0, 0, 0, 0, 0, 0, 0, 0.0000,\t0.0076]\n",
        "}"
      ],
      "metadata": {
        "id": "QgtArSJ2SUER"
      },
      "execution_count": 132,
      "outputs": []
    },
    {
      "cell_type": "code",
      "source": [
        "ain = []\n",
        "m = (n/2) + 1\n",
        "\n",
        "for i in range(1, int(m)):\n",
        "  ain.append(a[i][n-2])\n",
        "\n",
        "ain"
      ],
      "metadata": {
        "colab": {
          "base_uri": "https://localhost:8080/"
        },
        "id": "fJIVflhMSqrl",
        "outputId": "2826281a-51c4-4a89-aa1d-c5ea792ebf02"
      },
      "execution_count": 137,
      "outputs": [
        {
          "output_type": "execute_result",
          "data": {
            "text/plain": [
              "[0.4254,\n",
              " 0.2944,\n",
              " 0.2487,\n",
              " 0.2148,\n",
              " 0.187,\n",
              " 0.163,\n",
              " 0.1415,\n",
              " 0.1219,\n",
              " 0.1036,\n",
              " 0.0862,\n",
              " 0.0697,\n",
              " 0.0537,\n",
              " 0.0381,\n",
              " 0.0227,\n",
              " 0.0076]"
            ]
          },
          "metadata": {},
          "execution_count": 137
        }
      ]
    },
    {
      "cell_type": "code",
      "source": [
        "tabela['ain'] = ain"
      ],
      "metadata": {
        "id": "fBT1wVdoYI2F"
      },
      "execution_count": 138,
      "outputs": []
    },
    {
      "cell_type": "code",
      "source": [
        "tabela['ain * Xn-i+1 - Xi'] = tabela['ain'] * (tabela['Xn-i+1'] - tabela['Xi'])"
      ],
      "metadata": {
        "id": "VQi6Oa7uYRK5"
      },
      "execution_count": 139,
      "outputs": []
    },
    {
      "cell_type": "code",
      "source": [
        "b = sum(tabela['ain * Xn-i+1 - Xi'])\n",
        "b"
      ],
      "metadata": {
        "colab": {
          "base_uri": "https://localhost:8080/"
        },
        "id": "seU7dasxAYqJ",
        "outputId": "994f6423-83c4-4dbc-e7f8-a59d2e7781fe"
      },
      "execution_count": 140,
      "outputs": [
        {
          "output_type": "execute_result",
          "data": {
            "text/plain": [
              "80.2909"
            ]
          },
          "metadata": {},
          "execution_count": 140
        }
      ]
    },
    {
      "cell_type": "code",
      "source": [
        "Wcalc = b**2 / ((n) * var)\n",
        "Wcalc"
      ],
      "metadata": {
        "colab": {
          "base_uri": "https://localhost:8080/"
        },
        "id": "cc3m_3y4B4sb",
        "outputId": "32b7aca8-ad17-4fbf-8bbd-df0515c63bf4"
      },
      "execution_count": 141,
      "outputs": [
        {
          "output_type": "execute_result",
          "data": {
            "text/plain": [
              "0.9492946938545812"
            ]
          },
          "metadata": {},
          "execution_count": 141
        }
      ]
    },
    {
      "cell_type": "code",
      "source": [
        "tabela"
      ],
      "metadata": {
        "colab": {
          "base_uri": "https://localhost:8080/",
          "height": 520
        },
        "id": "mXexrRDbBBnz",
        "outputId": "7f119551-6b54-4a13-e95a-4fed9481a728"
      },
      "execution_count": 142,
      "outputs": [
        {
          "output_type": "execute_result",
          "data": {
            "text/plain": [
              "     i  n-i+1     ain  Xn-i+1    Xi  ain * Xn-i+1 - Xi\n",
              "0    1     30  0.4254    74.0  11.0            26.8002\n",
              "1    2     29  0.2944    65.0  19.0            13.5424\n",
              "2    3     28  0.2487    61.0  22.0             9.6993\n",
              "3    4     27  0.2148    61.0  24.0             7.9476\n",
              "4    5     26  0.1870    61.0  26.0             6.5450\n",
              "5    6     25  0.1630    58.0  35.0             3.7490\n",
              "6    7     24  0.1415    58.0  36.0             3.1130\n",
              "7    8     23  0.1219    58.0  36.0             2.6818\n",
              "8    9     22  0.1036    57.0  36.0             2.1756\n",
              "9   10     21  0.0862    56.0  38.0             1.5516\n",
              "10  11     20  0.0697    56.0  38.0             1.2546\n",
              "11  12     19  0.0537    55.0  42.0             0.6981\n",
              "12  13     18  0.0381    54.0  43.0             0.4191\n",
              "13  14     17  0.0227    52.0  48.0             0.0908\n",
              "14  15     16  0.0076    52.0  49.0             0.0228"
            ],
            "text/html": [
              "\n",
              "  <div id=\"df-6ffa3636-0e92-43c1-bde7-6d8ebd62f072\" class=\"colab-df-container\">\n",
              "    <div>\n",
              "<style scoped>\n",
              "    .dataframe tbody tr th:only-of-type {\n",
              "        vertical-align: middle;\n",
              "    }\n",
              "\n",
              "    .dataframe tbody tr th {\n",
              "        vertical-align: top;\n",
              "    }\n",
              "\n",
              "    .dataframe thead th {\n",
              "        text-align: right;\n",
              "    }\n",
              "</style>\n",
              "<table border=\"1\" class=\"dataframe\">\n",
              "  <thead>\n",
              "    <tr style=\"text-align: right;\">\n",
              "      <th></th>\n",
              "      <th>i</th>\n",
              "      <th>n-i+1</th>\n",
              "      <th>ain</th>\n",
              "      <th>Xn-i+1</th>\n",
              "      <th>Xi</th>\n",
              "      <th>ain * Xn-i+1 - Xi</th>\n",
              "    </tr>\n",
              "  </thead>\n",
              "  <tbody>\n",
              "    <tr>\n",
              "      <th>0</th>\n",
              "      <td>1</td>\n",
              "      <td>30</td>\n",
              "      <td>0.4254</td>\n",
              "      <td>74.0</td>\n",
              "      <td>11.0</td>\n",
              "      <td>26.8002</td>\n",
              "    </tr>\n",
              "    <tr>\n",
              "      <th>1</th>\n",
              "      <td>2</td>\n",
              "      <td>29</td>\n",
              "      <td>0.2944</td>\n",
              "      <td>65.0</td>\n",
              "      <td>19.0</td>\n",
              "      <td>13.5424</td>\n",
              "    </tr>\n",
              "    <tr>\n",
              "      <th>2</th>\n",
              "      <td>3</td>\n",
              "      <td>28</td>\n",
              "      <td>0.2487</td>\n",
              "      <td>61.0</td>\n",
              "      <td>22.0</td>\n",
              "      <td>9.6993</td>\n",
              "    </tr>\n",
              "    <tr>\n",
              "      <th>3</th>\n",
              "      <td>4</td>\n",
              "      <td>27</td>\n",
              "      <td>0.2148</td>\n",
              "      <td>61.0</td>\n",
              "      <td>24.0</td>\n",
              "      <td>7.9476</td>\n",
              "    </tr>\n",
              "    <tr>\n",
              "      <th>4</th>\n",
              "      <td>5</td>\n",
              "      <td>26</td>\n",
              "      <td>0.1870</td>\n",
              "      <td>61.0</td>\n",
              "      <td>26.0</td>\n",
              "      <td>6.5450</td>\n",
              "    </tr>\n",
              "    <tr>\n",
              "      <th>5</th>\n",
              "      <td>6</td>\n",
              "      <td>25</td>\n",
              "      <td>0.1630</td>\n",
              "      <td>58.0</td>\n",
              "      <td>35.0</td>\n",
              "      <td>3.7490</td>\n",
              "    </tr>\n",
              "    <tr>\n",
              "      <th>6</th>\n",
              "      <td>7</td>\n",
              "      <td>24</td>\n",
              "      <td>0.1415</td>\n",
              "      <td>58.0</td>\n",
              "      <td>36.0</td>\n",
              "      <td>3.1130</td>\n",
              "    </tr>\n",
              "    <tr>\n",
              "      <th>7</th>\n",
              "      <td>8</td>\n",
              "      <td>23</td>\n",
              "      <td>0.1219</td>\n",
              "      <td>58.0</td>\n",
              "      <td>36.0</td>\n",
              "      <td>2.6818</td>\n",
              "    </tr>\n",
              "    <tr>\n",
              "      <th>8</th>\n",
              "      <td>9</td>\n",
              "      <td>22</td>\n",
              "      <td>0.1036</td>\n",
              "      <td>57.0</td>\n",
              "      <td>36.0</td>\n",
              "      <td>2.1756</td>\n",
              "    </tr>\n",
              "    <tr>\n",
              "      <th>9</th>\n",
              "      <td>10</td>\n",
              "      <td>21</td>\n",
              "      <td>0.0862</td>\n",
              "      <td>56.0</td>\n",
              "      <td>38.0</td>\n",
              "      <td>1.5516</td>\n",
              "    </tr>\n",
              "    <tr>\n",
              "      <th>10</th>\n",
              "      <td>11</td>\n",
              "      <td>20</td>\n",
              "      <td>0.0697</td>\n",
              "      <td>56.0</td>\n",
              "      <td>38.0</td>\n",
              "      <td>1.2546</td>\n",
              "    </tr>\n",
              "    <tr>\n",
              "      <th>11</th>\n",
              "      <td>12</td>\n",
              "      <td>19</td>\n",
              "      <td>0.0537</td>\n",
              "      <td>55.0</td>\n",
              "      <td>42.0</td>\n",
              "      <td>0.6981</td>\n",
              "    </tr>\n",
              "    <tr>\n",
              "      <th>12</th>\n",
              "      <td>13</td>\n",
              "      <td>18</td>\n",
              "      <td>0.0381</td>\n",
              "      <td>54.0</td>\n",
              "      <td>43.0</td>\n",
              "      <td>0.4191</td>\n",
              "    </tr>\n",
              "    <tr>\n",
              "      <th>13</th>\n",
              "      <td>14</td>\n",
              "      <td>17</td>\n",
              "      <td>0.0227</td>\n",
              "      <td>52.0</td>\n",
              "      <td>48.0</td>\n",
              "      <td>0.0908</td>\n",
              "    </tr>\n",
              "    <tr>\n",
              "      <th>14</th>\n",
              "      <td>15</td>\n",
              "      <td>16</td>\n",
              "      <td>0.0076</td>\n",
              "      <td>52.0</td>\n",
              "      <td>49.0</td>\n",
              "      <td>0.0228</td>\n",
              "    </tr>\n",
              "  </tbody>\n",
              "</table>\n",
              "</div>\n",
              "    <div class=\"colab-df-buttons\">\n",
              "\n",
              "  <div class=\"colab-df-container\">\n",
              "    <button class=\"colab-df-convert\" onclick=\"convertToInteractive('df-6ffa3636-0e92-43c1-bde7-6d8ebd62f072')\"\n",
              "            title=\"Convert this dataframe to an interactive table.\"\n",
              "            style=\"display:none;\">\n",
              "\n",
              "  <svg xmlns=\"http://www.w3.org/2000/svg\" height=\"24px\" viewBox=\"0 -960 960 960\">\n",
              "    <path d=\"M120-120v-720h720v720H120Zm60-500h600v-160H180v160Zm220 220h160v-160H400v160Zm0 220h160v-160H400v160ZM180-400h160v-160H180v160Zm440 0h160v-160H620v160ZM180-180h160v-160H180v160Zm440 0h160v-160H620v160Z\"/>\n",
              "  </svg>\n",
              "    </button>\n",
              "\n",
              "  <style>\n",
              "    .colab-df-container {\n",
              "      display:flex;\n",
              "      gap: 12px;\n",
              "    }\n",
              "\n",
              "    .colab-df-convert {\n",
              "      background-color: #E8F0FE;\n",
              "      border: none;\n",
              "      border-radius: 50%;\n",
              "      cursor: pointer;\n",
              "      display: none;\n",
              "      fill: #1967D2;\n",
              "      height: 32px;\n",
              "      padding: 0 0 0 0;\n",
              "      width: 32px;\n",
              "    }\n",
              "\n",
              "    .colab-df-convert:hover {\n",
              "      background-color: #E2EBFA;\n",
              "      box-shadow: 0px 1px 2px rgba(60, 64, 67, 0.3), 0px 1px 3px 1px rgba(60, 64, 67, 0.15);\n",
              "      fill: #174EA6;\n",
              "    }\n",
              "\n",
              "    .colab-df-buttons div {\n",
              "      margin-bottom: 4px;\n",
              "    }\n",
              "\n",
              "    [theme=dark] .colab-df-convert {\n",
              "      background-color: #3B4455;\n",
              "      fill: #D2E3FC;\n",
              "    }\n",
              "\n",
              "    [theme=dark] .colab-df-convert:hover {\n",
              "      background-color: #434B5C;\n",
              "      box-shadow: 0px 1px 3px 1px rgba(0, 0, 0, 0.15);\n",
              "      filter: drop-shadow(0px 1px 2px rgba(0, 0, 0, 0.3));\n",
              "      fill: #FFFFFF;\n",
              "    }\n",
              "  </style>\n",
              "\n",
              "    <script>\n",
              "      const buttonEl =\n",
              "        document.querySelector('#df-6ffa3636-0e92-43c1-bde7-6d8ebd62f072 button.colab-df-convert');\n",
              "      buttonEl.style.display =\n",
              "        google.colab.kernel.accessAllowed ? 'block' : 'none';\n",
              "\n",
              "      async function convertToInteractive(key) {\n",
              "        const element = document.querySelector('#df-6ffa3636-0e92-43c1-bde7-6d8ebd62f072');\n",
              "        const dataTable =\n",
              "          await google.colab.kernel.invokeFunction('convertToInteractive',\n",
              "                                                    [key], {});\n",
              "        if (!dataTable) return;\n",
              "\n",
              "        const docLinkHtml = 'Like what you see? Visit the ' +\n",
              "          '<a target=\"_blank\" href=https://colab.research.google.com/notebooks/data_table.ipynb>data table notebook</a>'\n",
              "          + ' to learn more about interactive tables.';\n",
              "        element.innerHTML = '';\n",
              "        dataTable['output_type'] = 'display_data';\n",
              "        await google.colab.output.renderOutput(dataTable, element);\n",
              "        const docLink = document.createElement('div');\n",
              "        docLink.innerHTML = docLinkHtml;\n",
              "        element.appendChild(docLink);\n",
              "      }\n",
              "    </script>\n",
              "  </div>\n",
              "\n",
              "\n",
              "<div id=\"df-abb487a1-4ab3-4f49-8d94-778c6833a5fd\">\n",
              "  <button class=\"colab-df-quickchart\" onclick=\"quickchart('df-abb487a1-4ab3-4f49-8d94-778c6833a5fd')\"\n",
              "            title=\"Suggest charts\"\n",
              "            style=\"display:none;\">\n",
              "\n",
              "<svg xmlns=\"http://www.w3.org/2000/svg\" height=\"24px\"viewBox=\"0 0 24 24\"\n",
              "     width=\"24px\">\n",
              "    <g>\n",
              "        <path d=\"M19 3H5c-1.1 0-2 .9-2 2v14c0 1.1.9 2 2 2h14c1.1 0 2-.9 2-2V5c0-1.1-.9-2-2-2zM9 17H7v-7h2v7zm4 0h-2V7h2v10zm4 0h-2v-4h2v4z\"/>\n",
              "    </g>\n",
              "</svg>\n",
              "  </button>\n",
              "\n",
              "<style>\n",
              "  .colab-df-quickchart {\n",
              "      --bg-color: #E8F0FE;\n",
              "      --fill-color: #1967D2;\n",
              "      --hover-bg-color: #E2EBFA;\n",
              "      --hover-fill-color: #174EA6;\n",
              "      --disabled-fill-color: #AAA;\n",
              "      --disabled-bg-color: #DDD;\n",
              "  }\n",
              "\n",
              "  [theme=dark] .colab-df-quickchart {\n",
              "      --bg-color: #3B4455;\n",
              "      --fill-color: #D2E3FC;\n",
              "      --hover-bg-color: #434B5C;\n",
              "      --hover-fill-color: #FFFFFF;\n",
              "      --disabled-bg-color: #3B4455;\n",
              "      --disabled-fill-color: #666;\n",
              "  }\n",
              "\n",
              "  .colab-df-quickchart {\n",
              "    background-color: var(--bg-color);\n",
              "    border: none;\n",
              "    border-radius: 50%;\n",
              "    cursor: pointer;\n",
              "    display: none;\n",
              "    fill: var(--fill-color);\n",
              "    height: 32px;\n",
              "    padding: 0;\n",
              "    width: 32px;\n",
              "  }\n",
              "\n",
              "  .colab-df-quickchart:hover {\n",
              "    background-color: var(--hover-bg-color);\n",
              "    box-shadow: 0 1px 2px rgba(60, 64, 67, 0.3), 0 1px 3px 1px rgba(60, 64, 67, 0.15);\n",
              "    fill: var(--button-hover-fill-color);\n",
              "  }\n",
              "\n",
              "  .colab-df-quickchart-complete:disabled,\n",
              "  .colab-df-quickchart-complete:disabled:hover {\n",
              "    background-color: var(--disabled-bg-color);\n",
              "    fill: var(--disabled-fill-color);\n",
              "    box-shadow: none;\n",
              "  }\n",
              "\n",
              "  .colab-df-spinner {\n",
              "    border: 2px solid var(--fill-color);\n",
              "    border-color: transparent;\n",
              "    border-bottom-color: var(--fill-color);\n",
              "    animation:\n",
              "      spin 1s steps(1) infinite;\n",
              "  }\n",
              "\n",
              "  @keyframes spin {\n",
              "    0% {\n",
              "      border-color: transparent;\n",
              "      border-bottom-color: var(--fill-color);\n",
              "      border-left-color: var(--fill-color);\n",
              "    }\n",
              "    20% {\n",
              "      border-color: transparent;\n",
              "      border-left-color: var(--fill-color);\n",
              "      border-top-color: var(--fill-color);\n",
              "    }\n",
              "    30% {\n",
              "      border-color: transparent;\n",
              "      border-left-color: var(--fill-color);\n",
              "      border-top-color: var(--fill-color);\n",
              "      border-right-color: var(--fill-color);\n",
              "    }\n",
              "    40% {\n",
              "      border-color: transparent;\n",
              "      border-right-color: var(--fill-color);\n",
              "      border-top-color: var(--fill-color);\n",
              "    }\n",
              "    60% {\n",
              "      border-color: transparent;\n",
              "      border-right-color: var(--fill-color);\n",
              "    }\n",
              "    80% {\n",
              "      border-color: transparent;\n",
              "      border-right-color: var(--fill-color);\n",
              "      border-bottom-color: var(--fill-color);\n",
              "    }\n",
              "    90% {\n",
              "      border-color: transparent;\n",
              "      border-bottom-color: var(--fill-color);\n",
              "    }\n",
              "  }\n",
              "</style>\n",
              "\n",
              "  <script>\n",
              "    async function quickchart(key) {\n",
              "      const quickchartButtonEl =\n",
              "        document.querySelector('#' + key + ' button');\n",
              "      quickchartButtonEl.disabled = true;  // To prevent multiple clicks.\n",
              "      quickchartButtonEl.classList.add('colab-df-spinner');\n",
              "      try {\n",
              "        const charts = await google.colab.kernel.invokeFunction(\n",
              "            'suggestCharts', [key], {});\n",
              "      } catch (error) {\n",
              "        console.error('Error during call to suggestCharts:', error);\n",
              "      }\n",
              "      quickchartButtonEl.classList.remove('colab-df-spinner');\n",
              "      quickchartButtonEl.classList.add('colab-df-quickchart-complete');\n",
              "    }\n",
              "    (() => {\n",
              "      let quickchartButtonEl =\n",
              "        document.querySelector('#df-abb487a1-4ab3-4f49-8d94-778c6833a5fd button');\n",
              "      quickchartButtonEl.style.display =\n",
              "        google.colab.kernel.accessAllowed ? 'block' : 'none';\n",
              "    })();\n",
              "  </script>\n",
              "</div>\n",
              "\n",
              "  <div id=\"id_f4ab014e-faf3-4508-947c-7853a10cc7fc\">\n",
              "    <style>\n",
              "      .colab-df-generate {\n",
              "        background-color: #E8F0FE;\n",
              "        border: none;\n",
              "        border-radius: 50%;\n",
              "        cursor: pointer;\n",
              "        display: none;\n",
              "        fill: #1967D2;\n",
              "        height: 32px;\n",
              "        padding: 0 0 0 0;\n",
              "        width: 32px;\n",
              "      }\n",
              "\n",
              "      .colab-df-generate:hover {\n",
              "        background-color: #E2EBFA;\n",
              "        box-shadow: 0px 1px 2px rgba(60, 64, 67, 0.3), 0px 1px 3px 1px rgba(60, 64, 67, 0.15);\n",
              "        fill: #174EA6;\n",
              "      }\n",
              "\n",
              "      [theme=dark] .colab-df-generate {\n",
              "        background-color: #3B4455;\n",
              "        fill: #D2E3FC;\n",
              "      }\n",
              "\n",
              "      [theme=dark] .colab-df-generate:hover {\n",
              "        background-color: #434B5C;\n",
              "        box-shadow: 0px 1px 3px 1px rgba(0, 0, 0, 0.15);\n",
              "        filter: drop-shadow(0px 1px 2px rgba(0, 0, 0, 0.3));\n",
              "        fill: #FFFFFF;\n",
              "      }\n",
              "    </style>\n",
              "    <button class=\"colab-df-generate\" onclick=\"generateWithVariable('tabela')\"\n",
              "            title=\"Generate code using this dataframe.\"\n",
              "            style=\"display:none;\">\n",
              "\n",
              "  <svg xmlns=\"http://www.w3.org/2000/svg\" height=\"24px\"viewBox=\"0 0 24 24\"\n",
              "       width=\"24px\">\n",
              "    <path d=\"M7,19H8.4L18.45,9,17,7.55,7,17.6ZM5,21V16.75L18.45,3.32a2,2,0,0,1,2.83,0l1.4,1.43a1.91,1.91,0,0,1,.58,1.4,1.91,1.91,0,0,1-.58,1.4L9.25,21ZM18.45,9,17,7.55Zm-12,3A5.31,5.31,0,0,0,4.9,8.1,5.31,5.31,0,0,0,1,6.5,5.31,5.31,0,0,0,4.9,4.9,5.31,5.31,0,0,0,6.5,1,5.31,5.31,0,0,0,8.1,4.9,5.31,5.31,0,0,0,12,6.5,5.46,5.46,0,0,0,6.5,12Z\"/>\n",
              "  </svg>\n",
              "    </button>\n",
              "    <script>\n",
              "      (() => {\n",
              "      const buttonEl =\n",
              "        document.querySelector('#id_f4ab014e-faf3-4508-947c-7853a10cc7fc button.colab-df-generate');\n",
              "      buttonEl.style.display =\n",
              "        google.colab.kernel.accessAllowed ? 'block' : 'none';\n",
              "\n",
              "      buttonEl.onclick = () => {\n",
              "        google.colab.notebook.generateWithVariable('tabela');\n",
              "      }\n",
              "      })();\n",
              "    </script>\n",
              "  </div>\n",
              "\n",
              "    </div>\n",
              "  </div>\n"
            ],
            "application/vnd.google.colaboratory.intrinsic+json": {
              "type": "dataframe",
              "variable_name": "tabela",
              "summary": "{\n  \"name\": \"tabela\",\n  \"rows\": 15,\n  \"fields\": [\n    {\n      \"column\": \"i\",\n      \"properties\": {\n        \"dtype\": \"number\",\n        \"std\": 4,\n        \"min\": 1,\n        \"max\": 15,\n        \"num_unique_values\": 15,\n        \"samples\": [\n          10,\n          12,\n          1\n        ],\n        \"semantic_type\": \"\",\n        \"description\": \"\"\n      }\n    },\n    {\n      \"column\": \"n-i+1\",\n      \"properties\": {\n        \"dtype\": \"number\",\n        \"std\": 4,\n        \"min\": 16,\n        \"max\": 30,\n        \"num_unique_values\": 15,\n        \"samples\": [\n          21,\n          19,\n          30\n        ],\n        \"semantic_type\": \"\",\n        \"description\": \"\"\n      }\n    },\n    {\n      \"column\": \"ain\",\n      \"properties\": {\n        \"dtype\": \"number\",\n        \"std\": 0.11453141303340571,\n        \"min\": 0.0076,\n        \"max\": 0.4254,\n        \"num_unique_values\": 15,\n        \"samples\": [\n          0.0862,\n          0.0537,\n          0.4254\n        ],\n        \"semantic_type\": \"\",\n        \"description\": \"\"\n      }\n    },\n    {\n      \"column\": \"Xn-i+1\",\n      \"properties\": {\n        \"dtype\": \"number\",\n        \"std\": 5.566053573309583,\n        \"min\": 52.0,\n        \"max\": 74.0,\n        \"num_unique_values\": 9,\n        \"samples\": [\n          54.0,\n          65.0,\n          56.0\n        ],\n        \"semantic_type\": \"\",\n        \"description\": \"\"\n      }\n    },\n    {\n      \"column\": \"Xi\",\n      \"properties\": {\n        \"dtype\": \"number\",\n        \"std\": 10.92092792150313,\n        \"min\": 11.0,\n        \"max\": 49.0,\n        \"num_unique_values\": 12,\n        \"samples\": [\n          48.0,\n          43.0,\n          11.0\n        ],\n        \"semantic_type\": \"\",\n        \"description\": \"\"\n      }\n    },\n    {\n      \"column\": \"ain * Xn-i+1 - Xi\",\n      \"properties\": {\n        \"dtype\": \"number\",\n        \"std\": 7.132792284078483,\n        \"min\": 0.0228,\n        \"max\": 26.8002,\n        \"num_unique_values\": 15,\n        \"samples\": [\n          1.5516,\n          0.6980999999999999,\n          26.8002\n        ],\n        \"semantic_type\": \"\",\n        \"description\": \"\"\n      }\n    }\n  ]\n}"
            }
          },
          "metadata": {},
          "execution_count": 142
        }
      ]
    },
    {
      "cell_type": "code",
      "execution_count": 143,
      "metadata": {
        "id": "SODAGdtl9rjd"
      },
      "outputs": [],
      "source": [
        "def shapiro_wilk_critico(n):\n",
        "    # alfa = 0.05 (95% de confiança)\n",
        "\n",
        "    if n <= 30:\n",
        "        # valores entre 3 e 30\n",
        "        shapiro_critico = [0.767, 0.748, 0.762, 0.788, 0.803, 0.818, 0.829, 0.842, 0.850, 0.859,\n",
        "                      0.866, 0.874, 0.881, 0.887, 0.892, 0.897, 0.901, 0.905, 0.908, 0.911,\n",
        "                      0.914, 0.916, 0.918, 0.920, 0.923, 0.924, 0.926, 0.927]\n",
        "        sw_critico = shapiro_critico[n - 3]\n",
        "    else:\n",
        "        pass\n",
        "\n",
        "    return sw_critico"
      ]
    },
    {
      "cell_type": "code",
      "execution_count": 144,
      "metadata": {
        "id": "B2cyqsbk7WKP",
        "colab": {
          "base_uri": "https://localhost:8080/"
        },
        "outputId": "68af58b0-1088-4c4d-b570-e914533951d2"
      },
      "outputs": [
        {
          "output_type": "execute_result",
          "data": {
            "text/plain": [
              "0.927"
            ]
          },
          "metadata": {},
          "execution_count": 144
        }
      ],
      "source": [
        "Wcritico = shapiro_wilk_critico(cont)\n",
        "Wcritico"
      ]
    },
    {
      "cell_type": "code",
      "execution_count": 145,
      "metadata": {
        "id": "KNYpDLfi7grT",
        "colab": {
          "base_uri": "https://localhost:8080/"
        },
        "outputId": "c19bb69a-91cf-48f8-9e34-788871dfbef8"
      },
      "outputs": [
        {
          "output_type": "stream",
          "name": "stdout",
          "text": [
            "Com 95% de confianca, não temos evidências para rejeitar a hipótese de normalidade dos dados, segundo o teste de Shapiro-Wilk\n"
          ]
        }
      ],
      "source": [
        "if Wcalc > Wcritico:\n",
        "  print(\"Com 95% de confianca, não temos evidências para rejeitar a hipótese de normalidade dos dados, segundo o teste de Shapiro-Wilk\")\n",
        "else:\n",
        "  print(\"Com 95% de confianca, temos evidências para rejeitar a hipótese de normalidade dos dados, segundo o teste de Shapiro-Wilk\")"
      ]
    },
    {
      "cell_type": "code",
      "source": [
        "from scipy.stats import shapiro\n",
        "from numpy.random import randn\n",
        "\n",
        "# Realizar o teste de Shapiro-Wilk\n",
        "stat, p = shapiro(valores)\n",
        "\n",
        "# Exibir a estatística de teste e o valor p\n",
        "print(\"Estatística de Teste:\", stat)\n",
        "print(\"Valor p:\", p)"
      ],
      "metadata": {
        "id": "tW6XaO_jEAhy",
        "colab": {
          "base_uri": "https://localhost:8080/"
        },
        "outputId": "bd6a07e7-4bfa-427d-dd26-06fc2ebf350a"
      },
      "execution_count": 146,
      "outputs": [
        {
          "output_type": "stream",
          "name": "stdout",
          "text": [
            "Estatística de Teste: 0.9505637884140015\n",
            "Valor p: 0.1750389039516449\n"
          ]
        }
      ]
    }
  ],
  "metadata": {
    "colab": {
      "provenance": [],
      "include_colab_link": true
    },
    "kernelspec": {
      "display_name": "Python 3",
      "name": "python3"
    },
    "language_info": {
      "name": "python"
    }
  },
  "nbformat": 4,
  "nbformat_minor": 0
}